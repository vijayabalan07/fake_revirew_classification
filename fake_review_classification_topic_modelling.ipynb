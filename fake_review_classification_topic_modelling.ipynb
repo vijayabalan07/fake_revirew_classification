{
  "cells": [
    {
      "cell_type": "markdown",
      "metadata": {
        "id": "view-in-github",
        "colab_type": "text"
      },
      "source": [
        "<a href=\"https://colab.research.google.com/github/vijayabalan07/fake_revirew_classification/blob/main/fake_review_classification_topic_modelling.ipynb\" target=\"_parent\"><img src=\"https://colab.research.google.com/assets/colab-badge.svg\" alt=\"Open In Colab\"/></a>"
      ]
    },
    {
      "cell_type": "code",
      "execution_count": null,
      "metadata": {
        "colab": {
          "base_uri": "https://localhost:8080/",
          "height": 206
        },
        "id": "TcJAjv4nx_xu",
        "outputId": "260e8644-2ab6-40a5-eaa1-9f39453bbe26"
      },
      "outputs": [
        {
          "output_type": "execute_result",
          "data": {
            "text/plain": [
              "             category  rating label  \\\n",
              "0  Home_and_Kitchen_5     5.0    CG   \n",
              "1  Home_and_Kitchen_5     5.0    CG   \n",
              "2  Home_and_Kitchen_5     5.0    CG   \n",
              "3  Home_and_Kitchen_5     1.0    CG   \n",
              "4  Home_and_Kitchen_5     5.0    CG   \n",
              "\n",
              "                                               text_  \n",
              "0  Love this!  Well made, sturdy, and very comfor...  \n",
              "1  love it, a great upgrade from the original.  I...  \n",
              "2  This pillow saved my back. I love the look and...  \n",
              "3  Missing information on how to use it, but it i...  \n",
              "4  Very nice set. Good quality. We have had the s...  "
            ],
            "text/html": [
              "\n",
              "  <div id=\"df-99f50e64-885f-461a-812c-20dd4b7fe243\" class=\"colab-df-container\">\n",
              "    <div>\n",
              "<style scoped>\n",
              "    .dataframe tbody tr th:only-of-type {\n",
              "        vertical-align: middle;\n",
              "    }\n",
              "\n",
              "    .dataframe tbody tr th {\n",
              "        vertical-align: top;\n",
              "    }\n",
              "\n",
              "    .dataframe thead th {\n",
              "        text-align: right;\n",
              "    }\n",
              "</style>\n",
              "<table border=\"1\" class=\"dataframe\">\n",
              "  <thead>\n",
              "    <tr style=\"text-align: right;\">\n",
              "      <th></th>\n",
              "      <th>category</th>\n",
              "      <th>rating</th>\n",
              "      <th>label</th>\n",
              "      <th>text_</th>\n",
              "    </tr>\n",
              "  </thead>\n",
              "  <tbody>\n",
              "    <tr>\n",
              "      <th>0</th>\n",
              "      <td>Home_and_Kitchen_5</td>\n",
              "      <td>5.0</td>\n",
              "      <td>CG</td>\n",
              "      <td>Love this!  Well made, sturdy, and very comfor...</td>\n",
              "    </tr>\n",
              "    <tr>\n",
              "      <th>1</th>\n",
              "      <td>Home_and_Kitchen_5</td>\n",
              "      <td>5.0</td>\n",
              "      <td>CG</td>\n",
              "      <td>love it, a great upgrade from the original.  I...</td>\n",
              "    </tr>\n",
              "    <tr>\n",
              "      <th>2</th>\n",
              "      <td>Home_and_Kitchen_5</td>\n",
              "      <td>5.0</td>\n",
              "      <td>CG</td>\n",
              "      <td>This pillow saved my back. I love the look and...</td>\n",
              "    </tr>\n",
              "    <tr>\n",
              "      <th>3</th>\n",
              "      <td>Home_and_Kitchen_5</td>\n",
              "      <td>1.0</td>\n",
              "      <td>CG</td>\n",
              "      <td>Missing information on how to use it, but it i...</td>\n",
              "    </tr>\n",
              "    <tr>\n",
              "      <th>4</th>\n",
              "      <td>Home_and_Kitchen_5</td>\n",
              "      <td>5.0</td>\n",
              "      <td>CG</td>\n",
              "      <td>Very nice set. Good quality. We have had the s...</td>\n",
              "    </tr>\n",
              "  </tbody>\n",
              "</table>\n",
              "</div>\n",
              "    <div class=\"colab-df-buttons\">\n",
              "\n",
              "  <div class=\"colab-df-container\">\n",
              "    <button class=\"colab-df-convert\" onclick=\"convertToInteractive('df-99f50e64-885f-461a-812c-20dd4b7fe243')\"\n",
              "            title=\"Convert this dataframe to an interactive table.\"\n",
              "            style=\"display:none;\">\n",
              "\n",
              "  <svg xmlns=\"http://www.w3.org/2000/svg\" height=\"24px\" viewBox=\"0 -960 960 960\">\n",
              "    <path d=\"M120-120v-720h720v720H120Zm60-500h600v-160H180v160Zm220 220h160v-160H400v160Zm0 220h160v-160H400v160ZM180-400h160v-160H180v160Zm440 0h160v-160H620v160ZM180-180h160v-160H180v160Zm440 0h160v-160H620v160Z\"/>\n",
              "  </svg>\n",
              "    </button>\n",
              "\n",
              "  <style>\n",
              "    .colab-df-container {\n",
              "      display:flex;\n",
              "      gap: 12px;\n",
              "    }\n",
              "\n",
              "    .colab-df-convert {\n",
              "      background-color: #E8F0FE;\n",
              "      border: none;\n",
              "      border-radius: 50%;\n",
              "      cursor: pointer;\n",
              "      display: none;\n",
              "      fill: #1967D2;\n",
              "      height: 32px;\n",
              "      padding: 0 0 0 0;\n",
              "      width: 32px;\n",
              "    }\n",
              "\n",
              "    .colab-df-convert:hover {\n",
              "      background-color: #E2EBFA;\n",
              "      box-shadow: 0px 1px 2px rgba(60, 64, 67, 0.3), 0px 1px 3px 1px rgba(60, 64, 67, 0.15);\n",
              "      fill: #174EA6;\n",
              "    }\n",
              "\n",
              "    .colab-df-buttons div {\n",
              "      margin-bottom: 4px;\n",
              "    }\n",
              "\n",
              "    [theme=dark] .colab-df-convert {\n",
              "      background-color: #3B4455;\n",
              "      fill: #D2E3FC;\n",
              "    }\n",
              "\n",
              "    [theme=dark] .colab-df-convert:hover {\n",
              "      background-color: #434B5C;\n",
              "      box-shadow: 0px 1px 3px 1px rgba(0, 0, 0, 0.15);\n",
              "      filter: drop-shadow(0px 1px 2px rgba(0, 0, 0, 0.3));\n",
              "      fill: #FFFFFF;\n",
              "    }\n",
              "  </style>\n",
              "\n",
              "    <script>\n",
              "      const buttonEl =\n",
              "        document.querySelector('#df-99f50e64-885f-461a-812c-20dd4b7fe243 button.colab-df-convert');\n",
              "      buttonEl.style.display =\n",
              "        google.colab.kernel.accessAllowed ? 'block' : 'none';\n",
              "\n",
              "      async function convertToInteractive(key) {\n",
              "        const element = document.querySelector('#df-99f50e64-885f-461a-812c-20dd4b7fe243');\n",
              "        const dataTable =\n",
              "          await google.colab.kernel.invokeFunction('convertToInteractive',\n",
              "                                                    [key], {});\n",
              "        if (!dataTable) return;\n",
              "\n",
              "        const docLinkHtml = 'Like what you see? Visit the ' +\n",
              "          '<a target=\"_blank\" href=https://colab.research.google.com/notebooks/data_table.ipynb>data table notebook</a>'\n",
              "          + ' to learn more about interactive tables.';\n",
              "        element.innerHTML = '';\n",
              "        dataTable['output_type'] = 'display_data';\n",
              "        await google.colab.output.renderOutput(dataTable, element);\n",
              "        const docLink = document.createElement('div');\n",
              "        docLink.innerHTML = docLinkHtml;\n",
              "        element.appendChild(docLink);\n",
              "      }\n",
              "    </script>\n",
              "  </div>\n",
              "\n",
              "\n",
              "<div id=\"df-8420badd-1049-49c1-80e6-aae66f188015\">\n",
              "  <button class=\"colab-df-quickchart\" onclick=\"quickchart('df-8420badd-1049-49c1-80e6-aae66f188015')\"\n",
              "            title=\"Suggest charts\"\n",
              "            style=\"display:none;\">\n",
              "\n",
              "<svg xmlns=\"http://www.w3.org/2000/svg\" height=\"24px\"viewBox=\"0 0 24 24\"\n",
              "     width=\"24px\">\n",
              "    <g>\n",
              "        <path d=\"M19 3H5c-1.1 0-2 .9-2 2v14c0 1.1.9 2 2 2h14c1.1 0 2-.9 2-2V5c0-1.1-.9-2-2-2zM9 17H7v-7h2v7zm4 0h-2V7h2v10zm4 0h-2v-4h2v4z\"/>\n",
              "    </g>\n",
              "</svg>\n",
              "  </button>\n",
              "\n",
              "<style>\n",
              "  .colab-df-quickchart {\n",
              "      --bg-color: #E8F0FE;\n",
              "      --fill-color: #1967D2;\n",
              "      --hover-bg-color: #E2EBFA;\n",
              "      --hover-fill-color: #174EA6;\n",
              "      --disabled-fill-color: #AAA;\n",
              "      --disabled-bg-color: #DDD;\n",
              "  }\n",
              "\n",
              "  [theme=dark] .colab-df-quickchart {\n",
              "      --bg-color: #3B4455;\n",
              "      --fill-color: #D2E3FC;\n",
              "      --hover-bg-color: #434B5C;\n",
              "      --hover-fill-color: #FFFFFF;\n",
              "      --disabled-bg-color: #3B4455;\n",
              "      --disabled-fill-color: #666;\n",
              "  }\n",
              "\n",
              "  .colab-df-quickchart {\n",
              "    background-color: var(--bg-color);\n",
              "    border: none;\n",
              "    border-radius: 50%;\n",
              "    cursor: pointer;\n",
              "    display: none;\n",
              "    fill: var(--fill-color);\n",
              "    height: 32px;\n",
              "    padding: 0;\n",
              "    width: 32px;\n",
              "  }\n",
              "\n",
              "  .colab-df-quickchart:hover {\n",
              "    background-color: var(--hover-bg-color);\n",
              "    box-shadow: 0 1px 2px rgba(60, 64, 67, 0.3), 0 1px 3px 1px rgba(60, 64, 67, 0.15);\n",
              "    fill: var(--button-hover-fill-color);\n",
              "  }\n",
              "\n",
              "  .colab-df-quickchart-complete:disabled,\n",
              "  .colab-df-quickchart-complete:disabled:hover {\n",
              "    background-color: var(--disabled-bg-color);\n",
              "    fill: var(--disabled-fill-color);\n",
              "    box-shadow: none;\n",
              "  }\n",
              "\n",
              "  .colab-df-spinner {\n",
              "    border: 2px solid var(--fill-color);\n",
              "    border-color: transparent;\n",
              "    border-bottom-color: var(--fill-color);\n",
              "    animation:\n",
              "      spin 1s steps(1) infinite;\n",
              "  }\n",
              "\n",
              "  @keyframes spin {\n",
              "    0% {\n",
              "      border-color: transparent;\n",
              "      border-bottom-color: var(--fill-color);\n",
              "      border-left-color: var(--fill-color);\n",
              "    }\n",
              "    20% {\n",
              "      border-color: transparent;\n",
              "      border-left-color: var(--fill-color);\n",
              "      border-top-color: var(--fill-color);\n",
              "    }\n",
              "    30% {\n",
              "      border-color: transparent;\n",
              "      border-left-color: var(--fill-color);\n",
              "      border-top-color: var(--fill-color);\n",
              "      border-right-color: var(--fill-color);\n",
              "    }\n",
              "    40% {\n",
              "      border-color: transparent;\n",
              "      border-right-color: var(--fill-color);\n",
              "      border-top-color: var(--fill-color);\n",
              "    }\n",
              "    60% {\n",
              "      border-color: transparent;\n",
              "      border-right-color: var(--fill-color);\n",
              "    }\n",
              "    80% {\n",
              "      border-color: transparent;\n",
              "      border-right-color: var(--fill-color);\n",
              "      border-bottom-color: var(--fill-color);\n",
              "    }\n",
              "    90% {\n",
              "      border-color: transparent;\n",
              "      border-bottom-color: var(--fill-color);\n",
              "    }\n",
              "  }\n",
              "</style>\n",
              "\n",
              "  <script>\n",
              "    async function quickchart(key) {\n",
              "      const quickchartButtonEl =\n",
              "        document.querySelector('#' + key + ' button');\n",
              "      quickchartButtonEl.disabled = true;  // To prevent multiple clicks.\n",
              "      quickchartButtonEl.classList.add('colab-df-spinner');\n",
              "      try {\n",
              "        const charts = await google.colab.kernel.invokeFunction(\n",
              "            'suggestCharts', [key], {});\n",
              "      } catch (error) {\n",
              "        console.error('Error during call to suggestCharts:', error);\n",
              "      }\n",
              "      quickchartButtonEl.classList.remove('colab-df-spinner');\n",
              "      quickchartButtonEl.classList.add('colab-df-quickchart-complete');\n",
              "    }\n",
              "    (() => {\n",
              "      let quickchartButtonEl =\n",
              "        document.querySelector('#df-8420badd-1049-49c1-80e6-aae66f188015 button');\n",
              "      quickchartButtonEl.style.display =\n",
              "        google.colab.kernel.accessAllowed ? 'block' : 'none';\n",
              "    })();\n",
              "  </script>\n",
              "</div>\n",
              "\n",
              "    </div>\n",
              "  </div>\n"
            ],
            "application/vnd.google.colaboratory.intrinsic+json": {
              "type": "dataframe",
              "variable_name": "reviews_data",
              "summary": "{\n  \"name\": \"reviews_data\",\n  \"rows\": 40432,\n  \"fields\": [\n    {\n      \"column\": \"category\",\n      \"properties\": {\n        \"dtype\": \"category\",\n        \"num_unique_values\": 10,\n        \"samples\": [\n          \"Toys_and_Games_5\",\n          \"Sports_and_Outdoors_5\",\n          \"Pet_Supplies_5\"\n        ],\n        \"semantic_type\": \"\",\n        \"description\": \"\"\n      }\n    },\n    {\n      \"column\": \"rating\",\n      \"properties\": {\n        \"dtype\": \"number\",\n        \"std\": 1.1443539194684442,\n        \"min\": 1.0,\n        \"max\": 5.0,\n        \"num_unique_values\": 5,\n        \"samples\": [\n          1.0,\n          4.0,\n          3.0\n        ],\n        \"semantic_type\": \"\",\n        \"description\": \"\"\n      }\n    },\n    {\n      \"column\": \"label\",\n      \"properties\": {\n        \"dtype\": \"category\",\n        \"num_unique_values\": 2,\n        \"samples\": [\n          \"OR\",\n          \"CG\"\n        ],\n        \"semantic_type\": \"\",\n        \"description\": \"\"\n      }\n    },\n    {\n      \"column\": \"text_\",\n      \"properties\": {\n        \"dtype\": \"string\",\n        \"num_unique_values\": 40412,\n        \"samples\": [\n          \"It works well with my old ones, as long as you keep your hands on the handle and the other two fingers on the front of the switch.\",\n          \"I've not played the adult version of Cashflow so can't make a comparison but this game does a good job of teaching a basic tenet from the Rich Dad series: amass sources of passive income!  I bought this to play with my six year old because he's very interested in money and investing.  I thought this might be a good introduction to some basic concepts - and I believe it is a good introduction.  The instructions are not great, good enough but not great.  The instructions describe that you become a winner when your passive income exceeds your expenses - but there isn't really a winner of the game.  Small nuance but each individual \\\"wins\\\" by having passive income exceed expenses but the instructions don't state the first one to get there wins.\\n\\nEach player gets a \\\"financial statement\\\" as their game card.  During play, each player gains passive income sources and expenses.  The players keep track of their passive income vs expenses on the financial statement.  When your passive income exceeds expenses... you win!  The game does a good job of reinforcing this concept and also does a good job providing examples of passive income sources (rental property, owning a business, etc.).  It's at a pretty basic level so understandable for kids; even my six year old understands the game well enough to be able to formulate a strategy or predict what he needs on the next turn in order to win.\\n\\nWould recommend as a basic concept teaching tool.  And it's a fun game, too!\"\n        ],\n        \"semantic_type\": \"\",\n        \"description\": \"\"\n      }\n    }\n  ]\n}"
            }
          },
          "metadata": {},
          "execution_count": 1
        }
      ],
      "source": [
        "import pandas as pd\n",
        "\n",
        "# Load the dataset to inspect its structure\n",
        "file_path = '/content/fake reviews dataset.csv'\n",
        "reviews_data = pd.read_csv(file_path)\n",
        "\n",
        "# Display the first few rows of the dataset\n",
        "reviews_data.head()\n"
      ]
    },
    {
      "cell_type": "code",
      "execution_count": null,
      "metadata": {
        "id": "kK4PdnfMXtm2"
      },
      "outputs": [],
      "source": []
    },
    {
      "cell_type": "code",
      "execution_count": null,
      "metadata": {
        "id": "buM-P0L_XuKG"
      },
      "outputs": [],
      "source": []
    },
    {
      "cell_type": "code",
      "execution_count": null,
      "metadata": {
        "colab": {
          "base_uri": "https://localhost:8080/"
        },
        "id": "EKz6IaGey5j5",
        "outputId": "1d7b3441-efcd-43bc-b89b-cac5d02c6d55"
      },
      "outputs": [
        {
          "output_type": "stream",
          "name": "stderr",
          "text": [
            "[nltk_data] Downloading package stopwords to /root/nltk_data...\n",
            "[nltk_data]   Unzipping corpora/stopwords.zip.\n",
            "[nltk_data] Downloading package wordnet to /root/nltk_data...\n"
          ]
        },
        {
          "output_type": "execute_result",
          "data": {
            "text/plain": [
              "(                                               text_  \\\n",
              " 0  Love this!  Well made, sturdy, and very comfor...   \n",
              " 1  love it, a great upgrade from the original.  I...   \n",
              " 2  This pillow saved my back. I love the look and...   \n",
              " 3  Missing information on how to use it, but it i...   \n",
              " 4  Very nice set. Good quality. We have had the s...   \n",
              " \n",
              "                                         cleaned_text  \n",
              " 0  love well made sturdy comfortable love itvery ...  \n",
              " 1   love great upgrade original ive mine couple year  \n",
              " 2            pillow saved back love look feel pillow  \n",
              " 3        missing information use great product price  \n",
              " 4                nice set good quality set two month  ,\n",
              " array([[0., 0., 0., ..., 0., 0., 0.],\n",
              "        [0., 0., 0., ..., 0., 0., 0.],\n",
              "        [0., 0., 0., ..., 0., 0., 0.],\n",
              "        [0., 0., 0., ..., 0., 0., 0.],\n",
              "        [0., 0., 0., ..., 0., 0., 0.]]))"
            ]
          },
          "metadata": {},
          "execution_count": 2
        }
      ],
      "source": [
        "from sklearn.feature_extraction.text import TfidfVectorizer\n",
        "import re\n",
        "import nltk\n",
        "from nltk.corpus import stopwords\n",
        "from nltk.stem import WordNetLemmatizer\n",
        "\n",
        "# Download stopwords and wordnet for lemmatization if not already downloaded\n",
        "nltk.download('stopwords')\n",
        "nltk.download('wordnet')\n",
        "\n",
        "# Initialize lemmatizer and define stopwords\n",
        "lemmatizer = WordNetLemmatizer()\n",
        "stop_words = set(stopwords.words('english'))\n",
        "\n",
        "#Initialize NLP Tools\n",
        "#lemmatizer = WordNetLemmatizer()\n",
        "\n",
        "#Creates an instance of the WordNetLemmatizer class for lemmatizing words later in the code.\n",
        "#stop_words = set(stopwords.words('english'))\n",
        "\n",
        "#Creates a Python set containing English stopwords. Using a set speeds up lookups when filtering words.\n",
        "\n",
        "\n",
        "def clean_text(text):\n",
        "    # Remove punctuation and special characters\n",
        "    text = re.sub(r'[^\\w\\s]', '', text)\n",
        "    # Convert to lowercase\n",
        "    text = text.lower()\n",
        "    # Tokenize and remove stopwords, lemmatize\n",
        "    words = [lemmatizer.lemmatize(word) for word in text.split() if word not in stop_words]\n",
        "    return ' '.join(words)\n",
        "\n",
        "# Apply cleaning function to the 'text_' column\n",
        "reviews_data['cleaned_text'] = reviews_data['text_'].apply(clean_text)\n",
        "\n",
        "# TF-IDF Vectorization\n",
        "tfidf = TfidfVectorizer(max_features=1000)\n",
        "tfidf_matrix = tfidf.fit_transform(reviews_data['cleaned_text'])\n",
        "\n",
        "# Display the cleaned text and a sample of the TF-IDF matrix\n",
        "reviews_data[['text_', 'cleaned_text']].head(), tfidf_matrix.toarray()[:5]\n"
      ]
    },
    {
      "cell_type": "code",
      "execution_count": null,
      "metadata": {
        "colab": {
          "base_uri": "https://localhost:8080/"
        },
        "id": "-y15EJHxzPr-",
        "outputId": "95d6233d-d1ef-4433-cdae-cfcc75449781"
      },
      "outputs": [
        {
          "output_type": "execute_result",
          "data": {
            "text/plain": [
              "(                                               text_  \\\n",
              " 0  Love this!  Well made, sturdy, and very comfor...   \n",
              " 1  love it, a great upgrade from the original.  I...   \n",
              " 2  This pillow saved my back. I love the look and...   \n",
              " 3  Missing information on how to use it, but it i...   \n",
              " 4  Very nice set. Good quality. We have had the s...   \n",
              " \n",
              "                                         cleaned_text  \n",
              " 0  love well made sturdy comfortable love itvery ...  \n",
              " 1   love great upgrade original ive mine couple year  \n",
              " 2             pillow save back love look feel pillow  \n",
              " 3         missin information use great product price  \n",
              " 4                nice set good quality set two month  ,\n",
              " array([[0., 0., 0., ..., 0., 0., 0.],\n",
              "        [0., 0., 0., ..., 0., 0., 0.],\n",
              "        [0., 0., 0., ..., 0., 0., 0.],\n",
              "        [0., 0., 0., ..., 0., 0., 0.],\n",
              "        [0., 0., 0., ..., 0., 0., 0.]]))"
            ]
          },
          "metadata": {},
          "execution_count": 3
        }
      ],
      "source": [
        "# Manually define a basic set of English stopwords\n",
        "basic_stopwords = {'i', 'me', 'my', 'myself', 'we', 'our', 'ours', 'ourselves', 'you', 'your', 'yours', 'yourself',\n",
        "                   'yourselves', 'he', 'him', 'his', 'himself', 'she', 'her', 'hers', 'herself', 'it', 'its', 'itself',\n",
        "                   'they', 'them', 'their', 'theirs', 'themselves', 'what', 'which', 'who', 'whom', 'this', 'that',\n",
        "                   'these', 'those', 'am', 'is', 'are', 'was', 'were', 'be', 'been', 'being', 'have', 'has', 'had',\n",
        "                   'having', 'do', 'does', 'did', 'doing', 'a', 'an', 'the', 'and', 'but', 'if', 'or', 'because',\n",
        "                   'as', 'until', 'while', 'of', 'at', 'by', 'for', 'with', 'about', 'against', 'between', 'into',\n",
        "                   'through', 'during', 'before', 'after', 'above', 'below', 'to', 'from', 'up', 'down', 'in', 'out',\n",
        "                   'on', 'off', 'over', 'under', 'again', 'further', 'then', 'once', 'here', 'there', 'when', 'where',\n",
        "                   'why', 'how', 'all', 'any', 'both', 'each', 'few', 'more', 'most', 'other', 'some', 'such', 'no',\n",
        "                   'nor', 'not', 'only', 'own', 'same', 'so', 'than', 'too', 'very', 's', 't', 'can', 'will', 'just',\n",
        "                   'don', 'should', 'now'}\n",
        "\n",
        "def clean_text_basic(text):\n",
        "    # Remove punctuation and special characters\n",
        "    text = re.sub(r'[^\\w\\s]', '', text)\n",
        "    # Convert to lowercase\n",
        "    text = text.lower()\n",
        "    # Tokenize, remove basic stopwords, and lemmatize using simple stemming by word endings\n",
        "    words = [word if not word.endswith(('ed', 'ing', 's')) else word[:-1] for word in text.split() if word not in basic_stopwords]\n",
        "    return ' '.join(words)\n",
        "\n",
        "# Apply the basic cleaning function to the 'text_' column\n",
        "reviews_data['cleaned_text'] = reviews_data['text_'].apply(clean_text_basic)\n",
        "\n",
        "# TF-IDF Vectorization\n",
        "tfidf = TfidfVectorizer(max_features=1000)\n",
        "tfidf_matrix = tfidf.fit_transform(reviews_data['cleaned_text'])\n",
        "\n",
        "#tfidf = TfidfVectorizer(max_features=1000)\n",
        "\n",
        "#Initializes a TfidfVectorizer instance. The parameter max_features=1000 limits the vocabulary to the top 1000 most important terms\n",
        "#based on TF-IDF scores.\n",
        "# Display the cleaned text and a sample of the TF-IDF matrix\n",
        "reviews_data[['text_', 'cleaned_text']].head(), tfidf_matrix.toarray()[:5]\n"
      ]
    },
    {
      "cell_type": "code",
      "execution_count": null,
      "metadata": {
        "id": "RpxhsS8DzdEC"
      },
      "outputs": [],
      "source": [
        "#Latent Dirichlet Allocation (LDA) model:\n",
        "#Latent Dirichlet Allocation (LDA) is a probabilistic model used for topic modeling.\n",
        "# It identifies hidden topics within a collection of text documents by assuming that:\n",
        "#Each document is a mixture of multiple topics.\n",
        "#Each topic is a distribution of words.\n",
        "#LDA Model:\n",
        "from sklearn.decomposition import LatentDirichletAllocation\n",
        "lda_model = LatentDirichletAllocation(n_components=5, random_state=42)\n",
        "lda_topics = lda_model.fit_transform(tfidf_matrix)\n",
        "#fit_transform: Fits the LDA model to the TF-IDF matrix and transforms the data to a topic-document distribution.\n",
        "#The TF-IDF matrix (tfidf_matrix) is the input, representing the numerical representation of text."
      ]
    },
    {
      "cell_type": "code",
      "execution_count": null,
      "metadata": {
        "colab": {
          "base_uri": "https://localhost:8080/"
        },
        "id": "8DudYL0C_nAr",
        "outputId": "da70f1ee-3f2c-41d8-f2ef-d515e22be53b"
      },
      "outputs": [
        {
          "output_type": "stream",
          "name": "stdout",
          "text": [
            "Collecting pyLDAvis\n",
            "  Downloading pyLDAvis-3.4.1-py3-none-any.whl.metadata (4.2 kB)\n",
            "Requirement already satisfied: numpy>=1.24.2 in /usr/local/lib/python3.10/dist-packages (from pyLDAvis) (1.26.4)\n",
            "Requirement already satisfied: scipy in /usr/local/lib/python3.10/dist-packages (from pyLDAvis) (1.13.1)\n",
            "Requirement already satisfied: pandas>=2.0.0 in /usr/local/lib/python3.10/dist-packages (from pyLDAvis) (2.2.2)\n",
            "Requirement already satisfied: joblib>=1.2.0 in /usr/local/lib/python3.10/dist-packages (from pyLDAvis) (1.4.2)\n",
            "Requirement already satisfied: jinja2 in /usr/local/lib/python3.10/dist-packages (from pyLDAvis) (3.1.4)\n",
            "Requirement already satisfied: numexpr in /usr/local/lib/python3.10/dist-packages (from pyLDAvis) (2.10.1)\n",
            "Collecting funcy (from pyLDAvis)\n",
            "  Downloading funcy-2.0-py2.py3-none-any.whl.metadata (5.9 kB)\n",
            "Requirement already satisfied: scikit-learn>=1.0.0 in /usr/local/lib/python3.10/dist-packages (from pyLDAvis) (1.5.2)\n",
            "Requirement already satisfied: gensim in /usr/local/lib/python3.10/dist-packages (from pyLDAvis) (4.3.3)\n",
            "Requirement already satisfied: setuptools in /usr/local/lib/python3.10/dist-packages (from pyLDAvis) (75.1.0)\n",
            "Requirement already satisfied: python-dateutil>=2.8.2 in /usr/local/lib/python3.10/dist-packages (from pandas>=2.0.0->pyLDAvis) (2.8.2)\n",
            "Requirement already satisfied: pytz>=2020.1 in /usr/local/lib/python3.10/dist-packages (from pandas>=2.0.0->pyLDAvis) (2024.2)\n",
            "Requirement already satisfied: tzdata>=2022.7 in /usr/local/lib/python3.10/dist-packages (from pandas>=2.0.0->pyLDAvis) (2024.2)\n",
            "Requirement already satisfied: threadpoolctl>=3.1.0 in /usr/local/lib/python3.10/dist-packages (from scikit-learn>=1.0.0->pyLDAvis) (3.5.0)\n",
            "Requirement already satisfied: smart-open>=1.8.1 in /usr/local/lib/python3.10/dist-packages (from gensim->pyLDAvis) (7.0.5)\n",
            "Requirement already satisfied: MarkupSafe>=2.0 in /usr/local/lib/python3.10/dist-packages (from jinja2->pyLDAvis) (3.0.2)\n",
            "Requirement already satisfied: six>=1.5 in /usr/local/lib/python3.10/dist-packages (from python-dateutil>=2.8.2->pandas>=2.0.0->pyLDAvis) (1.16.0)\n",
            "Requirement already satisfied: wrapt in /usr/local/lib/python3.10/dist-packages (from smart-open>=1.8.1->gensim->pyLDAvis) (1.16.0)\n",
            "Downloading pyLDAvis-3.4.1-py3-none-any.whl (2.6 MB)\n",
            "\u001b[2K   \u001b[90m━━━━━━━━━━━━━━━━━━━━━━━━━━━━━━━━━━━━━━━━\u001b[0m \u001b[32m2.6/2.6 MB\u001b[0m \u001b[31m38.4 MB/s\u001b[0m eta \u001b[36m0:00:00\u001b[0m\n",
            "\u001b[?25hDownloading funcy-2.0-py2.py3-none-any.whl (30 kB)\n",
            "Installing collected packages: funcy, pyLDAvis\n",
            "Successfully installed funcy-2.0 pyLDAvis-3.4.1\n"
          ]
        }
      ],
      "source": [
        "#visualize topic models\n",
        "pip install pyLDAvis"
      ]
    },
    {
      "cell_type": "code",
      "execution_count": null,
      "metadata": {
        "colab": {
          "base_uri": "https://localhost:8080/",
          "height": 881
        },
        "id": "ZxpkWScm_oV6",
        "outputId": "89dca4d3-94f3-4663-eaa3-946d09fc2b1b"
      },
      "outputs": [
        {
          "output_type": "execute_result",
          "data": {
            "text/plain": [
              "<IPython.core.display.HTML object>"
            ],
            "text/html": [
              "\n",
              "<link rel=\"stylesheet\" type=\"text/css\" href=\"https://cdn.jsdelivr.net/gh/bmabey/pyLDAvis@3.4.0/pyLDAvis/js/ldavis.v1.0.0.css\">\n",
              "\n",
              "\n",
              "<div id=\"ldavis_el16661330536792864488106742318\" style=\"background-color:white;\"></div>\n",
              "<script type=\"text/javascript\">\n",
              "\n",
              "var ldavis_el16661330536792864488106742318_data = {\"mdsDat\": {\"x\": [0.23038528778107603, -0.01646904797013816, -0.07093139833137635, -0.009189973825654537, -0.13379486765390716], \"y\": [-0.03716294516011984, -0.04785219311372361, -0.014382497332520323, 0.16092817857580372, -0.06153054296943991], \"topics\": [1, 2, 3, 4, 5], \"cluster\": [1, 1, 1, 1, 1], \"Freq\": [28.666854506079048, 24.517226163752255, 17.505621570430037, 14.960613982490422, 14.34968377724823]}, \"tinfo\": {\"Term\": [\"book\", \"story\", \"read\", \"dog\", \"movie\", \"fit\", \"character\", \"love\", \"comfortable\", \"toy\", \"cat\", \"size\", \"serie\", \"wear\", \"shoe\", \"son\", \"use\", \"play\", \"author\", \"enjoye\", \"bought\", \"work\", \"game\", \"daughter\", \"material\", \"light\", \"food\", \"gift\", \"wide\", \"small\", \"book\", \"story\", \"movie\", \"character\", \"serie\", \"author\", \"written\", \"develope\", \"film\", \"plot\", \"actin\", \"writin\", \"endin\", \"interestin\", \"history\", \"novel\", \"storie\", \"reader\", \"romance\", \"believable\", \"scene\", \"copy\", \"mystery\", \"relationship\", \"enjoyable\", \"writer\", \"predictable\", \"actor\", \"storyline\", \"suspense\", \"read\", \"enjoye\", \"funny\", \"readin\", \"entertainin\", \"told\", \"action\", \"forward\", \"wait\", \"world\", \"next\", \"first\", \"good\", \"life\", \"well\", \"love\", \"like\", \"people\", \"one\", \"really\", \"great\", \"lot\", \"recommend\", \"time\", \"would\", \"see\", \"way\", \"cant\", \"knife\", \"bottle\", \"blade\", \"clip\", \"wheel\", \"sharp\", \"holder\", \"lock\", \"tape\", \"cap\", \"suction\", \"drill\", \"tip\", \"len\", \"pres\", \"ice\", \"cut\", \"attache\", \"pump\", \"grip\", \"flat\", \"finger\", \"push\", \"steel\", \"water\", \"door\", \"key\", \"cup\", \"gun\", \"hole\", \"cold\", \"handle\", \"easily\", \"shower\", \"open\", \"cheap\", \"hand\", \"use\", \"side\", \"dont\", \"nee\", \"back\", \"pack\", \"get\", \"even\", \"make\", \"work\", \"hold\", \"one\", \"bag\", \"much\", \"like\", \"better\", \"well\", \"would\", \"time\", \"made\", \"product\", \"great\", \"easy\", \"good\", \"really\", \"light\", \"little\", \"also\", \"nice\", \"price\", \"bulb\", \"speaker\", \"usb\", \"harnes\", \"headphone\", \"charger\", \"sony\", \"port\", \"keyboard\", \"mouse\", \"ipad\", \"tablet\", \"portable\", \"laptop\", \"adapter\", \"tank\", \"collar\", \"lamp\", \"ear\", \"computer\", \"quiet\", \"drive\", \"sound\", \"cable\", \"screen\", \"battery\", \"volume\", \"bathroom\", \"kitchen\", \"remote\", \"phone\", \"replace\", \"bright\", \"light\", \"work\", \"use\", \"product\", \"problem\", \"tv\", \"usin\", \"easy\", \"great\", \"case\", \"price\", \"bought\", \"quality\", \"worke\", \"one\", \"nice\", \"good\", \"couple\", \"ive\", \"workin\", \"year\", \"would\", \"little\", \"purchase\", \"small\", \"well\", \"also\", \"happy\", \"love\", \"recommend\", \"toy\", \"eat\", \"grandson\", \"granddaughter\", \"litter\", \"puzzle\", \"chew\", \"picky\", \"game\", \"doll\", \"cat\", \"chewer\", \"mat\", \"treat\", \"christma\", \"food\", \"lab\", \"play\", \"playin\", \"gift\", \"birthday\", \"puppy\", \"train\", \"ball\", \"baby\", \"tree\", \"dog\", \"kid\", \"son\", \"daughter\", \"piece\", \"love\", \"old\", \"cute\", \"fun\", \"year\", \"bought\", \"set\", \"great\", \"sturdy\", \"little\", \"one\", \"like\", \"keep\", \"small\", \"get\", \"also\", \"good\", \"shoe\", \"dres\", \"stretchy\", \"chain\", \"bra\", \"pant\", \"heel\", \"jean\", \"xl\", \"shirt\", \"waist\", \"sock\", \"toe\", \"snug\", \"boot\", \"wear\", \"worn\", \"fabric\", \"foot\", \"narrow\", \"wearin\", \"knee\", \"medium\", \"comfortable\", \"wide\", \"tight\", \"normally\", \"driver\", \"fit\", \"pillow\", \"ordere\", \"material\", \"size\", \"pair\", \"soft\", \"reason\", \"perfectly\", \"large\", \"color\", \"perfect\", \"gave\", \"nice\", \"small\", \"expecte\", \"look\", \"little\", \"quality\", \"love\", \"great\", \"good\", \"im\", \"bit\", \"like\", \"bought\"], \"Freq\": [1630.0, 975.0, 967.0, 753.0, 802.0, 785.0, 752.0, 1882.0, 524.0, 381.0, 374.0, 690.0, 486.0, 344.0, 300.0, 443.0, 1070.0, 292.0, 367.0, 398.0, 839.0, 883.0, 233.0, 344.0, 363.0, 507.0, 242.0, 269.0, 251.0, 709.0, 1629.2332544808983, 975.0970828123833, 801.6898372593045, 751.5076683681191, 485.20974271373825, 366.56277017814807, 265.36761831450724, 222.32157044750315, 220.91651672552027, 208.2228335898109, 184.80289616290864, 169.36002488849857, 166.41323405296885, 264.3898507676661, 137.54056405912246, 120.08862714306406, 119.67507344477431, 104.93410012280353, 102.50437872991365, 101.22628802784808, 99.47067280689132, 89.83901059763053, 85.40311325513147, 81.25975215639366, 77.70443755297495, 67.94702885692047, 67.87371312459234, 65.19915731932932, 63.94333006540727, 58.52160624199386, 943.0619067413895, 391.9465546179523, 111.84178555298713, 343.93653123972166, 102.32411065819817, 165.65119987236974, 147.61541080827024, 162.20618722102716, 185.66921292060272, 134.39936478775522, 241.23479450901425, 288.76407743439154, 548.5943351771446, 163.69531685324344, 422.159450936413, 562.8121756549203, 400.2720731112131, 170.246768787048, 394.65893057996726, 286.808247762204, 404.329204344769, 248.11141635871596, 253.87100258297585, 250.71454517472847, 259.68901291445644, 197.5019839914328, 207.24935375392184, 189.76084101361712, 115.75019666837518, 83.02045593914946, 149.0039722093516, 51.79004682513141, 47.48699781987034, 81.99738231060503, 46.9095878605648, 51.40786432391868, 44.94025334196053, 38.90353221014667, 45.695595141557966, 41.97266161901582, 42.38461260337256, 96.03534460789932, 30.632822608596772, 42.193059507563376, 100.46644125633921, 32.47320041626413, 41.041586412931665, 65.66572124707143, 42.896963044862474, 38.869472313120696, 31.11550953775768, 44.581688288915224, 176.87354918583407, 81.71474353353051, 43.41790600278126, 103.35423827021556, 63.25155608514456, 76.2787330748721, 79.2527936136336, 125.86408621284066, 106.67671800411175, 54.423665607672966, 91.65086510782194, 86.70406079345427, 109.81003837569946, 392.92146805496225, 101.39895644657113, 197.48372684498767, 144.16082446853906, 147.36503158614386, 65.53939652287671, 253.8867639359782, 142.63045531801154, 185.98605907666186, 252.8638107173892, 133.18348463152674, 299.12465343419944, 131.69128653839428, 162.17446929297063, 241.4809146195532, 134.54426898568178, 217.76240712140387, 200.76697662598136, 178.76643625909006, 151.78585271195115, 169.5161617176636, 210.21487251746748, 159.66278494176225, 181.7565209364886, 147.28100598889344, 134.6250185705755, 149.784836528284, 135.39816483243993, 139.5924405263141, 128.30136063596376, 160.73132509382805, 119.07952454706611, 73.20806317725004, 72.39454502547156, 54.47197607845305, 60.01797831720011, 46.03109426967657, 44.405043515817326, 55.324879137964835, 42.97305629321705, 75.76717890497045, 40.86631175913525, 41.981590499157896, 65.5422460442814, 48.82117956202293, 57.12745852422837, 82.73644019351592, 50.51334005090635, 95.15590127645947, 77.0579596195437, 45.19475821915239, 97.71988376957268, 196.1379639726533, 110.66042304545488, 76.40417082152985, 110.72222499334345, 37.505380883819434, 65.83067821874258, 94.15864148234766, 37.6233496606007, 89.15650358954932, 229.27171613957904, 167.49139208249184, 325.0535216494219, 460.5563913601511, 486.43583138775625, 315.7792879657912, 250.88458668686798, 92.57640919761688, 186.4500578123727, 290.30633056337024, 513.1872828185632, 140.4471957360151, 229.28444574966957, 289.39286847238617, 255.07470334466498, 119.06620740919561, 321.78551225493106, 208.39353837491953, 261.0277114288067, 143.0090816435338, 151.5771938962226, 99.07264401740363, 158.26341782194802, 182.69020881163132, 183.72853521378983, 139.53532693901377, 161.54282394399098, 174.58958354167999, 150.99168914478633, 136.21615385385505, 172.9006098616026, 142.04286761245058, 380.7179783092016, 109.70698117606987, 97.28937097092067, 85.41009364885771, 76.90929212484208, 69.47063660823872, 64.48820145043014, 64.0377890418797, 229.30294597269037, 77.11091237240463, 361.6744840398629, 57.081172716289394, 52.26183585371987, 147.59778499970037, 182.42068559826794, 221.761013872073, 59.50457340512865, 261.56275846859324, 79.60006870660844, 238.01670188711827, 81.9103348173358, 97.41587736498596, 58.88222859533843, 84.14735278897324, 81.49134324409647, 29.509991803527424, 604.0529310940358, 216.7420111845408, 347.2190226521239, 268.77620006472915, 251.63224292611812, 771.700000720449, 252.40476099553402, 162.74571936653595, 193.19067229511276, 237.25465362512156, 291.4842434422682, 156.58196249064636, 266.32383351457264, 135.57329725928787, 193.78858269640202, 212.87188142904745, 188.10110324369316, 138.60672125257796, 145.22722949884175, 141.2243260854033, 133.84730473716084, 148.239169776708, 298.8017180963142, 116.01952181960316, 61.234244524300586, 61.95152211191204, 57.15999591013591, 78.13390098495643, 52.947919021605756, 51.6905197093559, 50.22470278769016, 110.42907749636655, 65.92990187584917, 80.78105995287197, 53.53113907469212, 55.613799739569686, 87.46498692186853, 320.6854257037361, 65.3487045546858, 92.4670333865821, 101.23712248243746, 46.8490934151941, 91.19702031190292, 51.21581497174968, 85.35309033540902, 454.30356747415436, 215.6199641823301, 148.49666651496707, 50.026699810263935, 71.52204353638507, 589.8450945785432, 62.45883766180351, 221.51646329169233, 261.9613267394534, 430.4246584546769, 182.1521023635162, 163.04098797007637, 211.14359112570844, 158.6679484700603, 207.1660047177344, 204.4268334019793, 256.4409204253149, 154.66121932410897, 301.46925533305284, 279.5572173644325, 144.9256328558832, 228.4541482234915, 268.8001814682561, 233.57652454855668, 276.36116941945096, 260.43803171429346, 222.2993677851826, 161.57497856661783, 150.71655069035182, 160.5719407279692, 152.92084694207426], \"Total\": [1630.0, 975.0, 967.0, 753.0, 802.0, 785.0, 752.0, 1882.0, 524.0, 381.0, 374.0, 690.0, 486.0, 344.0, 300.0, 443.0, 1070.0, 292.0, 367.0, 398.0, 839.0, 883.0, 233.0, 344.0, 363.0, 507.0, 242.0, 269.0, 251.0, 709.0, 1630.0625002322836, 975.9234289262876, 802.5437284275512, 752.3349379534508, 486.04006393071495, 367.3875074151832, 266.1961720336074, 223.15151387856494, 221.7895825888603, 209.04739904384726, 185.6279467368682, 170.19303057467394, 167.2381429435997, 265.70660199255445, 138.3690525289036, 120.91348508646371, 120.50207033884801, 105.76446417215847, 103.32893013194135, 102.05057845352368, 100.29706224961316, 90.67290506398675, 86.23202655538766, 82.0862914994484, 78.53557932538995, 68.77329519285206, 68.69966615003334, 66.0242475929986, 64.76792811218094, 59.347821846384846, 967.31590858946, 398.48113608324786, 113.6515681156043, 357.11587084225727, 104.42624676252477, 173.61100515515847, 154.8408452961815, 179.22497741785475, 215.57873548306884, 148.25680687060836, 346.4486016089558, 499.36907069362775, 1361.9171051043304, 216.47902282524524, 1053.3936697088493, 1882.7713311032855, 1118.2467075891711, 232.719067107552, 1335.8359823031933, 713.6978087265173, 1654.4932249096657, 575.4847829348115, 611.1681640780427, 708.4912755945045, 911.148927808895, 340.8329432451918, 473.7922394217098, 374.87302093167824, 116.56600927835336, 84.11358235549156, 151.04270562775073, 52.61301404451488, 48.30758112554563, 83.4424166528351, 47.83125786007666, 52.79845626446899, 46.272015231717916, 40.49237660756275, 48.14951389225922, 44.73584398871655, 45.85417728325764, 105.37767860256373, 34.06233630452241, 47.419246801398465, 113.96293422047484, 37.051135107856396, 47.16179519876689, 76.36230286353535, 50.071132928714334, 45.87373612633389, 37.07328723950549, 53.34896326950177, 212.03260008569006, 98.349789266398, 52.48719797355259, 125.6162505129817, 77.05301282291902, 93.4212838321136, 99.43811952803188, 168.52269652969153, 150.28676262266097, 68.09433626093205, 126.88681675672852, 130.1878842326599, 181.12886937495392, 1070.8894524312036, 164.18051923692818, 449.251028132331, 288.33019109323584, 300.38237361728966, 89.69261746701159, 751.7584909374339, 304.4299884885299, 510.23018735741033, 883.5348412712667, 293.06431301539544, 1335.8359823031933, 298.6840212560812, 476.2058187304643, 1118.2467075891711, 350.73597250828755, 1053.3936697088493, 911.148927808895, 708.4912755945045, 490.8025939033574, 684.9449574801746, 1654.4932249096657, 683.8879723829565, 1361.9171051043304, 713.6978087265173, 507.7015695214114, 933.0886148110933, 643.5621076911873, 783.6294501642745, 549.2938120905891, 161.54138201917473, 119.89241426379733, 74.02007192311237, 73.21311541119866, 55.28415761395174, 60.9858624621816, 46.8411974286663, 45.217844628981105, 56.61025647827382, 44.408415683028316, 79.18928233602144, 43.79861520342801, 45.09765213834115, 70.8989470412458, 53.435175235636514, 62.62443616331892, 91.69486201800916, 56.27455005247148, 106.77638423639145, 88.32769301907975, 54.003031740236324, 118.17616363533874, 237.54573168824803, 134.88236053573587, 94.2340223367261, 137.39756423349925, 46.6857579313212, 81.99866352486467, 118.57687552702886, 47.48799489536201, 113.41033785106158, 306.84518709387567, 223.38182016418168, 507.7015695214114, 883.5348412712667, 1070.8894524312036, 684.9449574801746, 519.1941132796073, 130.34765752299043, 357.862180174614, 683.8879723829565, 1654.4932249096657, 249.45571157094574, 549.2938120905891, 839.4552426286426, 716.2975933110665, 207.08596985926874, 1335.8359823031933, 783.6294501642745, 1361.9171051043304, 344.52498320540695, 433.50584740029973, 153.25541369897942, 594.0448912735365, 911.148927808895, 933.0886148110933, 419.7057875750494, 709.1453064899504, 1053.3936697088493, 643.5621076911873, 394.71151759404046, 1882.7713311032855, 611.1681640780427, 381.58488674945727, 110.5216121285218, 98.09470583525564, 86.21234359583855, 77.71061134363275, 70.27531626997833, 65.29152858941465, 64.89175566426026, 233.96025306170594, 78.68420912838197, 374.807728734575, 59.17007888093891, 54.42202558219921, 155.0603233216114, 195.76991747516803, 242.85807484326608, 65.61465053809933, 292.5154463249594, 89.5433623302169, 269.9107119111031, 93.82210839628647, 111.74258346646913, 68.46890010175383, 103.50210465252191, 100.43135246876274, 36.778637332268474, 753.3596526833372, 271.99028610542774, 443.5187242590113, 344.9161861542409, 370.7166645804202, 1882.7713311032855, 466.46924465723765, 278.7529446569218, 358.92544610653573, 594.0448912735365, 839.4552426286426, 411.7243974523922, 1654.4932249096657, 332.85638722614624, 933.0886148110933, 1335.8359823031933, 1118.2467075891711, 558.9004765340419, 709.1453064899504, 751.7584909374339, 643.5621076911873, 1361.9171051043304, 300.0372206915795, 116.90001135155813, 62.03395882069635, 62.763180532634046, 57.95849877004993, 79.29895743415187, 53.759164218503976, 52.49224835697297, 51.02450906654008, 112.50881265117631, 67.7516301826951, 83.88230226060081, 55.84592839869934, 58.82702799924176, 92.73185235552434, 344.3247623183503, 70.57785875690458, 100.53101770039154, 111.11017673146318, 51.47118786786667, 102.10283330222356, 57.8481797246451, 97.2862032390342, 524.9759819763768, 251.90419371544056, 177.49629694962758, 60.70402154291786, 87.24716588806325, 785.5908472626486, 83.92085752237878, 300.39516290365214, 363.0124065997759, 690.6844370687826, 257.678668396379, 235.5156324058699, 335.02535482706696, 256.6988871203537, 382.76832885117426, 378.7364022139484, 530.4419159286841, 273.991480605094, 783.6294501642745, 709.1453064899504, 248.00284780599316, 575.9390869465375, 933.0886148110933, 716.2975933110665, 1882.7713311032855, 1654.4932249096657, 1361.9171051043304, 582.2134801951863, 544.8212867822384, 1118.2467075891711, 839.4552426286426], \"Category\": [\"Default\", \"Default\", \"Default\", \"Default\", \"Default\", \"Default\", \"Default\", \"Default\", \"Default\", \"Default\", \"Default\", \"Default\", \"Default\", \"Default\", \"Default\", \"Default\", \"Default\", \"Default\", \"Default\", \"Default\", \"Default\", \"Default\", \"Default\", \"Default\", \"Default\", \"Default\", \"Default\", \"Default\", \"Default\", \"Default\", \"Topic1\", \"Topic1\", \"Topic1\", \"Topic1\", \"Topic1\", \"Topic1\", \"Topic1\", \"Topic1\", \"Topic1\", \"Topic1\", \"Topic1\", \"Topic1\", \"Topic1\", \"Topic1\", \"Topic1\", \"Topic1\", \"Topic1\", \"Topic1\", \"Topic1\", \"Topic1\", \"Topic1\", \"Topic1\", \"Topic1\", \"Topic1\", \"Topic1\", \"Topic1\", \"Topic1\", \"Topic1\", \"Topic1\", \"Topic1\", \"Topic1\", \"Topic1\", \"Topic1\", \"Topic1\", \"Topic1\", \"Topic1\", \"Topic1\", \"Topic1\", \"Topic1\", \"Topic1\", \"Topic1\", \"Topic1\", \"Topic1\", \"Topic1\", \"Topic1\", \"Topic1\", \"Topic1\", \"Topic1\", \"Topic1\", \"Topic1\", \"Topic1\", \"Topic1\", \"Topic1\", \"Topic1\", \"Topic1\", \"Topic1\", \"Topic1\", \"Topic1\", \"Topic2\", \"Topic2\", \"Topic2\", \"Topic2\", \"Topic2\", \"Topic2\", \"Topic2\", \"Topic2\", \"Topic2\", \"Topic2\", \"Topic2\", \"Topic2\", \"Topic2\", \"Topic2\", \"Topic2\", \"Topic2\", \"Topic2\", \"Topic2\", \"Topic2\", \"Topic2\", \"Topic2\", \"Topic2\", \"Topic2\", \"Topic2\", \"Topic2\", \"Topic2\", \"Topic2\", \"Topic2\", \"Topic2\", \"Topic2\", \"Topic2\", \"Topic2\", \"Topic2\", \"Topic2\", \"Topic2\", \"Topic2\", \"Topic2\", \"Topic2\", \"Topic2\", \"Topic2\", \"Topic2\", \"Topic2\", \"Topic2\", \"Topic2\", \"Topic2\", \"Topic2\", \"Topic2\", \"Topic2\", \"Topic2\", \"Topic2\", \"Topic2\", \"Topic2\", \"Topic2\", \"Topic2\", \"Topic2\", \"Topic2\", \"Topic2\", \"Topic2\", \"Topic2\", \"Topic2\", \"Topic2\", \"Topic2\", \"Topic2\", \"Topic2\", \"Topic2\", \"Topic2\", \"Topic2\", \"Topic3\", \"Topic3\", \"Topic3\", \"Topic3\", \"Topic3\", \"Topic3\", \"Topic3\", \"Topic3\", \"Topic3\", \"Topic3\", \"Topic3\", \"Topic3\", \"Topic3\", \"Topic3\", \"Topic3\", \"Topic3\", \"Topic3\", \"Topic3\", \"Topic3\", \"Topic3\", \"Topic3\", \"Topic3\", \"Topic3\", \"Topic3\", \"Topic3\", \"Topic3\", \"Topic3\", \"Topic3\", \"Topic3\", \"Topic3\", \"Topic3\", \"Topic3\", \"Topic3\", \"Topic3\", \"Topic3\", \"Topic3\", \"Topic3\", \"Topic3\", \"Topic3\", \"Topic3\", \"Topic3\", \"Topic3\", \"Topic3\", \"Topic3\", \"Topic3\", \"Topic3\", \"Topic3\", \"Topic3\", \"Topic3\", \"Topic3\", \"Topic3\", \"Topic3\", \"Topic3\", \"Topic3\", \"Topic3\", \"Topic3\", \"Topic3\", \"Topic3\", \"Topic3\", \"Topic3\", \"Topic3\", \"Topic3\", \"Topic3\", \"Topic4\", \"Topic4\", \"Topic4\", \"Topic4\", \"Topic4\", \"Topic4\", \"Topic4\", \"Topic4\", \"Topic4\", \"Topic4\", \"Topic4\", \"Topic4\", \"Topic4\", \"Topic4\", \"Topic4\", \"Topic4\", \"Topic4\", \"Topic4\", \"Topic4\", \"Topic4\", \"Topic4\", \"Topic4\", \"Topic4\", \"Topic4\", \"Topic4\", \"Topic4\", \"Topic4\", \"Topic4\", \"Topic4\", \"Topic4\", \"Topic4\", \"Topic4\", \"Topic4\", \"Topic4\", \"Topic4\", \"Topic4\", \"Topic4\", \"Topic4\", \"Topic4\", \"Topic4\", \"Topic4\", \"Topic4\", \"Topic4\", \"Topic4\", \"Topic4\", \"Topic4\", \"Topic4\", \"Topic4\", \"Topic5\", \"Topic5\", \"Topic5\", \"Topic5\", \"Topic5\", \"Topic5\", \"Topic5\", \"Topic5\", \"Topic5\", \"Topic5\", \"Topic5\", \"Topic5\", \"Topic5\", \"Topic5\", \"Topic5\", \"Topic5\", \"Topic5\", \"Topic5\", \"Topic5\", \"Topic5\", \"Topic5\", \"Topic5\", \"Topic5\", \"Topic5\", \"Topic5\", \"Topic5\", \"Topic5\", \"Topic5\", \"Topic5\", \"Topic5\", \"Topic5\", \"Topic5\", \"Topic5\", \"Topic5\", \"Topic5\", \"Topic5\", \"Topic5\", \"Topic5\", \"Topic5\", \"Topic5\", \"Topic5\", \"Topic5\", \"Topic5\", \"Topic5\", \"Topic5\", \"Topic5\", \"Topic5\", \"Topic5\", \"Topic5\", \"Topic5\", \"Topic5\", \"Topic5\", \"Topic5\", \"Topic5\"], \"logprob\": [30.0, 29.0, 28.0, 27.0, 26.0, 25.0, 24.0, 23.0, 22.0, 21.0, 20.0, 19.0, 18.0, 17.0, 16.0, 15.0, 14.0, 13.0, 12.0, 11.0, 10.0, 9.0, 8.0, 7.0, 6.0, 5.0, 4.0, 3.0, 2.0, 1.0, -3.2454, -3.7587, -3.9545, -4.0192, -4.4567, -4.7371, -5.0602, -5.2371, -5.2435, -5.3027, -5.422, -5.5092, -5.5268, -5.0638, -5.7173, -5.853, -5.8565, -5.9879, -6.0114, -6.0239, -6.0414, -6.1432, -6.1939, -6.2436, -6.2884, -6.4225, -6.4236, -6.4638, -6.4833, -6.5719, -3.7921, -4.6701, -5.9242, -4.8008, -6.0131, -5.5314, -5.6467, -5.5524, -5.4173, -5.7405, -5.1555, -4.9757, -4.3339, -5.5433, -4.5959, -4.3083, -4.6491, -5.504, -4.6632, -4.9825, -4.639, -5.1274, -5.1044, -5.117, -5.0818, -5.3555, -5.3073, -5.3955, -5.7335, -6.0658, -5.4809, -6.5377, -6.6244, -6.0782, -6.6367, -6.5451, -6.6796, -6.8238, -6.6629, -6.7479, -6.7381, -5.9202, -7.0628, -6.7426, -5.8751, -7.0045, -6.7703, -6.3003, -6.7261, -6.8247, -7.0472, -6.6876, -5.3095, -6.0817, -6.714, -5.8467, -6.3378, -6.1505, -6.1123, -5.6497, -5.8151, -6.4881, -5.9669, -6.0224, -5.7861, -4.5113, -5.8658, -5.1992, -5.514, -5.492, -6.3022, -4.948, -5.5246, -5.2592, -4.952, -5.5932, -4.784, -5.6044, -5.3962, -4.9981, -5.583, -5.1015, -5.1828, -5.2988, -5.4624, -5.352, -5.1368, -5.4118, -5.2822, -5.4926, -5.5824, -5.4757, -5.5767, -5.5462, -5.6305, -5.0683, -5.3683, -5.8547, -5.8659, -6.1504, -6.0534, -6.3187, -6.3547, -6.1348, -6.3875, -5.8204, -6.4377, -6.4108, -5.9654, -6.2599, -6.1028, -5.7324, -6.2258, -5.5925, -5.8035, -6.3371, -5.5659, -4.8692, -5.4416, -5.812, -5.441, -6.5236, -5.961, -5.6031, -6.5204, -5.6577, -4.7131, -5.0271, -4.3641, -4.0156, -3.9609, -4.393, -4.6231, -5.62, -4.9199, -4.4771, -3.9074, -5.2032, -4.7131, -4.4803, -4.6065, -5.3684, -4.3742, -4.8086, -4.5834, -5.1851, -5.127, -5.5522, -5.0838, -4.9403, -4.9346, -5.2097, -5.0633, -4.9856, -5.1308, -5.2338, -4.9953, -5.1919, -4.0489, -5.2931, -5.4133, -5.5435, -5.6483, -5.75, -5.8245, -5.8315, -4.5559, -5.6457, -4.1002, -5.9465, -6.0347, -4.9965, -4.7846, -4.5893, -5.9049, -4.4243, -5.6139, -4.5186, -5.5853, -5.412, -5.9154, -5.5584, -5.5904, -6.6062, -3.5873, -4.6122, -4.141, -4.3971, -4.463, -3.3423, -4.4599, -4.8988, -4.7273, -4.5218, -4.316, -4.9374, -4.4062, -5.0814, -4.7242, -4.6303, -4.754, -5.0593, -5.0126, -5.0406, -5.0942, -4.9921, -4.2495, -5.1955, -5.8345, -5.8229, -5.9034, -5.5908, -5.9799, -6.004, -6.0327, -5.2449, -5.7607, -5.5575, -5.969, -5.9308, -5.478, -4.1788, -5.7695, -5.4224, -5.3318, -6.1023, -5.4362, -6.0132, -5.5025, -3.8305, -4.5757, -4.9487, -6.0367, -5.6792, -3.5694, -5.8147, -4.5488, -4.3811, -3.8845, -4.7444, -4.8553, -4.5967, -4.8824, -4.6157, -4.629, -4.4024, -4.908, -4.2406, -4.316, -4.973, -4.5179, -4.3553, -4.4957, -4.3275, -4.3869, -4.5452, -4.8643, -4.9339, -4.8705, -4.9193], \"loglift\": [30.0, 29.0, 28.0, 27.0, 26.0, 25.0, 24.0, 23.0, 22.0, 21.0, 20.0, 19.0, 18.0, 17.0, 16.0, 15.0, 14.0, 13.0, 12.0, 11.0, 10.0, 9.0, 8.0, 7.0, 6.0, 5.0, 4.0, 3.0, 2.0, 1.0, 1.2489, 1.2486, 1.2484, 1.2483, 1.2477, 1.2472, 1.2463, 1.2457, 1.2455, 1.2455, 1.245, 1.2445, 1.2445, 1.2445, 1.2434, 1.2426, 1.2425, 1.2415, 1.2414, 1.2413, 1.2412, 1.2402, 1.2398, 1.2393, 1.2388, 1.2373, 1.2373, 1.2369, 1.2366, 1.2354, 1.224, 1.2329, 1.2334, 1.2118, 1.2291, 1.2025, 1.2016, 1.1497, 1.1001, 1.1513, 0.8875, 0.7017, 0.3401, 0.9699, 0.335, 0.0419, 0.2221, 0.9368, 0.0301, 0.3378, -0.1596, 0.4081, 0.3709, 0.2106, -0.0058, 0.7038, 0.4226, 0.5686, 1.3988, 1.3927, 1.3922, 1.39, 1.3887, 1.3883, 1.3863, 1.3791, 1.3766, 1.3658, 1.3535, 1.342, 1.3271, 1.313, 1.2997, 1.289, 1.2797, 1.2739, 1.2668, 1.2549, 1.2512, 1.2401, 1.2306, 1.2263, 1.2245, 1.2205, 1.2161, 1.2107, 1.2084, 1.2031, 1.1789, 1.1139, 1.0631, 1.1817, 1.0805, 0.9993, 0.9053, 0.4032, 0.9239, 0.5839, 0.7126, 0.6937, 1.0921, 0.3203, 0.6476, 0.3966, 0.1547, 0.6171, -0.0907, 0.5869, 0.3286, -0.1269, 0.4477, -0.1706, -0.1068, 0.0287, 0.2322, 0.0094, -0.6573, -0.0489, -0.6082, -0.1723, 0.0784, -0.4235, -0.153, -0.3194, -0.0485, 1.7376, 1.7358, 1.7316, 1.7314, 1.7278, 1.7267, 1.7252, 1.7245, 1.7197, 1.7098, 1.6985, 1.6734, 1.671, 1.6641, 1.6523, 1.6508, 1.6398, 1.6346, 1.6274, 1.6062, 1.5646, 1.5526, 1.5511, 1.5447, 1.5329, 1.5268, 1.5237, 1.523, 1.5121, 1.5098, 1.502, 1.4512, 1.4547, 1.2967, 1.0912, 0.9535, 0.9684, 1.0154, 1.4005, 1.0907, 0.8858, 0.572, 1.1682, 0.869, 0.6777, 0.7101, 1.1892, 0.3192, 0.4181, 0.0906, 0.8634, 0.6918, 1.3064, 0.42, 0.1357, 0.1176, 0.6414, 0.2634, -0.0547, 0.2929, 0.6787, -0.6451, 0.2834, 1.8975, 1.8924, 1.8915, 1.8904, 1.8894, 1.8882, 1.8874, 1.8865, 1.8796, 1.8796, 1.8641, 1.8638, 1.8592, 1.8504, 1.8291, 1.8089, 1.802, 1.7879, 1.782, 1.774, 1.764, 1.7625, 1.7489, 1.6927, 1.6908, 1.6796, 1.6789, 1.6727, 1.655, 1.6503, 1.5123, 1.0078, 1.2856, 1.3616, 1.2803, 0.9819, 0.842, 0.933, 0.0732, 1.0016, 0.328, 0.0631, 0.1172, 0.5054, 0.314, 0.2277, 0.3294, -0.3181, 1.9373, 1.9339, 1.9285, 1.9284, 1.9276, 1.9266, 1.9262, 1.9261, 1.9256, 1.9228, 1.9142, 1.9038, 1.8991, 1.8853, 1.883, 1.8703, 1.8645, 1.8578, 1.8484, 1.8474, 1.8285, 1.8197, 1.8106, 1.7969, 1.7859, 1.7631, 1.748, 1.7427, 1.6549, 1.6461, 1.6368, 1.6152, 1.4685, 1.5946, 1.5737, 1.4798, 1.4604, 1.3275, 1.3248, 1.2146, 1.3696, 0.9862, 1.0106, 1.4042, 1.0168, 0.6969, 0.8209, 0.0227, 0.0926, 0.1288, 0.6596, 0.6564, 0.0007, 0.2386]}, \"token.table\": {\"Topic\": [1, 1, 2, 3, 4, 1, 2, 3, 1, 2, 3, 4, 5, 2, 3, 1, 1, 2, 4, 5, 1, 2, 3, 4, 5, 2, 3, 4, 5, 2, 4, 5, 2, 3, 2, 3, 1, 1, 2, 3, 4, 5, 4, 5, 1, 2, 3, 4, 5, 2, 3, 5, 1, 2, 5, 2, 1, 2, 3, 4, 5, 5, 2, 3, 4, 5, 3, 2, 3, 1, 2, 3, 4, 5, 2, 3, 1, 2, 3, 4, 5, 2, 3, 4, 5, 1, 3, 2, 3, 4, 5, 4, 3, 4, 1, 2, 3, 4, 5, 2, 1, 2, 3, 5, 3, 5, 2, 3, 4, 5, 2, 3, 4, 5, 2, 3, 4, 1, 1, 2, 3, 4, 5, 2, 3, 4, 5, 1, 2, 3, 4, 5, 1, 2, 4, 5, 1, 2, 3, 4, 5, 1, 2, 3, 4, 2, 4, 1, 2, 3, 4, 5, 1, 2, 3, 4, 5, 2, 3, 1, 2, 3, 2, 5, 2, 3, 1, 2, 3, 4, 5, 1, 2, 3, 4, 5, 4, 1, 1, 1, 4, 1, 4, 1, 2, 3, 4, 5, 1, 2, 3, 4, 5, 2, 5, 1, 1, 2, 4, 5, 1, 2, 3, 4, 5, 2, 3, 4, 5, 1, 2, 5, 2, 3, 4, 2, 5, 1, 2, 3, 5, 1, 2, 4, 1, 2, 1, 4, 1, 2, 3, 4, 5, 1, 2, 3, 4, 5, 1, 2, 3, 4, 5, 1, 2, 3, 4, 5, 4, 4, 1, 2, 3, 4, 5, 2, 3, 5, 1, 2, 4, 5, 1, 2, 3, 4, 5, 1, 2, 3, 4, 5, 1, 2, 3, 4, 5, 3, 3, 5, 1, 1, 2, 3, 4, 5, 2, 1, 2, 3, 4, 5, 1, 2, 3, 1, 2, 3, 4, 5, 1, 4, 2, 3, 1, 2, 3, 4, 5, 5, 1, 2, 3, 4, 5, 2, 3, 2, 3, 1, 2, 3, 4, 2, 3, 5, 2, 5, 2, 3, 4, 2, 3, 2, 3, 1, 2, 3, 4, 5, 2, 3, 1, 2, 3, 4, 1, 2, 3, 4, 5, 1, 2, 3, 4, 5, 4, 1, 2, 3, 4, 5, 2, 3, 1, 2, 3, 4, 5, 1, 2, 3, 4, 5, 1, 2, 3, 4, 5, 1, 2, 3, 4, 5, 1, 2, 3, 4, 5, 4, 5, 2, 3, 4, 5, 2, 4, 5, 2, 3, 1, 1, 2, 3, 4, 5, 1, 2, 5, 1, 2, 3, 4, 5, 1, 2, 3, 4, 5, 1, 2, 3, 4, 5, 1, 2, 4, 5, 1, 1, 2, 3, 4, 5, 1, 2, 3, 4, 5, 1, 2, 3, 4, 5, 2, 3, 4, 5, 1, 2, 3, 4, 5, 2, 3, 5, 2, 5, 1, 2, 3, 4, 5, 1, 2, 3, 4, 5, 1, 2, 3, 4, 5, 2, 3, 4, 1, 2, 3, 4, 5, 3, 4, 5, 1, 2, 3, 4, 1, 2, 3, 4, 1, 3, 2, 3, 1, 2, 3, 1, 2, 3, 4, 5, 1, 2, 3, 4, 5, 2, 3, 4, 5, 2, 5, 3, 4, 1, 2, 3, 4, 5, 2, 3, 4, 4, 1, 2, 3, 4, 5, 1, 2, 3, 4, 1, 2, 3, 4, 1, 1, 2, 3, 1, 2, 3, 4, 5, 1, 2, 3, 4, 5, 1, 2, 3, 4, 5, 1, 2, 3, 2, 3, 4, 5, 1, 1, 1, 2, 3, 1, 2, 3, 4, 5, 1, 1, 2, 3, 4, 5, 2, 3, 2, 5, 2, 5, 2, 3, 1, 2, 3, 4, 5, 2, 3, 4, 5, 1, 2, 3, 4, 5, 2, 5, 2, 5, 2, 3, 4, 5, 1, 2, 3, 4, 5, 3, 1, 2, 3, 4, 3, 2, 3, 5, 1, 1, 1, 5, 2, 3, 4, 5, 2, 3, 1, 2, 3, 2, 3, 5, 2, 3, 2, 3, 5, 1, 2, 3, 4, 5, 1, 2, 3, 1, 5, 1, 2, 4, 4, 1, 2, 4, 1, 3, 4, 1, 3, 4, 1, 2, 3, 3, 1, 2, 3, 4, 5, 2, 3, 4, 5, 1, 2, 3, 2, 5, 1, 2, 3, 4, 5, 2, 3, 4, 5, 1, 2, 3, 4, 5, 2, 4, 5, 2, 4, 5, 1, 2, 3, 4, 5, 2, 2, 3, 5, 1, 2, 3, 4, 5, 1, 2, 3, 4, 5, 1, 2, 3, 4, 5, 1, 2, 3, 4, 2, 5, 1, 2, 3, 4, 5, 1, 1, 1, 5, 1, 2, 3, 4, 5], \"Freq\": [0.9966171756575084, 0.9558201501477452, 0.03229122128877518, 0.006458244257755035, 0.006458244257755035, 0.9844867964370833, 0.07485705777815725, 0.9169989577824263, 0.19112374474822474, 0.20976996374805154, 0.23463158908115395, 0.20821611216473265, 0.15538515833189004, 0.8636712453436995, 0.10795890566796244, 0.9989452351880183, 0.06969935013249191, 0.10952755020820157, 0.8065210515331207, 0.009957050018927415, 0.2230490397727637, 0.48937625144173524, 0.11318906495931291, 0.06658180291724289, 0.10653088466758862, 0.44193860603888085, 0.11718069099515781, 0.11048465150972021, 0.32810593478644184, 0.16424786778078124, 0.8115776996226837, 0.009661639281222425, 0.1951251314620302, 0.8048911672808746, 0.1892318844591342, 0.8078745836524576, 0.9897053160359875, 0.2680078673646139, 0.3849049158959881, 0.18532458913510536, 0.08838557327981948, 0.07698098317919762, 0.8739944284096435, 0.11724315503056193, 0.2716487104865171, 0.1908882830445796, 0.13949528376334663, 0.12297610542295032, 0.2771551032666492, 0.9864759730086864, 0.006620644114152258, 0.006620644114152258, 0.9993481843597211, 0.05391890567256779, 0.9381889587026795, 0.9867609686294754, 0.021442477318546954, 0.10482988911289622, 0.34427088583667054, 0.3466533833165091, 0.18226105720764912, 0.983462325795346, 0.12982256111390583, 0.7475988864145612, 0.026859840230463276, 0.08953280076821092, 0.9966486480899954, 0.17051896117955584, 0.8229393343882913, 0.5068382876094678, 0.1760596156959204, 0.1360460666741203, 0.10937036732625359, 0.07469195817402684, 0.9631442574481041, 0.024696006601233438, 0.060130914243404554, 0.28862838836834187, 0.5612218662717758, 0.004008727616226971, 0.08418327994076638, 0.008004103891156656, 0.026680346303855518, 0.9658285361995698, 0.987840314557717, 0.9995548020747755, 0.9838345737457931, 0.6682649504044595, 0.21507377714166515, 0.030724825305952164, 0.08449326959136845, 0.9802190480554311, 0.01690043378194888, 0.9633247255710863, 0.010216074184399068, 0.005108037092199534, 0.005108037092199534, 0.9296627507803151, 0.045972333829795806, 0.9883486233273726, 0.10056505540796126, 0.7944639377228939, 0.05028252770398063, 0.05028252770398063, 0.9051761262664699, 0.08724589168833445, 0.15578117037366498, 0.16634260565323547, 0.1372986586344166, 0.5386331992580958, 0.057145471469111815, 0.07428911290984536, 0.0019048490489703938, 0.8648014682325588, 0.07925034336046707, 0.8717537769651378, 0.04528591049169547, 0.992578763595234, 0.1712502804617336, 0.12190697931174256, 0.4150642390852187, 0.1712502804617336, 0.12190697931174256, 0.8199576056392127, 0.0875682879808868, 0.007960753452807891, 0.07960753452807891, 0.017549565687127382, 0.8774782843563691, 0.017549565687127382, 0.026324348530691072, 0.052648697061382144, 0.07892293309072211, 0.04304887259493933, 0.5847471860812592, 0.29416729606541875, 0.04638808105353763, 0.026093295592614914, 0.04348882598769153, 0.7798996127126013, 0.10437318237045966, 0.9948397666744417, 0.050440715619227215, 0.14601259784513143, 0.8017419008950852, 0.012709030326127949, 0.978595335111852, 0.20255935835765104, 0.4385076219390907, 0.13800747492499302, 0.12020005880563908, 0.1001667156713659, 0.020335579922623342, 0.8337587768275571, 0.11184568957442838, 0.030503369883935014, 0.9923010157043399, 0.9388444758210754, 0.044706879801003595, 0.016923886666108792, 0.15231497999497912, 0.8292704466393308, 0.1719253553662106, 0.8252417057578108, 0.10301903439291576, 0.8897098424842725, 0.04657762185998746, 0.7119722198598083, 0.08650129773997671, 0.09315524371997493, 0.059885513819983874, 0.09504480649588318, 0.23395644675909705, 0.4240460597508634, 0.16084505714687922, 0.08627143974241704, 0.9952804513210028, 0.9925965277908086, 0.9931804243377269, 0.9837354005086608, 0.015057174497581543, 0.9767659296609378, 0.009576136565303312, 0.2792103380551242, 0.46973033343391485, 0.062411722624086584, 0.10839930771551881, 0.07883586015674095, 0.056450964671792295, 0.14112741167948073, 0.1491918352040225, 0.06854759995860492, 0.5846707055292774, 0.06963025104213917, 0.9151404422681149, 0.99643994736072, 0.0435979313847929, 0.8501596620034615, 0.06539689707718935, 0.02179896569239645, 0.5787302757829528, 0.19024005605321975, 0.11614656053775521, 0.07209096860964118, 0.04405559192811405, 0.14129492519773348, 0.06873807171781629, 0.03946074487504268, 0.7510270798798446, 0.01997158725015645, 0.8587782517567274, 0.09985793625078225, 0.06999973136973656, 0.016470525028173307, 0.9141141390636185, 0.08100068116849157, 0.9090076442241831, 0.903891870061752, 0.061375373893081925, 0.01115915888965126, 0.02231831777930252, 0.43184455624802126, 0.027860939112775568, 0.5377161248765684, 0.9854681449364222, 0.008798822722646626, 0.01709692115500071, 0.9787987361237906, 0.10584270699203936, 0.08759396440720499, 0.02554823961876812, 0.2153351625010456, 0.5657110201298655, 0.24475945695080104, 0.33787446774730145, 0.1370120873148506, 0.1875602360329508, 0.09311501079650039, 0.003704928911192516, 0.01852464455596258, 0.03334436020073264, 0.8817730808638188, 0.06668872040146528, 0.40310823466597373, 0.13363515247578728, 0.1916416197592334, 0.10867034377151932, 0.163005515657279, 0.9859377028245284, 0.9888403168556912, 0.24418353240585686, 0.12692708367631172, 0.3100647329807044, 0.16077430598999487, 0.15714781788495738, 0.8643008071397023, 0.026190933549687948, 0.10476373419875179, 0.02595615572614067, 0.8176189053734312, 0.05191231145228134, 0.10382462290456268, 0.0772930347785624, 0.607302416117276, 0.082813965834174, 0.1214604832234552, 0.1159395521678436, 0.04747135053461777, 0.7476737709202299, 0.08900878225240831, 0.017801756450481664, 0.09494270106923554, 0.11907430592977869, 0.10387333070470056, 0.34455543843510433, 0.2102801572802475, 0.22041414076363292, 0.983430353914251, 0.976771688863942, 0.9858784222273554, 0.9973328390838947, 0.034122203065627695, 0.45382530077284833, 0.21838209962001723, 0.10236660919688308, 0.19108433716751508, 0.9826210328294442, 0.010704198861119158, 0.813519113445056, 0.042816795444476634, 0.08563359088895327, 0.05352099430559579, 0.04217696684167951, 0.8857163036752697, 0.04217696684167951, 0.23702645969951722, 0.2146978801626062, 0.17691105325398748, 0.09446706727154672, 0.2782484526907376, 0.9935771185971425, 0.0037635496916558426, 0.03788391448315181, 0.9597258335731791, 0.23067739593293168, 0.22145030009561442, 0.35062964181805617, 0.07843031461719677, 0.11995224588512447, 0.9906224562220036, 0.18250118631592777, 0.2164965053355614, 0.22007495996920703, 0.24870259703837216, 0.1341920487617116, 0.8192473909860262, 0.15241811925321416, 0.017664643515328097, 0.9715553933430453, 0.11029805670475866, 0.07353203780317244, 0.01838300945079311, 0.7978226101644209, 0.19396699312385993, 0.7927346675496884, 0.008433347527124345, 0.10371977179852067, 0.8816180602874257, 0.9951443025127354, 0.09144299254502748, 0.9144299254502748, 0.08885011066881748, 0.9062711288219384, 0.07052290913560713, 0.9309024005900142, 0.002612546348861622, 0.16197787362942057, 0.17504060537372867, 0.117564585698773, 0.5407970942143557, 0.911008870883064, 0.08540708164528725, 0.7575791772322927, 0.0923877045405235, 0.1293427863567329, 0.0184775409081047, 0.01575728829741704, 0.26590424001891255, 0.6401398370825673, 0.01772694933459417, 0.061059492152491034, 0.357702819320041, 0.2155159486403247, 0.11446490218241312, 0.16812032508041927, 0.1439753847763165, 0.9908556716856793, 0.1468242113614644, 0.1607564357972238, 0.19719456124459453, 0.20791165696440944, 0.2882898748630213, 0.9659373324200906, 0.018939947694511582, 0.14584875710614417, 0.2048827778395835, 0.1909924200199507, 0.06250661018834751, 0.3958751978595342, 0.43094102112530125, 0.15986521751422464, 0.16160288292198796, 0.18419253322291101, 0.0625559546794792, 0.29902728531036615, 0.0525820626034214, 0.09188582656961518, 0.4100338619175891, 0.146592416954993, 0.1385485750170866, 0.30969681474407595, 0.15892336546077582, 0.21189782061436774, 0.18133563494883392, 0.29986465675898016, 0.36454134743248573, 0.15091227823817957, 0.09799498586894777, 0.088195487282053, 0.9554954899916216, 0.03674982653813929, 0.07988707678515444, 0.06611344285667954, 0.1294721589276641, 0.7217384178520849, 0.07195264864845076, 0.05139474903460769, 0.8737107335883307, 0.022518254358310123, 0.9682849374073352, 0.9993224937055872, 0.32758944528625566, 0.34018903933572703, 0.10289668473734953, 0.15539499327681358, 0.07349763195524966, 0.9857126568329422, 0.07771338035307303, 0.913132219148608, 0.14566632734765772, 0.49942740804911223, 0.24971370402455612, 0.02774596711383957, 0.07630140956305881, 0.6956298824147716, 0.06927434513674074, 0.08370650037356174, 0.11545724189456791, 0.03752360361573457, 0.04849230716384376, 0.17865586849837176, 0.2654315760547238, 0.12250688125602635, 0.3841101172714993, 0.06589349269342876, 0.09884023904014315, 0.01647337317335719, 0.8236686586678595, 0.9924451347522529, 0.08146303413405628, 0.12005078714492504, 0.2208076977844157, 0.5402285421521626, 0.036443988954709385, 0.295694984438851, 0.22382987429675053, 0.2410475569349621, 0.15945071312778547, 0.08009965401254951, 0.07881039382658894, 0.7250556232046182, 0.07881039382658894, 0.08669143320924784, 0.031524157530635574, 0.08988160707720817, 0.0965395038977421, 0.07323686502587332, 0.7390265470792672, 0.02229837924771889, 0.7358465151747233, 0.11149189623859444, 0.08919351699087556, 0.04459675849543778, 0.06985444356733156, 0.2250865403836239, 0.7063060405141303, 0.012610506270910033, 0.9836194891309826, 0.7304945061567897, 0.1718810602721858, 0.0472672915748511, 0.03437621205443716, 0.01718810602721858, 0.062212278119508045, 0.12442455623901609, 0.16966984941684013, 0.1602437466714601, 0.4826164605634563, 0.023373689178429864, 0.14413774993365083, 0.19088512829051055, 0.01947807431535822, 0.6194027632283914, 0.21162091970414976, 0.7847609105695553, 0.9862577972327631, 0.008092433620148751, 0.21849570774401628, 0.04855460172089251, 0.6797644240924952, 0.04315964597412667, 0.059579944099911915, 0.19065582111971813, 0.7387913068389077, 0.0512793433251258, 0.0341862288834172, 0.0170931144417086, 0.8956791967455306, 0.05583886811800815, 0.04467109449440652, 0.01116777362360163, 0.8934218898881304, 0.9949896576152685, 0.9730671676420295, 0.06652231009271231, 0.9313123412979722, 0.9898155815123565, 0.9100961168034787, 0.08807381775517535, 0.005461557974924433, 0.23302647359677583, 0.41689892541923174, 0.16748777789768263, 0.1765903745225567, 0.0404472998881839, 0.15986313765329827, 0.48344153675876944, 0.07896853787693046, 0.23883167553022874, 0.2481951259637101, 0.46135094002666116, 0.17373658817459708, 0.11825767766506187, 0.8693477385074604, 0.12722162026938447, 0.12528795706787121, 0.8680665596845363, 0.028591457052171882, 0.25017524920650397, 0.3335669989420053, 0.2120533064702748, 0.17393136373404564, 0.8361815827048171, 0.05394719888418175, 0.1078943977683635, 0.9818525716045315, 0.0027921355853717912, 0.1619438639515639, 0.35599728713490336, 0.15217138940276262, 0.3266798634884996, 0.01851747888544792, 0.11110487331268752, 0.8332865498451564, 0.01851747888544792, 0.9748624948958842, 0.022743345586118187, 0.001033788435732645, 0.001033788435732645, 0.9927720129994314, 0.9632727864731312, 0.025201904297262153, 0.011200846354338736, 0.40213098105500256, 0.2059695268818306, 0.16113262307081985, 0.11349341277162094, 0.11769687250390319, 0.08954546146361182, 0.11939394861814909, 0.065666671739982, 0.09551515889451927, 0.6298030789607364, 0.4155975636969953, 0.09490023108041624, 0.23234194505895012, 0.14071413573992753, 0.11617097252947506, 0.986766468802459, 0.1895215837146032, 0.8002022423505468, 0.16294862068246516, 0.7463046827256904, 0.00977691724094791, 0.07821533792758328, 0.9968166695278724, 0.9870677942053266, 0.03183563563996144, 0.1591781781998072, 0.8065027695456899, 0.5809297602361189, 0.255257015861325, 0.0880196606418362, 0.055745785073162926, 0.020537920816428447, 0.9978601271625559, 0.06557784811166556, 0.2890282935291927, 0.22102163622820614, 0.3813230427233886, 0.04371856540777704, 0.9827136280240261, 0.011984312536878367, 0.008888192635188606, 0.9777011898707467, 0.003332919821397562, 0.9965430265978711, 0.7930174955091172, 0.19091161928923192, 0.12181713209919923, 0.6151765171009561, 0.10354456228431934, 0.06090856604959961, 0.09136284907439943, 0.11582713567358563, 0.10858793969398653, 0.15202311557158116, 0.6225708542455228, 0.016921778780989587, 0.1565264537241537, 0.22844401354335944, 0.20447149360362418, 0.39484150488975706, 0.05099696690505371, 0.9519433822276693, 0.0357643974849399, 0.9656387320933773, 0.06369003979383471, 0.03821402387630082, 0.20380812734027107, 0.6920984324263372, 0.02480165864108161, 0.01352817744058997, 0.009018784960393312, 0.7823795953141198, 0.1691022180073746, 0.9820415045975854, 0.033677725729457, 0.067355451458914, 0.8251042803716966, 0.07156516717509613, 0.9925565410515984, 0.8435028019696371, 0.13121154697305468, 0.03748901342087276, 0.9958335127567832, 0.9990537895710696, 0.9881433892581702, 0.9833323740681308, 0.20429230926489647, 0.2703868799094218, 0.40858461852979294, 0.11716764796074944, 0.955357516234348, 0.04153728331453686, 0.994139265173284, 0.045663544171676576, 0.9361026555193698, 0.03193641528019796, 0.9101878354856419, 0.06387283056039592, 0.9725100533152057, 0.02161133451811568, 0.15774976988926276, 0.005633920353187955, 0.8338202122718174, 0.35427394612499996, 0.25264954723655375, 0.1467907983944223, 0.14820224837898405, 0.10021294890388446, 0.021808263919394794, 0.9159470846145813, 0.04361652783878959, 0.017906408375212724, 0.9669460522614871, 0.9561605835508158, 0.03456002109219816, 0.00576000351536636, 0.9984672172044348, 0.1168413686814151, 0.014605171085176888, 0.8617050940254365, 0.038694618142613886, 0.006449103023768981, 0.9544672475178092, 0.027189696860319235, 0.16313818116191542, 0.8156909058095771, 0.27618447990636424, 0.015343582217020237, 0.713476573091441, 0.9862189822758892, 0.013073244832336597, 0.3669846585077345, 0.45382835632254187, 0.10551976186100252, 0.05976340494782444, 0.3017921590577212, 0.519753162821631, 0.11456924556820898, 0.06427055239192211, 0.12851885169833852, 0.0428396172327795, 0.8139527274228106, 0.014759792455228874, 0.9741463020451058, 0.8627938167612459, 0.03710941147360197, 0.032470735039401726, 0.03710941147360197, 0.027832058605201482, 0.8347772933429476, 0.1367714209431948, 0.0188650235783717, 0.00943251178918585, 0.4369003600663768, 0.23850116274154867, 0.11397400697383742, 0.10131022842118882, 0.1097527474562879, 0.05227622863602777, 0.01742540954534259, 0.9322594106758286, 0.09794047507379233, 0.009794047507379233, 0.8912583231715102, 0.40060996390517317, 0.20695017092731693, 0.166129724368259, 0.10062714733163117, 0.12625859051987684, 0.9729321755492707, 0.11512313301444824, 0.0238185792443686, 0.8574688527972697, 0.05772268123192412, 0.28634977160150593, 0.5217677656454317, 0.04640450844135076, 0.08828174776647217, 0.02897347417634074, 0.3283660406651951, 0.5746405711640914, 0.02897347417634074, 0.04346021126451111, 0.0652505497759561, 0.2218518692382507, 0.6459804427819653, 0.04567538484316926, 0.013050109955191218, 0.9038370839657228, 0.04047031719249505, 0.03372526432707921, 0.020235158596247527, 0.0708437474310717, 0.9209687166039321, 0.28535400971742414, 0.22060059982000865, 0.200845322224187, 0.14157948943672197, 0.1525546436566229, 0.98875587987047, 0.9929901326120961, 0.9955064266158704, 0.9799212361807532, 0.11278608903842739, 0.14477020384036948, 0.26597316519509745, 0.39895974779264615, 0.07743522530996508], \"Term\": [\"actin\", \"action\", \"action\", \"action\", \"action\", \"actor\", \"adapter\", \"adapter\", \"also\", \"also\", \"also\", \"also\", \"also\", \"attache\", \"attache\", \"author\", \"baby\", \"baby\", \"baby\", \"baby\", \"back\", \"back\", \"back\", \"back\", \"back\", \"bag\", \"bag\", \"bag\", \"bag\", \"ball\", \"ball\", \"ball\", \"bathroom\", \"bathroom\", \"battery\", \"battery\", \"believable\", \"better\", \"better\", \"better\", \"better\", \"better\", \"birthday\", \"birthday\", \"bit\", \"bit\", \"bit\", \"bit\", \"bit\", \"blade\", \"blade\", \"blade\", \"book\", \"boot\", \"boot\", \"bottle\", \"bought\", \"bought\", \"bought\", \"bought\", \"bought\", \"bra\", \"bright\", \"bright\", \"bright\", \"bright\", \"bulb\", \"cable\", \"cable\", \"cant\", \"cant\", \"cant\", \"cant\", \"cant\", \"cap\", \"cap\", \"case\", \"case\", \"case\", \"case\", \"case\", \"cat\", \"cat\", \"cat\", \"chain\", \"character\", \"charger\", \"cheap\", \"cheap\", \"cheap\", \"cheap\", \"chew\", \"chewer\", \"chewer\", \"christma\", \"christma\", \"christma\", \"christma\", \"christma\", \"clip\", \"cold\", \"cold\", \"cold\", \"cold\", \"collar\", \"collar\", \"color\", \"color\", \"color\", \"color\", \"comfortable\", \"comfortable\", \"comfortable\", \"comfortable\", \"computer\", \"computer\", \"computer\", \"copy\", \"couple\", \"couple\", \"couple\", \"couple\", \"couple\", \"cup\", \"cup\", \"cup\", \"cup\", \"cut\", \"cut\", \"cut\", \"cut\", \"cut\", \"cute\", \"cute\", \"cute\", \"cute\", \"daughter\", \"daughter\", \"daughter\", \"daughter\", \"daughter\", \"develope\", \"dog\", \"dog\", \"dog\", \"doll\", \"doll\", \"dont\", \"dont\", \"dont\", \"dont\", \"dont\", \"door\", \"door\", \"door\", \"door\", \"dres\", \"drill\", \"drill\", \"drive\", \"drive\", \"drive\", \"driver\", \"driver\", \"ear\", \"ear\", \"easily\", \"easily\", \"easily\", \"easily\", \"easily\", \"easy\", \"easy\", \"easy\", \"easy\", \"easy\", \"eat\", \"endin\", \"enjoyable\", \"enjoye\", \"enjoye\", \"entertainin\", \"entertainin\", \"even\", \"even\", \"even\", \"even\", \"even\", \"expecte\", \"expecte\", \"expecte\", \"expecte\", \"expecte\", \"fabric\", \"fabric\", \"film\", \"finger\", \"finger\", \"finger\", \"finger\", \"first\", \"first\", \"first\", \"first\", \"first\", \"fit\", \"fit\", \"fit\", \"fit\", \"flat\", \"flat\", \"flat\", \"food\", \"food\", \"food\", \"foot\", \"foot\", \"forward\", \"forward\", \"forward\", \"forward\", \"fun\", \"fun\", \"fun\", \"funny\", \"funny\", \"game\", \"game\", \"gave\", \"gave\", \"gave\", \"gave\", \"gave\", \"get\", \"get\", \"get\", \"get\", \"get\", \"gift\", \"gift\", \"gift\", \"gift\", \"gift\", \"good\", \"good\", \"good\", \"good\", \"good\", \"granddaughter\", \"grandson\", \"great\", \"great\", \"great\", \"great\", \"great\", \"grip\", \"grip\", \"grip\", \"gun\", \"gun\", \"gun\", \"gun\", \"hand\", \"hand\", \"hand\", \"hand\", \"hand\", \"handle\", \"handle\", \"handle\", \"handle\", \"handle\", \"happy\", \"happy\", \"happy\", \"happy\", \"happy\", \"harnes\", \"headphone\", \"heel\", \"history\", \"hold\", \"hold\", \"hold\", \"hold\", \"hold\", \"holder\", \"hole\", \"hole\", \"hole\", \"hole\", \"hole\", \"ice\", \"ice\", \"ice\", \"im\", \"im\", \"im\", \"im\", \"im\", \"interestin\", \"interestin\", \"ipad\", \"ipad\", \"ive\", \"ive\", \"ive\", \"ive\", \"ive\", \"jean\", \"keep\", \"keep\", \"keep\", \"keep\", \"keep\", \"key\", \"key\", \"keyboard\", \"keyboard\", \"kid\", \"kid\", \"kid\", \"kid\", \"kitchen\", \"kitchen\", \"kitchen\", \"knee\", \"knee\", \"knife\", \"lab\", \"lab\", \"lamp\", \"lamp\", \"laptop\", \"laptop\", \"large\", \"large\", \"large\", \"large\", \"large\", \"len\", \"len\", \"life\", \"life\", \"life\", \"life\", \"light\", \"light\", \"light\", \"light\", \"light\", \"like\", \"like\", \"like\", \"like\", \"like\", \"litter\", \"little\", \"little\", \"little\", \"little\", \"little\", \"lock\", \"lock\", \"look\", \"look\", \"look\", \"look\", \"look\", \"lot\", \"lot\", \"lot\", \"lot\", \"lot\", \"love\", \"love\", \"love\", \"love\", \"love\", \"made\", \"made\", \"made\", \"made\", \"made\", \"make\", \"make\", \"make\", \"make\", \"make\", \"mat\", \"mat\", \"material\", \"material\", \"material\", \"material\", \"medium\", \"medium\", \"medium\", \"mouse\", \"mouse\", \"movie\", \"much\", \"much\", \"much\", \"much\", \"much\", \"mystery\", \"narrow\", \"narrow\", \"nee\", \"nee\", \"nee\", \"nee\", \"nee\", \"next\", \"next\", \"next\", \"next\", \"next\", \"nice\", \"nice\", \"nice\", \"nice\", \"nice\", \"normally\", \"normally\", \"normally\", \"normally\", \"novel\", \"old\", \"old\", \"old\", \"old\", \"old\", \"one\", \"one\", \"one\", \"one\", \"one\", \"open\", \"open\", \"open\", \"open\", \"open\", \"ordere\", \"ordere\", \"ordere\", \"ordere\", \"pack\", \"pack\", \"pack\", \"pack\", \"pack\", \"pair\", \"pair\", \"pair\", \"pant\", \"pant\", \"people\", \"people\", \"people\", \"people\", \"people\", \"perfect\", \"perfect\", \"perfect\", \"perfect\", \"perfect\", \"perfectly\", \"perfectly\", \"perfectly\", \"perfectly\", \"perfectly\", \"phone\", \"phone\", \"picky\", \"piece\", \"piece\", \"piece\", \"piece\", \"piece\", \"pillow\", \"pillow\", \"pillow\", \"play\", \"play\", \"play\", \"play\", \"playin\", \"playin\", \"playin\", \"playin\", \"plot\", \"port\", \"portable\", \"portable\", \"predictable\", \"pres\", \"pres\", \"price\", \"price\", \"price\", \"price\", \"price\", \"problem\", \"problem\", \"problem\", \"problem\", \"problem\", \"product\", \"product\", \"product\", \"product\", \"pump\", \"pump\", \"puppy\", \"puppy\", \"purchase\", \"purchase\", \"purchase\", \"purchase\", \"purchase\", \"push\", \"push\", \"push\", \"puzzle\", \"quality\", \"quality\", \"quality\", \"quality\", \"quality\", \"quiet\", \"quiet\", \"quiet\", \"quiet\", \"read\", \"read\", \"read\", \"read\", \"reader\", \"readin\", \"readin\", \"readin\", \"really\", \"really\", \"really\", \"really\", \"really\", \"reason\", \"reason\", \"reason\", \"reason\", \"reason\", \"recommend\", \"recommend\", \"recommend\", \"recommend\", \"recommend\", \"relationship\", \"remote\", \"remote\", \"replace\", \"replace\", \"replace\", \"replace\", \"romance\", \"scene\", \"screen\", \"screen\", \"screen\", \"see\", \"see\", \"see\", \"see\", \"see\", \"serie\", \"set\", \"set\", \"set\", \"set\", \"set\", \"sharp\", \"sharp\", \"shirt\", \"shirt\", \"shoe\", \"shoe\", \"shower\", \"shower\", \"side\", \"side\", \"side\", \"side\", \"side\", \"size\", \"size\", \"size\", \"size\", \"small\", \"small\", \"small\", \"small\", \"small\", \"snug\", \"snug\", \"sock\", \"sock\", \"soft\", \"soft\", \"soft\", \"soft\", \"son\", \"son\", \"son\", \"son\", \"son\", \"sony\", \"sound\", \"sound\", \"sound\", \"sound\", \"speaker\", \"steel\", \"steel\", \"steel\", \"storie\", \"story\", \"storyline\", \"stretchy\", \"sturdy\", \"sturdy\", \"sturdy\", \"sturdy\", \"suction\", \"suction\", \"suspense\", \"tablet\", \"tablet\", \"tank\", \"tank\", \"tank\", \"tape\", \"tape\", \"tight\", \"tight\", \"tight\", \"time\", \"time\", \"time\", \"time\", \"time\", \"tip\", \"tip\", \"tip\", \"toe\", \"toe\", \"told\", \"told\", \"told\", \"toy\", \"train\", \"train\", \"train\", \"treat\", \"treat\", \"treat\", \"tree\", \"tree\", \"tree\", \"tv\", \"tv\", \"tv\", \"usb\", \"use\", \"use\", \"use\", \"use\", \"use\", \"usin\", \"usin\", \"usin\", \"usin\", \"volume\", \"volume\", \"volume\", \"waist\", \"waist\", \"wait\", \"wait\", \"wait\", \"wait\", \"wait\", \"water\", \"water\", \"water\", \"water\", \"way\", \"way\", \"way\", \"way\", \"way\", \"wear\", \"wear\", \"wear\", \"wearin\", \"wearin\", \"wearin\", \"well\", \"well\", \"well\", \"well\", \"well\", \"wheel\", \"wide\", \"wide\", \"wide\", \"work\", \"work\", \"work\", \"work\", \"work\", \"worke\", \"worke\", \"worke\", \"worke\", \"worke\", \"workin\", \"workin\", \"workin\", \"workin\", \"workin\", \"world\", \"world\", \"world\", \"world\", \"worn\", \"worn\", \"would\", \"would\", \"would\", \"would\", \"would\", \"writer\", \"writin\", \"written\", \"xl\", \"year\", \"year\", \"year\", \"year\", \"year\"]}, \"R\": 30, \"lambda.step\": 0.01, \"plot.opts\": {\"xlab\": \"PC1\", \"ylab\": \"PC2\"}, \"topic.order\": [2, 1, 4, 5, 3]};\n",
              "\n",
              "function LDAvis_load_lib(url, callback){\n",
              "  var s = document.createElement('script');\n",
              "  s.src = url;\n",
              "  s.async = true;\n",
              "  s.onreadystatechange = s.onload = callback;\n",
              "  s.onerror = function(){console.warn(\"failed to load library \" + url);};\n",
              "  document.getElementsByTagName(\"head\")[0].appendChild(s);\n",
              "}\n",
              "\n",
              "if(typeof(LDAvis) !== \"undefined\"){\n",
              "   // already loaded: just create the visualization\n",
              "   !function(LDAvis){\n",
              "       new LDAvis(\"#\" + \"ldavis_el16661330536792864488106742318\", ldavis_el16661330536792864488106742318_data);\n",
              "   }(LDAvis);\n",
              "}else if(typeof define === \"function\" && define.amd){\n",
              "   // require.js is available: use it to load d3/LDAvis\n",
              "   require.config({paths: {d3: \"https://d3js.org/d3.v5\"}});\n",
              "   require([\"d3\"], function(d3){\n",
              "      window.d3 = d3;\n",
              "      LDAvis_load_lib(\"https://cdn.jsdelivr.net/gh/bmabey/pyLDAvis@3.4.0/pyLDAvis/js/ldavis.v3.0.0.js\", function(){\n",
              "        new LDAvis(\"#\" + \"ldavis_el16661330536792864488106742318\", ldavis_el16661330536792864488106742318_data);\n",
              "      });\n",
              "    });\n",
              "}else{\n",
              "    // require.js not available: dynamically load d3 & LDAvis\n",
              "    LDAvis_load_lib(\"https://d3js.org/d3.v5.js\", function(){\n",
              "         LDAvis_load_lib(\"https://cdn.jsdelivr.net/gh/bmabey/pyLDAvis@3.4.0/pyLDAvis/js/ldavis.v3.0.0.js\", function(){\n",
              "                 new LDAvis(\"#\" + \"ldavis_el16661330536792864488106742318\", ldavis_el16661330536792864488106742318_data);\n",
              "            })\n",
              "         });\n",
              "}\n",
              "</script>"
            ]
          },
          "metadata": {},
          "execution_count": 6
        }
      ],
      "source": [
        "\n",
        "#Visualize LDA Topics:\n",
        "import pyLDAvis\n",
        "import pyLDAvis.lda_model # Import lda_model instead of sklearn\n",
        "\n",
        "# Prepare LDA visualization\n",
        "# Use pyLDAvis.lda_model.prepare instead of pyLDAvis.sklearn.prepare\n",
        "lda_vis = pyLDAvis.lda_model.prepare(lda_model, tfidf_matrix, tfidf)\n",
        "pyLDAvis.display(lda_vis)"
      ]
    },
    {
      "cell_type": "code",
      "execution_count": null,
      "metadata": {
        "colab": {
          "base_uri": "https://localhost:8080/"
        },
        "id": "6PVPr5Q8_nPx",
        "outputId": "ff5ee2f8-6bff-4aa2-c213-ed06d3e6b584"
      },
      "outputs": [
        {
          "output_type": "stream",
          "name": "stderr",
          "text": [
            "/usr/local/lib/python3.10/dist-packages/ipykernel/ipkernel.py:283: DeprecationWarning: `should_run_async` will not call `transform_cell` automatically in the future. Please pass the result to `transformed_cell` argument and any exception that happen during thetransform in `preprocessing_exc_tuple` in IPython 7.17 and above.\n",
            "  and should_run_async(code)\n"
          ]
        }
      ],
      "source": [
        "#This visualization helps identify the most common words in each topic and the relative importance of each topic within the dataset."
      ]
    },
    {
      "cell_type": "code",
      "execution_count": null,
      "metadata": {
        "colab": {
          "base_uri": "https://localhost:8080/"
        },
        "id": "biON4Y_BzdJy",
        "outputId": "1638087a-a38a-4f3d-94c7-35fcb345c216"
      },
      "outputs": [
        {
          "output_type": "stream",
          "name": "stderr",
          "text": [
            "/usr/local/lib/python3.10/dist-packages/ipykernel/ipkernel.py:283: DeprecationWarning: `should_run_async` will not call `transform_cell` automatically in the future. Please pass the result to `transformed_cell` argument and any exception that happen during thetransform in `preprocessing_exc_tuple` in IPython 7.17 and above.\n",
            "  and should_run_async(code)\n"
          ]
        }
      ],
      "source": [
        "#NMF Model:\n",
        "from sklearn.decomposition import NMF\n",
        "nmf_model = NMF(n_components=5, random_state=42)\n",
        "nmf_topics = nmf_model.fit_transform(tfidf_matrix)\n",
        "#Non-Negative Matrix Factorization (NMF) is a linear algebra technique used for dimensionality reduction.\n",
        "#In the context of text data, it is commonly used for topic modeling.\n",
        "# NMF identifies latent features (topics) in a non-negative matrix, such as the TF-IDF representation of text data\n",
        "#Mathematical Basis:\n",
        "#LDA uses a probabilistic approach, while NMF relies on matrix factorization.\n",
        "#Non-Negativity:\n",
        "#NMF ensures all values in the decomposed matrices are non-negative, making the results more interpretable.\n",
        "#Speed:\n",
        "#NMF is often faster than LDA for smaller datasets."
      ]
    },
    {
      "cell_type": "code",
      "execution_count": null,
      "metadata": {
        "colab": {
          "base_uri": "https://localhost:8080/"
        },
        "id": "hTvh0l55zdOw",
        "outputId": "c3949b79-5b5a-44e0-94ec-71238df38eb0"
      },
      "outputs": [
        {
          "output_type": "stream",
          "name": "stdout",
          "text": [
            "Topic 1: use, one, get, work, like, well, great, would, dont, make\n",
            "Topic 2: book, story, read, movie, character, love, good, serie, well, great\n",
            "Topic 3: fit, comfortable, size, wear, nice, shoe, small, love, little, material\n",
            "Topic 4: great, use, work, light, one, product, easy, bought, good, quality\n",
            "Topic 5: love, dog, toy, cat, son, bought, daughter, great, play, old\n",
            "Topic 1: use, great, one, work, product, easy, like, light, would, get\n",
            "Topic 2: book, read, story, character, serie, well, enjoye, author, readin, good\n",
            "Topic 3: movie, good, actin, story, watch, film, like, great, action, one\n",
            "Topic 4: love, dog, son, toy, bought, daughter, play, old, christma, year\n",
            "Topic 5: fit, size, comfortable, nice, wear, shoe, perfect, little, ordere, small\n"
          ]
        },
        {
          "output_type": "stream",
          "name": "stderr",
          "text": [
            "/usr/local/lib/python3.10/dist-packages/ipykernel/ipkernel.py:283: DeprecationWarning: `should_run_async` will not call `transform_cell` automatically in the future. Please pass the result to `transformed_cell` argument and any exception that happen during thetransform in `preprocessing_exc_tuple` in IPython 7.17 and above.\n",
            "  and should_run_async(code)\n"
          ]
        }
      ],
      "source": [
        "#Display Topics:\n",
        "def display_topics(model, feature_names, n_top_words=10):\n",
        "    for idx, topic in enumerate(model.components_):\n",
        "        top_words = [feature_names[i] for i in topic.argsort()[:-n_top_words - 1:-1]]\n",
        "        print(f\"Topic {idx + 1}: {', '.join(top_words)}\")\n",
        "\n",
        "tfidf_feature_names = tfidf.get_feature_names_out()\n",
        "display_topics(lda_model, tfidf_feature_names)\n",
        "display_topics(nmf_model, tfidf_feature_names)\n"
      ]
    },
    {
      "cell_type": "code",
      "execution_count": null,
      "metadata": {
        "colab": {
          "base_uri": "https://localhost:8080/"
        },
        "id": "r7glUSoeASLU",
        "outputId": "da7b4b02-e2ca-4835-af75-63094651fd90"
      },
      "outputs": [
        {
          "output_type": "stream",
          "name": "stderr",
          "text": [
            "/usr/local/lib/python3.10/dist-packages/ipykernel/ipkernel.py:283: DeprecationWarning: `should_run_async` will not call `transform_cell` automatically in the future. Please pass the result to `transformed_cell` argument and any exception that happen during thetransform in `preprocessing_exc_tuple` in IPython 7.17 and above.\n",
            "  and should_run_async(code)\n"
          ]
        }
      ],
      "source": [
        "#Clustering and Visualization"
      ]
    },
    {
      "cell_type": "code",
      "execution_count": null,
      "metadata": {
        "colab": {
          "base_uri": "https://localhost:8080/"
        },
        "id": "LHY0SAcGASYr",
        "outputId": "aedf2d74-b7d8-44ac-fd8d-d2f39131086e"
      },
      "outputs": [
        {
          "output_type": "stream",
          "name": "stderr",
          "text": [
            "/usr/local/lib/python3.10/dist-packages/ipykernel/ipkernel.py:283: DeprecationWarning: `should_run_async` will not call `transform_cell` automatically in the future. Please pass the result to `transformed_cell` argument and any exception that happen during thetransform in `preprocessing_exc_tuple` in IPython 7.17 and above.\n",
            "  and should_run_async(code)\n"
          ]
        }
      ],
      "source": [
        "#K-Means Clustering:\n",
        "from sklearn.cluster import KMeans\n",
        "\n",
        "# Define and fit K-Means model\n",
        "kmeans = KMeans(n_clusters=5, random_state=42)\n",
        "kmeans_labels = kmeans.fit_predict(tfidf_matrix)\n",
        "#K-Means is an unsupervised machine learning algorithm used for\n",
        "#clustering data points into a predefined number of groups (clusters) based on their similarities.\n",
        "# It minimizes the within-cluster variance by iteratively refining cluster centroids."
      ]
    },
    {
      "cell_type": "code",
      "execution_count": null,
      "metadata": {
        "colab": {
          "base_uri": "https://localhost:8080/"
        },
        "id": "_5ERxKtpASi2",
        "outputId": "f73f02b2-336a-427e-cd16-bd42cc2ecba0"
      },
      "outputs": [
        {
          "output_type": "stream",
          "name": "stderr",
          "text": [
            "/usr/local/lib/python3.10/dist-packages/ipykernel/ipkernel.py:283: DeprecationWarning: `should_run_async` will not call `transform_cell` automatically in the future. Please pass the result to `transformed_cell` argument and any exception that happen during thetransform in `preprocessing_exc_tuple` in IPython 7.17 and above.\n",
            "  and should_run_async(code)\n"
          ]
        }
      ],
      "source": [
        "#DBSCAN (Density-Based Spatial Clustering of Applications with Noise) is an unsupervised machine learning algorithm used for clustering data.\n",
        "#It groups together data points that are closely packed (based on density) and marks data points in low-density regions as outliers.\n",
        "#Geospatial data clustering.--application\n",
        "#pretrained_model\n",
        "#DBSCAN Clustering:\n",
        "from sklearn.cluster import DBSCAN\n",
        "\n",
        "# Define and fit DBSCAN model\n",
        "dbscan = DBSCAN(eps=0.5, min_samples=10)\n",
        "dbscan_labels = dbscan.fit_predict(tfidf_matrix)\n"
      ]
    },
    {
      "cell_type": "code",
      "execution_count": null,
      "metadata": {
        "colab": {
          "base_uri": "https://localhost:8080/",
          "height": 1000
        },
        "id": "OMCOBwASASvW",
        "outputId": "e419d044-9275-4e04-cbe0-d65ed2061820"
      },
      "outputs": [
        {
          "output_type": "stream",
          "name": "stderr",
          "text": [
            "/usr/local/lib/python3.10/dist-packages/ipykernel/ipkernel.py:283: DeprecationWarning: `should_run_async` will not call `transform_cell` automatically in the future. Please pass the result to `transformed_cell` argument and any exception that happen during thetransform in `preprocessing_exc_tuple` in IPython 7.17 and above.\n",
            "  and should_run_async(code)\n"
          ]
        },
        {
          "output_type": "display_data",
          "data": {
            "text/plain": [
              "<Figure size 1000x700 with 1 Axes>"
            ],
            "image/png": "[encoded data removed]"
          },
          "metadata": {}
        },
        {
          "output_type": "display_data",
          "data": {
            "text/plain": [
              "<Figure size 1000x700 with 1 Axes>"
            ],
            "image/png": "[encoded data removed]"
          },
          "metadata": {}
        }
      ],
      "source": [
        "#Dimensionality Reduction for Visualization:\n",
        "from sklearn.decomposition import PCA\n",
        "import matplotlib.pyplot as plt\n",
        "#Dimensionality reduction, like PCA (Principal Component Analysis),\n",
        "# is a technique to reduce the number of features in a dataset while retaining as much information as possible.\n",
        "# This is especially helpful when visualizing high-dimensional data, such as TF-IDF vectors.\n",
        "\n",
        "####Reduce dimensions with PCA\n",
        "pca = PCA(n_components=2)\n",
        "reduced_data = pca.fit_transform(tfidf_matrix.toarray())\n",
        "\n",
        "# Plot K-Means clusters\n",
        "plt.figure(figsize=(10, 7))\n",
        "plt.scatter(reduced_data[:, 0], reduced_data[:, 1], c=kmeans_labels, cmap='viridis')\n",
        "plt.title(\"K-Means Clustering Visualization\")\n",
        "plt.show()\n",
        "\n",
        "# Plot DBSCAN clusters\n",
        "plt.figure(figsize=(10, 7))\n",
        "plt.scatter(reduced_data[:, 0], reduced_data[:, 1], c=dbscan_labels, cmap='viridis')\n",
        "plt.title(\"DBSCAN Clustering Visualization\")\n",
        "plt.show()\n"
      ]
    },
    {
      "cell_type": "code",
      "execution_count": null,
      "metadata": {
        "colab": {
          "base_uri": "https://localhost:8080/"
        },
        "id": "jHdPiCAlzdTA",
        "outputId": "7bcc06e0-d4ce-4caa-b8c6-00e56ac08a38"
      },
      "outputs": [
        {
          "output_type": "stream",
          "name": "stderr",
          "text": [
            "/usr/local/lib/python3.10/dist-packages/ipykernel/ipkernel.py:283: DeprecationWarning: `should_run_async` will not call `transform_cell` automatically in the future. Please pass the result to `transformed_cell` argument and any exception that happen during thetransform in `preprocessing_exc_tuple` in IPython 7.17 and above.\n",
            "  and should_run_async(code)\n"
          ]
        }
      ],
      "source": [
        "#Traditional Machine Learning Model Setup\n",
        "#Data Splitting: Split the data into training and test sets.\n",
        "#Training and Evaluation: Train Logistic Regression, Random Forest, and SVM models.\n",
        "#Evaluation Metrics: Use accuracy, precision, recall, and F1-score."
      ]
    },
    {
      "cell_type": "code",
      "execution_count": null,
      "metadata": {
        "colab": {
          "base_uri": "https://localhost:8080/"
        },
        "id": "VsVggA81zPxc",
        "outputId": "a1c3f1f6-6437-49ff-9510-190cdf8b060c"
      },
      "outputs": [
        {
          "output_type": "stream",
          "name": "stderr",
          "text": [
            "/usr/local/lib/python3.10/dist-packages/ipykernel/ipkernel.py:283: DeprecationWarning: `should_run_async` will not call `transform_cell` automatically in the future. Please pass the result to `transformed_cell` argument and any exception that happen during thetransform in `preprocessing_exc_tuple` in IPython 7.17 and above.\n",
            "  and should_run_async(code)\n"
          ]
        }
      ],
      "source": [
        "#Importing Libraries and Splitting the Data\n",
        "from sklearn.model_selection import train_test_split\n",
        "from sklearn.linear_model import LogisticRegression\n",
        "from sklearn.ensemble import RandomForestClassifier\n",
        "from sklearn.svm import SVC\n",
        "from sklearn.metrics import accuracy_score, precision_score, recall_score, f1_score\n",
        "\n",
        "# Define features and target\n",
        "X = tfidf_matrix\n",
        "y = reviews_data['label'].apply(lambda x: 1 if x == 'CG' else 0)  # 1 for fake, 0 for original\n",
        "\n",
        "# Split data\n",
        "X_train, X_test, y_train, y_test = train_test_split(X, y, test_size=0.2, random_state=42)\n",
        "#1- for 'CG' (indicating fake reviews).\n",
        "#0 -for all other labels (e.g., original reviews)."
      ]
    },
    {
      "cell_type": "code",
      "execution_count": null,
      "metadata": {
        "colab": {
          "base_uri": "https://localhost:8080/"
        },
        "id": "vYl776hY1CoE",
        "outputId": "46ab62db-7c25-4e14-9dd7-4372d94a4b0c"
      },
      "outputs": [
        {
          "output_type": "stream",
          "name": "stderr",
          "text": [
            "/usr/local/lib/python3.10/dist-packages/ipykernel/ipkernel.py:283: DeprecationWarning: `should_run_async` will not call `transform_cell` automatically in the future. Please pass the result to `transformed_cell` argument and any exception that happen during thetransform in `preprocessing_exc_tuple` in IPython 7.17 and above.\n",
            "  and should_run_async(code)\n"
          ]
        }
      ],
      "source": [
        "#Training Models and Evaluating Performance\n",
        "# Logistic Regression\n",
        "logreg = LogisticRegression(random_state=42)\n",
        "logreg.fit(X_train, y_train)\n",
        "y_pred_logreg = logreg.predict(X_test)\n",
        "\n",
        "# Random Forest\n",
        "rf = RandomForestClassifier(random_state=42)\n",
        "rf.fit(X_train, y_train)\n",
        "y_pred_rf = rf.predict(X_test)\n",
        "\n",
        "# Support Vector Machine (SVM)\n",
        "svm = SVC(random_state=42)\n",
        "svm.fit(X_train, y_train)\n",
        "y_pred_svm = svm.predict(X_test)\n"
      ]
    },
    {
      "cell_type": "code",
      "execution_count": null,
      "metadata": {
        "colab": {
          "base_uri": "https://localhost:8080/"
        },
        "id": "9sWBlfLI1FLc",
        "outputId": "3a94ba2f-7258-4e98-9f6c-5beec4529a62"
      },
      "outputs": [
        {
          "output_type": "stream",
          "name": "stdout",
          "text": [
            "Logistic Regression - Accuracy: 0.84, Precision: 0.85, Recall: 0.84, F1 Score: 0.84\n",
            "Random Forest - Accuracy: 0.83, Precision: 0.82, Recall: 0.85, F1 Score: 0.83\n",
            "SVM - Accuracy: 0.86, Precision: 0.87, Recall: 0.85, F1 Score: 0.86\n"
          ]
        },
        {
          "output_type": "stream",
          "name": "stderr",
          "text": [
            "/usr/local/lib/python3.10/dist-packages/ipykernel/ipkernel.py:283: DeprecationWarning: `should_run_async` will not call `transform_cell` automatically in the future. Please pass the result to `transformed_cell` argument and any exception that happen during thetransform in `preprocessing_exc_tuple` in IPython 7.17 and above.\n",
            "  and should_run_async(code)\n"
          ]
        }
      ],
      "source": [
        "#Evaluate the Models\n",
        "# Function to evaluate and print results\n",
        "def evaluate_model(name, y_test, y_pred):\n",
        "    accuracy = accuracy_score(y_test, y_pred)\n",
        "    precision = precision_score(y_test, y_pred)\n",
        "    recall = recall_score(y_test, y_pred)\n",
        "    f1 = f1_score(y_test, y_pred)\n",
        "    print(f\"{name} - Accuracy: {accuracy:.2f}, Precision: {precision:.2f}, Recall: {recall:.2f}, F1 Score: {f1:.2f}\")\n",
        "\n",
        "# Evaluate each model\n",
        "evaluate_model(\"Logistic Regression\", y_test, y_pred_logreg)\n",
        "evaluate_model(\"Random Forest\", y_test, y_pred_rf)\n",
        "evaluate_model(\"SVM\", y_test, y_pred_svm)\n"
      ]
    },
    {
      "cell_type": "code",
      "execution_count": null,
      "metadata": {
        "colab": {
          "base_uri": "https://localhost:8080/"
        },
        "id": "oPbk8p-f1FP6",
        "outputId": "74e36e3a-937a-47e2-ef92-e81396791927"
      },
      "outputs": [
        {
          "output_type": "stream",
          "name": "stderr",
          "text": [
            "/usr/local/lib/python3.10/dist-packages/ipykernel/ipkernel.py:283: DeprecationWarning: `should_run_async` will not call `transform_cell` automatically in the future. Please pass the result to `transformed_cell` argument and any exception that happen during thetransform in `preprocessing_exc_tuple` in IPython 7.17 and above.\n",
            "  and should_run_async(code)\n"
          ]
        }
      ],
      "source": [
        "# SVM is currently the best-performing model"
      ]
    },
    {
      "cell_type": "code",
      "execution_count": null,
      "metadata": {
        "colab": {
          "base_uri": "https://localhost:8080/"
        },
        "id": "QnV4iHsF5jUL",
        "outputId": "15041746-3cda-4d7b-b91d-0d087bdf288f"
      },
      "outputs": [
        {
          "output_type": "stream",
          "name": "stderr",
          "text": [
            "/usr/local/lib/python3.10/dist-packages/ipykernel/ipkernel.py:283: DeprecationWarning: `should_run_async` will not call `transform_cell` automatically in the future. Please pass the result to `transformed_cell` argument and any exception that happen during thetransform in `preprocessing_exc_tuple` in IPython 7.17 and above.\n",
            "  and should_run_async(code)\n"
          ]
        },
        {
          "output_type": "stream",
          "name": "stdout",
          "text": [
            "Requirement already satisfied: tensorflow in /usr/local/lib/python3.10/dist-packages (2.17.1)\n",
            "Requirement already satisfied: absl-py>=1.0.0 in /usr/local/lib/python3.10/dist-packages (from tensorflow) (1.4.0)\n",
            "Requirement already satisfied: astunparse>=1.6.0 in /usr/local/lib/python3.10/dist-packages (from tensorflow) (1.6.3)\n",
            "Requirement already satisfied: flatbuffers>=24.3.25 in /usr/local/lib/python3.10/dist-packages (from tensorflow) (24.3.25)\n",
            "Requirement already satisfied: gast!=0.5.0,!=0.5.1,!=0.5.2,>=0.2.1 in /usr/local/lib/python3.10/dist-packages (from tensorflow) (0.6.0)\n",
            "Requirement already satisfied: google-pasta>=0.1.1 in /usr/local/lib/python3.10/dist-packages (from tensorflow) (0.2.0)\n",
            "Requirement already satisfied: h5py>=3.10.0 in /usr/local/lib/python3.10/dist-packages (from tensorflow) (3.12.1)\n",
            "Requirement already satisfied: libclang>=13.0.0 in /usr/local/lib/python3.10/dist-packages (from tensorflow) (18.1.1)\n",
            "Requirement already satisfied: ml-dtypes<0.5.0,>=0.3.1 in /usr/local/lib/python3.10/dist-packages (from tensorflow) (0.4.1)\n",
            "Requirement already satisfied: opt-einsum>=2.3.2 in /usr/local/lib/python3.10/dist-packages (from tensorflow) (3.4.0)\n",
            "Requirement already satisfied: packaging in /usr/local/lib/python3.10/dist-packages (from tensorflow) (24.2)\n",
            "Requirement already satisfied: protobuf!=4.21.0,!=4.21.1,!=4.21.2,!=4.21.3,!=4.21.4,!=4.21.5,<5.0.0dev,>=3.20.3 in /usr/local/lib/python3.10/dist-packages (from tensorflow) (4.25.5)\n",
            "Requirement already satisfied: requests<3,>=2.21.0 in /usr/local/lib/python3.10/dist-packages (from tensorflow) (2.32.3)\n",
            "Requirement already satisfied: setuptools in /usr/local/lib/python3.10/dist-packages (from tensorflow) (75.1.0)\n",
            "Requirement already satisfied: six>=1.12.0 in /usr/local/lib/python3.10/dist-packages (from tensorflow) (1.16.0)\n",
            "Requirement already satisfied: termcolor>=1.1.0 in /usr/local/lib/python3.10/dist-packages (from tensorflow) (2.5.0)\n",
            "Requirement already satisfied: typing-extensions>=3.6.6 in /usr/local/lib/python3.10/dist-packages (from tensorflow) (4.12.2)\n",
            "Requirement already satisfied: wrapt>=1.11.0 in /usr/local/lib/python3.10/dist-packages (from tensorflow) (1.16.0)\n",
            "Requirement already satisfied: grpcio<2.0,>=1.24.3 in /usr/local/lib/python3.10/dist-packages (from tensorflow) (1.67.1)\n",
            "Requirement already satisfied: tensorboard<2.18,>=2.17 in /usr/local/lib/python3.10/dist-packages (from tensorflow) (2.17.1)\n",
            "Requirement already satisfied: keras>=3.2.0 in /usr/local/lib/python3.10/dist-packages (from tensorflow) (3.5.0)\n",
            "Requirement already satisfied: tensorflow-io-gcs-filesystem>=0.23.1 in /usr/local/lib/python3.10/dist-packages (from tensorflow) (0.37.1)\n",
            "Requirement already satisfied: numpy<2.0.0,>=1.23.5 in /usr/local/lib/python3.10/dist-packages (from tensorflow) (1.26.4)\n",
            "Requirement already satisfied: wheel<1.0,>=0.23.0 in /usr/local/lib/python3.10/dist-packages (from astunparse>=1.6.0->tensorflow) (0.45.0)\n",
            "Requirement already satisfied: rich in /usr/local/lib/python3.10/dist-packages (from keras>=3.2.0->tensorflow) (13.9.4)\n",
            "Requirement already satisfied: namex in /usr/local/lib/python3.10/dist-packages (from keras>=3.2.0->tensorflow) (0.0.8)\n",
            "Requirement already satisfied: optree in /usr/local/lib/python3.10/dist-packages (from keras>=3.2.0->tensorflow) (0.13.1)\n",
            "Requirement already satisfied: charset-normalizer<4,>=2 in /usr/local/lib/python3.10/dist-packages (from requests<3,>=2.21.0->tensorflow) (3.4.0)\n",
            "Requirement already satisfied: idna<4,>=2.5 in /usr/local/lib/python3.10/dist-packages (from requests<3,>=2.21.0->tensorflow) (3.10)\n",
            "Requirement already satisfied: urllib3<3,>=1.21.1 in /usr/local/lib/python3.10/dist-packages (from requests<3,>=2.21.0->tensorflow) (2.2.3)\n",
            "Requirement already satisfied: certifi>=2017.4.17 in /usr/local/lib/python3.10/dist-packages (from requests<3,>=2.21.0->tensorflow) (2024.8.30)\n",
            "Requirement already satisfied: markdown>=2.6.8 in /usr/local/lib/python3.10/dist-packages (from tensorboard<2.18,>=2.17->tensorflow) (3.7)\n",
            "Requirement already satisfied: tensorboard-data-server<0.8.0,>=0.7.0 in /usr/local/lib/python3.10/dist-packages (from tensorboard<2.18,>=2.17->tensorflow) (0.7.2)\n",
            "Requirement already satisfied: werkzeug>=1.0.1 in /usr/local/lib/python3.10/dist-packages (from tensorboard<2.18,>=2.17->tensorflow) (3.1.3)\n",
            "Requirement already satisfied: MarkupSafe>=2.1.1 in /usr/local/lib/python3.10/dist-packages (from werkzeug>=1.0.1->tensorboard<2.18,>=2.17->tensorflow) (3.0.2)\n",
            "Requirement already satisfied: markdown-it-py>=2.2.0 in /usr/local/lib/python3.10/dist-packages (from rich->keras>=3.2.0->tensorflow) (3.0.0)\n",
            "Requirement already satisfied: pygments<3.0.0,>=2.13.0 in /usr/local/lib/python3.10/dist-packages (from rich->keras>=3.2.0->tensorflow) (2.18.0)\n",
            "Requirement already satisfied: mdurl~=0.1 in /usr/local/lib/python3.10/dist-packages (from markdown-it-py>=2.2.0->rich->keras>=3.2.0->tensorflow) (0.1.2)\n"
          ]
        }
      ],
      "source": [
        "!pip install tensorflow"
      ]
    },
    {
      "cell_type": "code",
      "execution_count": null,
      "metadata": {
        "colab": {
          "base_uri": "https://localhost:8080/"
        },
        "id": "UqzQ-su05jlc",
        "outputId": "12dc9b4d-3e7b-474e-c766-eff779c72b6d"
      },
      "outputs": [
        {
          "output_type": "stream",
          "name": "stderr",
          "text": [
            "/usr/local/lib/python3.10/dist-packages/ipykernel/ipkernel.py:283: DeprecationWarning: `should_run_async` will not call `transform_cell` automatically in the future. Please pass the result to `transformed_cell` argument and any exception that happen during thetransform in `preprocessing_exc_tuple` in IPython 7.17 and above.\n",
            "  and should_run_async(code)\n"
          ]
        }
      ],
      "source": []
    },
    {
      "cell_type": "code",
      "execution_count": null,
      "metadata": {
        "colab": {
          "base_uri": "https://localhost:8080/"
        },
        "id": "5lMq0XBA1FhQ",
        "outputId": "51960c83-9663-4376-ca1e-dcc4a5c92da9"
      },
      "outputs": [
        {
          "output_type": "stream",
          "name": "stderr",
          "text": [
            "/usr/local/lib/python3.10/dist-packages/ipykernel/ipkernel.py:283: DeprecationWarning: `should_run_async` will not call `transform_cell` automatically in the future. Please pass the result to `transformed_cell` argument and any exception that happen during thetransform in `preprocessing_exc_tuple` in IPython 7.17 and above.\n",
            "  and should_run_async(code)\n"
          ]
        }
      ],
      "source": [
        "#Step 4: Deep Learning Model Setup\n",
        "#LSTM Model Setup\n",
        "#Since LSTM requires sequential data, we’ll use the following steps:\n",
        "\n",
        "#Tokenization: Convert the text into sequences of integers.\n",
        "#Padding: Ensure all sequences have the same length.\n",
        "#LSTM Model Architecture: Set up the LSTM model with an embedding layer, LSTM layer, and dense output layer.\n",
        "#Training and Evaluation: Train the model and evaluate it on the test set.\n"
      ]
    },
    {
      "cell_type": "code",
      "execution_count": null,
      "metadata": {
        "colab": {
          "base_uri": "https://localhost:8080/"
        },
        "id": "d3YcZF4C1Fld",
        "outputId": "851270e5-668c-44d3-8d91-96621a7fcde3"
      },
      "outputs": [
        {
          "output_type": "stream",
          "name": "stderr",
          "text": [
            "/usr/local/lib/python3.10/dist-packages/ipykernel/ipkernel.py:283: DeprecationWarning: `should_run_async` will not call `transform_cell` automatically in the future. Please pass the result to `transformed_cell` argument and any exception that happen during thetransform in `preprocessing_exc_tuple` in IPython 7.17 and above.\n",
            "  and should_run_async(code)\n",
            "/usr/local/lib/python3.10/dist-packages/tensorflow/lite/python/util.py:55: DeprecationWarning: jax.xla_computation is deprecated. Please use the AOT APIs; see https://jax.readthedocs.io/en/latest/aot.html. For example, replace xla_computation(f)(*xs) with jit(f).lower(*xs).compiler_ir('hlo'). See CHANGELOG.md for 0.4.30 for more examples.\n",
            "  from jax import xla_computation as _xla_computation\n",
            "/usr/local/lib/python3.10/dist-packages/tensorflow/lite/python/util.py:55: DeprecationWarning: jax.xla_computation is deprecated. Please use the AOT APIs; see https://jax.readthedocs.io/en/latest/aot.html. For example, replace xla_computation(f)(*xs) with jit(f).lower(*xs).compiler_ir('hlo'). See CHANGELOG.md for 0.4.30 for more examples.\n",
            "  from jax import xla_computation as _xla_computation\n"
          ]
        }
      ],
      "source": [
        "#Tokenization and Padding\n",
        "from tensorflow.keras.preprocessing.text import Tokenizer\n",
        "from tensorflow.keras.preprocessing.sequence import pad_sequences\n",
        "from tensorflow.keras.utils import to_categorical\n",
        "#Tokenization: The process of converting text into sequences of numerical tokens (e.g., integers representing words).\n",
        "#Padding: Ensures that all sequences have the same length by adding zeros (or another padding value) to shorter sequences,\n",
        "### making the data suitable for input into deep learning models like RNNs, LSTMs, or Transformers.\n",
        "# Initialize tokenizer and fit on the cleaned text\n",
        "tokenizer = Tokenizer(num_words=5000)  # Limiting to top 5000 words\n",
        "#Limits the vocabulary size to the top 5000 most frequent words in the dataset. This reduces memory usage and prevents overfitting to rare words.\n",
        "tokenizer.fit_on_texts(reviews_data['cleaned_text'])\n",
        "#Analyzes the input text (the cleaned text column) and builds a word index (dictionary mapping each word to a unique integer).\n",
        "\n",
        "# Convert text to sequences and pad them\n",
        "X_sequences = tokenizer.texts_to_sequences(reviews_data['cleaned_text'])\n",
        "X_padded = pad_sequences(X_sequences, maxlen=100)  # Pad to max length of 100 words\n",
        "#This step ensures that all sequences have the same length, which is required for input to neural networks.\n",
        "# Convert labels to categorical format\n",
        "y_lstm = reviews_data['label'].apply(lambda x: 1 if x == 'CG' else 0)\n"
      ]
    },
    {
      "cell_type": "code",
      "execution_count": null,
      "metadata": {
        "colab": {
          "base_uri": "https://localhost:8080/"
        },
        "id": "-A1iL2RO4njd",
        "outputId": "766491b5-607e-43d5-90da-3b7d1bd8cc21"
      },
      "outputs": [
        {
          "output_type": "stream",
          "name": "stderr",
          "text": [
            "/usr/local/lib/python3.10/dist-packages/ipykernel/ipkernel.py:283: DeprecationWarning: `should_run_async` will not call `transform_cell` automatically in the future. Please pass the result to `transformed_cell` argument and any exception that happen during thetransform in `preprocessing_exc_tuple` in IPython 7.17 and above.\n",
            "  and should_run_async(code)\n",
            "/usr/local/lib/python3.10/dist-packages/keras/src/layers/core/embedding.py:90: UserWarning: Argument `input_length` is deprecated. Just remove it.\n",
            "  warnings.warn(\n"
          ]
        }
      ],
      "source": [
        "#Building the LSTM Model\n",
        "from tensorflow.keras.models import Sequential\n",
        "from tensorflow.keras.layers import Embedding, LSTM, Dense, Dropout\n",
        "\n",
        "# Define the LSTM model architecture\n",
        "##A type of Recurrent Neural Network (RNN) layer that is effective for sequence data like text--lstm.\n",
        "lstm_model = Sequential()\n",
        "lstm_model.add(Embedding(input_dim=5000, output_dim=64, input_length=100))\n",
        "lstm_model.add(LSTM(64, return_sequences=False))\n",
        "lstm_model.add(Dropout(0.5))\n",
        "lstm_model.add(Dense(1, activation='sigmoid'))  # Binary classification\n",
        "\n",
        "# Compile the model\n",
        "lstm_model.compile(optimizer='adam', loss='binary_crossentropy', metrics=['accuracy'])\n"
      ]
    },
    {
      "cell_type": "code",
      "execution_count": null,
      "metadata": {
        "colab": {
          "base_uri": "https://localhost:8080/"
        },
        "id": "vX5xNbpu4no2",
        "outputId": "c4c47afd-8742-42aa-ff18-6a71461f478c"
      },
      "outputs": [
        {
          "output_type": "stream",
          "name": "stdout",
          "text": [
            "Epoch 1/5\n"
          ]
        },
        {
          "output_type": "stream",
          "name": "stderr",
          "text": [
            "/usr/local/lib/python3.10/dist-packages/ipykernel/ipkernel.py:283: DeprecationWarning: `should_run_async` will not call `transform_cell` automatically in the future. Please pass the result to `transformed_cell` argument and any exception that happen during thetransform in `preprocessing_exc_tuple` in IPython 7.17 and above.\n",
            "  and should_run_async(code)\n"
          ]
        },
        {
          "output_type": "stream",
          "name": "stdout",
          "text": [
            "\u001b[1m809/809\u001b[0m \u001b[32m━━━━━━━━━━━━━━━━━━━━\u001b[0m\u001b[37m\u001b[0m \u001b[1m27s\u001b[0m 18ms/step - accuracy: 0.7541 - loss: 0.4694 - val_accuracy: 0.8810 - val_loss: 0.2693\n",
            "Epoch 2/5\n",
            "\u001b[1m809/809\u001b[0m \u001b[32m━━━━━━━━━━━━━━━━━━━━\u001b[0m\u001b[37m\u001b[0m \u001b[1m13s\u001b[0m 15ms/step - accuracy: 0.9078 - loss: 0.2244 - val_accuracy: 0.8895 - val_loss: 0.2514\n",
            "Epoch 3/5\n",
            "\u001b[1m809/809\u001b[0m \u001b[32m━━━━━━━━━━━━━━━━━━━━\u001b[0m\u001b[37m\u001b[0m \u001b[1m15s\u001b[0m 9ms/step - accuracy: 0.9292 - loss: 0.1716 - val_accuracy: 0.8966 - val_loss: 0.2534\n",
            "Epoch 4/5\n",
            "\u001b[1m809/809\u001b[0m \u001b[32m━━━━━━━━━━━━━━━━━━━━\u001b[0m\u001b[37m\u001b[0m \u001b[1m6s\u001b[0m 7ms/step - accuracy: 0.9431 - loss: 0.1415 - val_accuracy: 0.9018 - val_loss: 0.2618\n",
            "Epoch 5/5\n",
            "\u001b[1m809/809\u001b[0m \u001b[32m━━━━━━━━━━━━━━━━━━━━\u001b[0m\u001b[37m\u001b[0m \u001b[1m7s\u001b[0m 9ms/step - accuracy: 0.9598 - loss: 0.1039 - val_accuracy: 0.8998 - val_loss: 0.2826\n"
          ]
        }
      ],
      "source": [
        "#train the model\n",
        "# Split data into train and test sets\n",
        "X_train_padded, X_test_padded, y_train_lstm, y_test_lstm = train_test_split(X_padded, y_lstm, test_size=0.2, random_state=42)\n",
        "\n",
        "# Train the model\n",
        "history = lstm_model.fit(X_train_padded, y_train_lstm, epochs=5, batch_size=32, validation_split=0.2)\n"
      ]
    },
    {
      "cell_type": "code",
      "execution_count": null,
      "metadata": {
        "colab": {
          "base_uri": "https://localhost:8080/"
        },
        "id": "wjuKoy0t4nz9",
        "outputId": "8edf224f-4995-4a15-8841-28daa01e2fbf"
      },
      "outputs": [
        {
          "output_type": "stream",
          "name": "stdout",
          "text": [
            "\u001b[1m 23/253\u001b[0m \u001b[32m━\u001b[0m\u001b[37m━━━━━━━━━━━━━━━━━━━\u001b[0m \u001b[1m1s\u001b[0m 5ms/step - accuracy: 0.8902 - loss: 0.3462"
          ]
        },
        {
          "output_type": "stream",
          "name": "stderr",
          "text": [
            "/usr/local/lib/python3.10/dist-packages/ipykernel/ipkernel.py:283: DeprecationWarning: `should_run_async` will not call `transform_cell` automatically in the future. Please pass the result to `transformed_cell` argument and any exception that happen during thetransform in `preprocessing_exc_tuple` in IPython 7.17 and above.\n",
            "  and should_run_async(code)\n"
          ]
        },
        {
          "output_type": "stream",
          "name": "stdout",
          "text": [
            "\u001b[1m253/253\u001b[0m \u001b[32m━━━━━━━━━━━━━━━━━━━━\u001b[0m\u001b[37m\u001b[0m \u001b[1m1s\u001b[0m 4ms/step - accuracy: 0.8981 - loss: 0.2990\n",
            "LSTM Model - Accuracy: 0.90\n"
          ]
        }
      ],
      "source": [
        "#evaluate the lstm model\n",
        "# Evaluate the model on the test set\n",
        "loss, accuracy = lstm_model.evaluate(X_test_padded, y_test_lstm)\n",
        "print(f\"LSTM Model - Accuracy: {accuracy:.2f}\")\n",
        "#summary of the model\n",
        "#Input Layer: Processes text data using an embedding layer to map words into dense vectors.\n",
        "#LSTM Layer: Captures sequential patterns and relationships in the text.\n",
        "#Dropout Layer: Reduces overfitting by randomly ignoring 50% of neurons during training.\n",
        "#Output Layer: Outputs the probability of a label (fake or real review)."
      ]
    },
    {
      "cell_type": "code",
      "execution_count": null,
      "metadata": {
        "colab": {
          "base_uri": "https://localhost:8080/"
        },
        "id": "1Sj3nr6Y5g02",
        "outputId": "656ecd5e-f094-4ef5-cbda-036604667e64"
      },
      "outputs": [
        {
          "output_type": "stream",
          "name": "stderr",
          "text": [
            "/usr/local/lib/python3.10/dist-packages/ipykernel/ipkernel.py:283: DeprecationWarning: `should_run_async` will not call `transform_cell` automatically in the future. Please pass the result to `transformed_cell` argument and any exception that happen during thetransform in `preprocessing_exc_tuple` in IPython 7.17 and above.\n",
            "  and should_run_async(code)\n"
          ]
        },
        {
          "output_type": "stream",
          "name": "stdout",
          "text": [
            "Requirement already satisfied: transformers in /usr/local/lib/python3.10/dist-packages (4.46.2)\n",
            "Requirement already satisfied: filelock in /usr/local/lib/python3.10/dist-packages (from transformers) (3.16.1)\n",
            "Requirement already satisfied: huggingface-hub<1.0,>=0.23.2 in /usr/local/lib/python3.10/dist-packages (from transformers) (0.26.2)\n",
            "Requirement already satisfied: numpy>=1.17 in /usr/local/lib/python3.10/dist-packages (from transformers) (1.26.4)\n",
            "Requirement already satisfied: packaging>=20.0 in /usr/local/lib/python3.10/dist-packages (from transformers) (24.2)\n",
            "Requirement already satisfied: pyyaml>=5.1 in /usr/local/lib/python3.10/dist-packages (from transformers) (6.0.2)\n",
            "Requirement already satisfied: regex!=2019.12.17 in /usr/local/lib/python3.10/dist-packages (from transformers) (2024.9.11)\n",
            "Requirement already satisfied: requests in /usr/local/lib/python3.10/dist-packages (from transformers) (2.32.3)\n",
            "Requirement already satisfied: safetensors>=0.4.1 in /usr/local/lib/python3.10/dist-packages (from transformers) (0.4.5)\n",
            "Requirement already satisfied: tokenizers<0.21,>=0.20 in /usr/local/lib/python3.10/dist-packages (from transformers) (0.20.3)\n",
            "Requirement already satisfied: tqdm>=4.27 in /usr/local/lib/python3.10/dist-packages (from transformers) (4.66.6)\n",
            "Requirement already satisfied: fsspec>=2023.5.0 in /usr/local/lib/python3.10/dist-packages (from huggingface-hub<1.0,>=0.23.2->transformers) (2024.10.0)\n",
            "Requirement already satisfied: typing-extensions>=3.7.4.3 in /usr/local/lib/python3.10/dist-packages (from huggingface-hub<1.0,>=0.23.2->transformers) (4.12.2)\n",
            "Requirement already satisfied: charset-normalizer<4,>=2 in /usr/local/lib/python3.10/dist-packages (from requests->transformers) (3.4.0)\n",
            "Requirement already satisfied: idna<4,>=2.5 in /usr/local/lib/python3.10/dist-packages (from requests->transformers) (3.10)\n",
            "Requirement already satisfied: urllib3<3,>=1.21.1 in /usr/local/lib/python3.10/dist-packages (from requests->transformers) (2.2.3)\n",
            "Requirement already satisfied: certifi>=2017.4.17 in /usr/local/lib/python3.10/dist-packages (from requests->transformers) (2024.8.30)\n"
          ]
        }
      ],
      "source": [
        "pip install transformers\n"
      ]
    },
    {
      "cell_type": "code",
      "execution_count": null,
      "metadata": {
        "colab": {
          "base_uri": "https://localhost:8080/"
        },
        "id": "KZy6wBwI83nu",
        "outputId": "723c2d20-7d52-4248-c71d-399d5086a631"
      },
      "outputs": [
        {
          "output_type": "stream",
          "name": "stderr",
          "text": [
            "/usr/local/lib/python3.10/dist-packages/ipykernel/ipkernel.py:283: DeprecationWarning: `should_run_async` will not call `transform_cell` automatically in the future. Please pass the result to `transformed_cell` argument and any exception that happen during thetransform in `preprocessing_exc_tuple` in IPython 7.17 and above.\n",
            "  and should_run_async(code)\n"
          ]
        }
      ],
      "source": [
        "#bert model(specifically for NLP tasks)\n",
        "#use Hugging Face’s transformers library to work with BERT.\n",
        "#For binary classification, outputs a single logit for each class (e.g., 0 for real, 1 for fake).\n"
      ]
    },
    {
      "cell_type": "code",
      "source": [
        "#transformers\n",
        "#The self-attention mechanism allows the model to focus on relevant words in a sequence while processing each word.\n",
        "#For example, in \"The cat sat on the mat,\" when processing \"cat,\" the model learns to pay attention to \"sat\" and \"mat\" as relevant words."
      ],
      "metadata": {
        "id": "uoiYwYisK_ag"
      },
      "execution_count": null,
      "outputs": []
    },
    {
      "cell_type": "code",
      "execution_count": null,
      "metadata": {
        "id": "SehevkAi-8qk"
      },
      "outputs": [],
      "source": [
        "from transformers import BertTokenizer, TFBertForSequenceClassification\n",
        "from tensorflow.keras.optimizers import Adam\n",
        "from sklearn.model_selection import train_test_split\n",
        "from tensorflow.keras.callbacks import EarlyStopping\n"
      ]
    },
    {
      "cell_type": "code",
      "source": [
        "import torch\n",
        "from transformers import BertTokenizer, BertForSequenceClassification, Trainer, TrainingArguments\n",
        "from torch.utils.data import Dataset\n",
        "import pandas as pd\n",
        "from sklearn.model_selection import train_test_split\n",
        "from sklearn.preprocessing import LabelEncoder\n"
      ],
      "metadata": {
        "id": "It6Cdz2JMXVP"
      },
      "execution_count": null,
      "outputs": []
    },
    {
      "cell_type": "code",
      "source": [
        "# Load dataset and preprocess\n",
        "data = pd.read_csv('/content/fake reviews dataset.csv')  # Replace with your file path\n",
        "data['label_encoded'] = LabelEncoder().fit_transform(data['label'])"
      ],
      "metadata": {
        "id": "-V3r9OZHMk5G"
      },
      "execution_count": null,
      "outputs": []
    },
    {
      "cell_type": "code",
      "execution_count": null,
      "metadata": {
        "colab": {
          "base_uri": "https://localhost:8080/",
          "height": 371,
          "referenced_widgets": [
            "106f0a20a7c445c485a3a14ac1b069a6",
            "b71302901fe04560824b8554c24c4bb1",
            "15a43bfb920e454e92ce48e65962109d",
            "12014f039fec4e979fb582af8e1ed79b",
            "f04bb649df89436dadd240106244841b",
            "6725eb1d0855407c8dbdcf86bfb00775",
            "626e9edc7d8c4037a9c66f0f1e843675",
            "a25a0ab4c037499488b52fc7d246000e",
            "e75fb31ff81847a28f5c723d3cc89f53",
            "9ac19465b1184bc390a8a51bc262bf15",
            "819b7f40f1094bc094ca6eddda2d079b",
            "230ec516de084b4ba74ec904bcfe9c88",
            "2358fa42339c43bb8694185e81ea7737",
            "2da31aa91b4042b586f27e882583067b",
            "8c52e90688c2498dbe66c98c04c11dee",
            "06a87038c4d14708a4fe94b017d029be",
            "5f157e7a75944798b470b0c4b5f5a3e2",
            "d13dee691d054f83ab0397ced7106e58",
            "d03caa4edc5940d094953c097a1f9a94",
            "8ee8b23dad7c42138aac8ed5a0a83fe3",
            "83aeb84b9ccb4f26b9f6b16c99c63b4f",
            "90c80e66647a4a7d99c62db8e1cc087e",
            "7963badf1bb34275811dc1f81a7c1948",
            "bf7d8f22472f4a959119bc9d706360bc",
            "68539c1a37b648b4994001a5769be3da",
            "21a41b3b95984cf19d1da0d0a11c6c5f",
            "fb208f019d034f08a640b154c59c7a53",
            "7c4352ed3df84de3ba0871b316757c80",
            "e24569da4eaa4fa19248b178dd60e985",
            "7e59c3a2037844ae969fa65a2faa25e6",
            "b6444c9f46e143cab804f52ad6d2bb78",
            "1e9ef34e18ff4a87bf32a9807bd6e1fc",
            "d9fb4cded11b4fbd8d26ac2ae039778a",
            "90a3e915aefa49d6b3cd24cf7d7a4347",
            "c4436ed96dd54d83a1b6298cbbd9dfab",
            "334c5bc9124748f28d4a76802e505e7d",
            "c1ea08d3274a47fa827cb7726f5654ee",
            "463486c8a39047ea9b44744577902a2f",
            "eb777bed122f4a6caf718973db996845",
            "177989a2d60c455e978f231bdc02e36a",
            "111e3b29e0bd443289fbb501d0da1036",
            "1773dee3bd214328b5dc0402f91aebc7",
            "b423252e6fa645a6a5a8a356bd2a100e",
            "d8435f3d3f6f4d77bfb87d802fedf55f",
            "7f10a8bd8ef146c2a4b51d32de80d5dd",
            "6aba376e4a594036add6b87c312392bd",
            "f5e1f3353a6d4a24ae749cdf3d1eb22a",
            "f56fca8b895c4d12bb9cd9d24b3661ae",
            "46bbe124f02d4d0f874b95ecc72c74b3",
            "d48806ea5a7e429aa69004275aab265b",
            "c0ee2547ef6c44059af10071e0945eb0",
            "27d2578f1c364ce5ab5e31fd36f9a926",
            "5e7518dea4dc47f493435379c1c09360",
            "fba6e64bdc0c4484b808c040d37f6bce",
            "77267bea636144338a32c12af00a3d46"
          ]
        },
        "id": "V8EOAwU1C2GE",
        "outputId": "72c7e25a-6099-42ac-d545-5551f26c1ad9"
      },
      "outputs": [
        {
          "output_type": "stream",
          "name": "stderr",
          "text": [
            "/usr/local/lib/python3.10/dist-packages/huggingface_hub/utils/_auth.py:94: UserWarning: \n",
            "The secret `HF_TOKEN` does not exist in your Colab secrets.\n",
            "To authenticate with the Hugging Face Hub, create a token in your settings tab (https://huggingface.co/settings/tokens), set it as secret in your Google Colab and restart your session.\n",
            "You will be able to reuse this secret in all of your notebooks.\n",
            "Please note that authentication is recommended but still optional to access public models or datasets.\n",
            "  warnings.warn(\n"
          ]
        },
        {
          "output_type": "display_data",
          "data": {
            "text/plain": [
              "tokenizer_config.json:   0%|          | 0.00/48.0 [00:00<?, ?B/s]"
            ],
            "application/vnd.jupyter.widget-view+json": {
              "version_major": 2,
              "version_minor": 0,
              "model_id": "106f0a20a7c445c485a3a14ac1b069a6"
            }
          },
          "metadata": {}
        },
        {
          "output_type": "display_data",
          "data": {
            "text/plain": [
              "vocab.txt:   0%|          | 0.00/232k [00:00<?, ?B/s]"
            ],
            "application/vnd.jupyter.widget-view+json": {
              "version_major": 2,
              "version_minor": 0,
              "model_id": "230ec516de084b4ba74ec904bcfe9c88"
            }
          },
          "metadata": {}
        },
        {
          "output_type": "display_data",
          "data": {
            "text/plain": [
              "tokenizer.json:   0%|          | 0.00/466k [00:00<?, ?B/s]"
            ],
            "application/vnd.jupyter.widget-view+json": {
              "version_major": 2,
              "version_minor": 0,
              "model_id": "7963badf1bb34275811dc1f81a7c1948"
            }
          },
          "metadata": {}
        },
        {
          "output_type": "display_data",
          "data": {
            "text/plain": [
              "config.json:   0%|          | 0.00/570 [00:00<?, ?B/s]"
            ],
            "application/vnd.jupyter.widget-view+json": {
              "version_major": 2,
              "version_minor": 0,
              "model_id": "90a3e915aefa49d6b3cd24cf7d7a4347"
            }
          },
          "metadata": {}
        },
        {
          "output_type": "display_data",
          "data": {
            "text/plain": [
              "model.safetensors:   0%|          | 0.00/440M [00:00<?, ?B/s]"
            ],
            "application/vnd.jupyter.widget-view+json": {
              "version_major": 2,
              "version_minor": 0,
              "model_id": "7f10a8bd8ef146c2a4b51d32de80d5dd"
            }
          },
          "metadata": {}
        },
        {
          "output_type": "stream",
          "name": "stderr",
          "text": [
            "All PyTorch model weights were used when initializing TFBertForSequenceClassification.\n",
            "\n",
            "Some weights or buffers of the TF 2.0 model TFBertForSequenceClassification were not initialized from the PyTorch model and are newly initialized: ['classifier.weight', 'classifier.bias']\n",
            "You should probably TRAIN this model on a down-stream task to be able to use it for predictions and inference.\n"
          ]
        }
      ],
      "source": [
        "# Load BERT tokenizer and model(BERT (Bidirectional Encoder Representations from Transformers))\n",
        "tokenizer = BertTokenizer.from_pretrained('bert-base-uncased')\n",
        "bert_model = TFBertForSequenceClassification.from_pretrained('bert-base-uncased', num_labels=2)\n",
        "#BERT reads the text in both directions (left-to-right and right-to-left) to understand the full context of a word in a sentence.\n",
        "#Example: In \"I went to the bank to deposit money,\" BERT understands that \"bank\" refers to a financial institution, not a riverbank.\n"
      ]
    },
    {
      "cell_type": "code",
      "execution_count": null,
      "metadata": {
        "id": "zFEUQ-sGDJXo"
      },
      "outputs": [],
      "source": [
        "# Tokenize and encode sequences for BERT\n",
        "def encode_reviews(texts):\n",
        "    return tokenizer(\n",
        "        texts.tolist(),\n",
        "        padding=True,\n",
        "        truncation=True,\n",
        "        max_length=128,\n",
        "        return_tensors='tf'\n",
        "    )\n",
        "\n",
        "# Encode the text data\n",
        "X_encoded = encode_reviews(reviews_data['cleaned_text'])\n",
        "y_bert = reviews_data['label'].apply(lambda x: 1 if x == 'CG' else 0)\n"
      ]
    },
    {
      "cell_type": "code",
      "execution_count": null,
      "metadata": {
        "id": "xAzzZd5RDpxU"
      },
      "outputs": [],
      "source": [
        "# Split labels\n",
        "y_train_enc, y_test_enc = train_test_split(y_bert, test_size=0.2, random_state=42)\n",
        "\n",
        "# Split tokenized inputs manually\n",
        "X_train_enc = {\n",
        "    'input_ids': X_encoded['input_ids'][:len(y_train_enc)],\n",
        "    'attention_mask': X_encoded['attention_mask'][:len(y_train_enc)]\n",
        "}\n",
        "X_test_enc = {\n",
        "    'input_ids': X_encoded['input_ids'][len(y_train_enc):],\n",
        "    'attention_mask': X_encoded['attention_mask'][len(y_train_enc):]\n",
        "}\n"
      ]
    },
    {
      "cell_type": "code",
      "execution_count": null,
      "metadata": {
        "id": "FOxBHs_CZxAr"
      },
      "outputs": [],
      "source": [
        "bert_model.compile(optimizer='adam', loss='sparse_categorical_crossentropy', metrics=['accuracy'])\n"
      ]
    },
    {
      "cell_type": "code",
      "execution_count": null,
      "metadata": {
        "colab": {
          "base_uri": "https://localhost:8080/"
        },
        "id": "Zc2DFaQxaDV3",
        "outputId": "cdfa25d3-4f2a-411a-9cc1-00a27d09622b"
      },
      "outputs": [
        {
          "output_type": "stream",
          "name": "stdout",
          "text": [
            "Epoch 1/5\n",
            "809/809 [==============================] - 730s 851ms/step - loss: 8.0270 - accuracy: 0.5015 - val_loss: 8.0902 - val_accuracy: 0.4981\n",
            "Epoch 2/5\n",
            "809/809 [==============================] - 682s 843ms/step - loss: 8.0341 - accuracy: 0.5015 - val_loss: 8.0902 - val_accuracy: 0.4981\n",
            "Epoch 3/5\n",
            "809/809 [==============================] - 682s 844ms/step - loss: 8.0341 - accuracy: 0.5015 - val_loss: 8.0902 - val_accuracy: 0.4981\n",
            "Epoch 4/5\n",
            "809/809 [==============================] - 682s 843ms/step - loss: 8.0341 - accuracy: 0.5015 - val_loss: 8.0902 - val_accuracy: 0.4981\n",
            "Epoch 5/5\n",
            "809/809 [==============================] - 682s 843ms/step - loss: 8.0341 - accuracy: 0.5015 - val_loss: 8.0902 - val_accuracy: 0.4981\n"
          ]
        }
      ],
      "source": [
        "# Train the BERT model without EarlyStopping\n",
        "history = bert_model.fit(\n",
        "    {'input_ids': X_train_enc['input_ids'], 'attention_mask': X_train_enc['attention_mask']},\n",
        "    y_train_enc,\n",
        "    validation_split=0.2,\n",
        "    epochs=5,\n",
        "    batch_size=32\n",
        ")\n"
      ]
    },
    {
      "cell_type": "code",
      "execution_count": null,
      "metadata": {
        "id": "6hxdRZSyON_p",
        "colab": {
          "base_uri": "https://localhost:8080/"
        },
        "outputId": "285523a4-f60d-48e8-d9b9-8756bd8ee6a5"
      },
      "outputs": [
        {
          "output_type": "stream",
          "name": "stdout",
          "text": [
            "253/253 [==============================] - 69s 273ms/step - loss: 8.1139 - accuracy: 0.4966\n",
            "BERT Model - Accuracy: 0.50\n"
          ]
        }
      ],
      "source": [
        "# Evaluate on test data\n",
        "test_loss, test_accuracy = bert_model.evaluate(\n",
        "    {'input_ids': X_test_enc['input_ids'], 'attention_mask': X_test_enc['attention_mask']},\n",
        "    y_test_enc\n",
        ")\n",
        "print(f\"BERT Model - Accuracy: {test_accuracy:.2f}\")\n"
      ]
    },
    {
      "cell_type": "code",
      "source": [
        "from tensorflow.keras.callbacks import EarlyStopping\n",
        "\n",
        "class SafeEarlyStopping(EarlyStopping):\n",
        "    def _implements_train_batch_hooks(self):\n",
        "        return False\n",
        "\n",
        "    def _implements_test_batch_hooks(self):\n",
        "        return False\n",
        "\n",
        "    def _implements_predict_batch_hooks(self):\n",
        "        return False\n",
        "\n",
        "# Use SafeEarlyStopping instead of EarlyStopping\n",
        "early_stopping = SafeEarlyStopping(monitor='val_loss', patience=3, restore_best_weights=True)\n",
        "\n",
        "# Train the model\n",
        "history = bert_model.fit(\n",
        "    X_train_enc,\n",
        "    y_train_enc,\n",
        "    validation_split=0.2,\n",
        "    epochs=5,\n",
        "    batch_size=16,\n",
        "    callbacks=[early_stopping]\n",
        ")\n"
      ],
      "metadata": {
        "colab": {
          "base_uri": "https://localhost:8080/"
        },
        "id": "WFr49jSES81o",
        "outputId": "74f59111-ef33-42f8-eb2e-0f818bfe3378"
      },
      "execution_count": null,
      "outputs": [
        {
          "output_type": "stream",
          "name": "stdout",
          "text": [
            "Epoch 1/5\n",
            "1618/1618 [==============================] - 755s 440ms/step - loss: 0.6599 - accuracy: 0.6072 - val_loss: 0.6898 - val_accuracy: 0.6768\n",
            "Epoch 2/5\n",
            "1618/1618 [==============================] - 703s 434ms/step - loss: 0.6765 - accuracy: 0.5106 - val_loss: 0.6931 - val_accuracy: 0.5465\n",
            "Epoch 3/5\n",
            "1618/1618 [==============================] - 699s 432ms/step - loss: 0.6941 - accuracy: 0.5046 - val_loss: 0.6931 - val_accuracy: 0.4981\n",
            "Epoch 4/5\n",
            "1618/1618 [==============================] - 697s 431ms/step - loss: 0.6932 - accuracy: 0.5044 - val_loss: 0.6931 - val_accuracy: 0.5738\n"
          ]
        }
      ]
    },
    {
      "cell_type": "code",
      "source": [
        "# Evaluate the model\n",
        "test_loss, test_accuracy = bert_model.evaluate(X_test_enc, y_test_enc)\n",
        "print(f\"BERT Model - Accuracy: {test_accuracy:.2f}\")"
      ],
      "metadata": {
        "colab": {
          "base_uri": "https://localhost:8080/"
        },
        "id": "15rOEOS3TKCH",
        "outputId": "14fd5561-f223-4488-9fa8-3912a721fd24"
      },
      "execution_count": null,
      "outputs": [
        {
          "output_type": "stream",
          "name": "stdout",
          "text": [
            "253/253 [==============================] - 69s 274ms/step - loss: 0.6893 - accuracy: 0.6757\n",
            "BERT Model - Accuracy: 0.68\n"
          ]
        }
      ]
    },
    {
      "cell_type": "code",
      "source": [
        "from tensorflow.keras.callbacks import EarlyStopping\n",
        "\n",
        "# Custom EarlyStopping that avoids attribute checks\n",
        "class SafeEarlyStopping(EarlyStopping):\n",
        "    def _implements_train_batch_hooks(self):\n",
        "        return False\n",
        "\n",
        "    def _implements_test_batch_hooks(self):\n",
        "        return False\n",
        "\n",
        "    def _implements_predict_batch_hooks(self):\n",
        "        return False\n",
        "\n",
        "# Use SafeEarlyStopping instead of EarlyStopping\n",
        "early_stopping = SafeEarlyStopping(monitor='val_loss', patience=2, restore_best_weights=True)\n"
      ],
      "metadata": {
        "id": "Qh1xX1BthUJt"
      },
      "execution_count": null,
      "outputs": []
    },
    {
      "cell_type": "code",
      "source": [
        "from transformers import create_optimizer\n",
        "\n",
        "# Create optimizer\n",
        "num_train_steps = len(X_train_ids) // 8 * 5  # Batch size=8, epochs=5\n",
        "optimizer, schedule = create_optimizer(\n",
        "    init_lr=1e-5,\n",
        "    num_train_steps=num_train_steps,\n",
        "    num_warmup_steps=0\n",
        ")\n",
        "\n",
        "# Compile the model\n",
        "bert_model.compile(optimizer=optimizer, loss='sparse_categorical_crossentropy', metrics=['accuracy'])\n",
        "\n",
        "# Use SafeEarlyStopping\n",
        "early_stopping = SafeEarlyStopping(monitor='val_loss', patience=2, restore_best_weights=True)\n",
        "\n",
        "# Train the model\n",
        "history = bert_model.fit(\n",
        "    X_train_enc,\n",
        "    y_train_enc,\n",
        "    validation_split=0.2,\n",
        "    epochs=5,\n",
        "    batch_size=8,\n",
        "    callbacks=[early_stopping]\n",
        ")\n",
        "\n",
        "# Evaluate the model\n",
        "test_loss, test_accuracy = bert_model.evaluate(X_test_enc, y_test_enc)\n",
        "print(f\"BERT Model - Accuracy: {test_accuracy:.2f}\")\n"
      ],
      "metadata": {
        "colab": {
          "base_uri": "https://localhost:8080/"
        },
        "id": "PVq8VvLVhawF",
        "outputId": "be48382f-c3e7-494b-e673-f46f0309687d"
      },
      "execution_count": null,
      "outputs": [
        {
          "output_type": "stream",
          "name": "stdout",
          "text": [
            "Epoch 1/5\n",
            "3235/3235 [==============================] - 813s 239ms/step - loss: 0.6970 - accuracy: 0.5056 - val_loss: 0.6931 - val_accuracy: 0.5019\n",
            "Epoch 2/5\n",
            "3235/3235 [==============================] - 773s 239ms/step - loss: 0.6931 - accuracy: 0.5002 - val_loss: 0.6931 - val_accuracy: 0.5019\n",
            "Epoch 3/5\n",
            "3235/3235 [==============================] - 754s 233ms/step - loss: 0.6931 - accuracy: 0.4990 - val_loss: 0.6931 - val_accuracy: 0.5019\n",
            "253/253 [==============================] - 69s 271ms/step - loss: 0.6931 - accuracy: 0.5034\n",
            "BERT Model - Accuracy: 0.50\n"
          ]
        }
      ]
    },
    {
      "cell_type": "code",
      "source": [
        "#due to overfitting cause bert model only gets max its 68% accuracy."
      ],
      "metadata": {
        "id": "_H5UIeCaI29i"
      },
      "execution_count": null,
      "outputs": []
    },
    {
      "cell_type": "code",
      "source": [
        "#among all these fake review classification models,LSTM is best performing model\n",
        "#Input Layer: Processes text data using an embedding layer to map words into dense vectors.\n",
        "#LSTM Layer: Captures sequential patterns and relationships in the text.\n",
        "#Dropout Layer: Reduces overfitting by randomly ignoring 50% of neurons during training.\n",
        "#Output Layer: Outputs the probability of a label (fake or real review).\n",
        "LSTM Model - Accuracy: 0.90 for fake review classification."
      ],
      "metadata": {
        "id": "li1Dz5dJJBju"
      },
      "execution_count": null,
      "outputs": []
    }
  ],
  "metadata": {
    "colab": {
      "provenance": [],
      "gpuType": "T4",
      "authorship_tag": "ABX9TyMvBFUmb72rk6l4/gqkmuKr",
      "include_colab_link": true
    },
    "kernelspec": {
      "display_name": "Python 3",
      "name": "python3"
    },
    "language_info": {
      "name": "python"
    },
    "widgets": {
      "application/vnd.jupyter.widget-state+json": {
        "106f0a20a7c445c485a3a14ac1b069a6": {
          "model_module": "@jupyter-widgets/controls",
          "model_name": "HBoxModel",
          "model_module_version": "1.5.0",
          "state": {
            "_dom_classes": [],
            "_model_module": "@jupyter-widgets/controls",
            "_model_module_version": "1.5.0",
            "_model_name": "HBoxModel",
            "_view_count": null,
            "_view_module": "@jupyter-widgets/controls",
            "_view_module_version": "1.5.0",
            "_view_name": "HBoxView",
            "box_style": "",
            "children": [
              "IPY_MODEL_b71302901fe04560824b8554c24c4bb1",
              "IPY_MODEL_15a43bfb920e454e92ce48e65962109d",
              "IPY_MODEL_12014f039fec4e979fb582af8e1ed79b"
            ],
            "layout": "IPY_MODEL_f04bb649df89436dadd240106244841b"
          }
        },
        "b71302901fe04560824b8554c24c4bb1": {
          "model_module": "@jupyter-widgets/controls",
          "model_name": "HTMLModel",
          "model_module_version": "1.5.0",
          "state": {
            "_dom_classes": [],
            "_model_module": "@jupyter-widgets/controls",
            "_model_module_version": "1.5.0",
            "_model_name": "HTMLModel",
            "_view_count": null,
            "_view_module": "@jupyter-widgets/controls",
            "_view_module_version": "1.5.0",
            "_view_name": "HTMLView",
            "description": "",
            "description_tooltip": null,
            "layout": "IPY_MODEL_6725eb1d0855407c8dbdcf86bfb00775",
            "placeholder": "​",
            "style": "IPY_MODEL_626e9edc7d8c4037a9c66f0f1e843675",
            "value": "tokenizer_config.json: 100%"
          }
        },
        "15a43bfb920e454e92ce48e65962109d": {
          "model_module": "@jupyter-widgets/controls",
          "model_name": "FloatProgressModel",
          "model_module_version": "1.5.0",
          "state": {
            "_dom_classes": [],
            "_model_module": "@jupyter-widgets/controls",
            "_model_module_version": "1.5.0",
            "_model_name": "FloatProgressModel",
            "_view_count": null,
            "_view_module": "@jupyter-widgets/controls",
            "_view_module_version": "1.5.0",
            "_view_name": "ProgressView",
            "bar_style": "success",
            "description": "",
            "description_tooltip": null,
            "layout": "IPY_MODEL_a25a0ab4c037499488b52fc7d246000e",
            "max": 48,
            "min": 0,
            "orientation": "horizontal",
            "style": "IPY_MODEL_e75fb31ff81847a28f5c723d3cc89f53",
            "value": 48
          }
        },
        "12014f039fec4e979fb582af8e1ed79b": {
          "model_module": "@jupyter-widgets/controls",
          "model_name": "HTMLModel",
          "model_module_version": "1.5.0",
          "state": {
            "_dom_classes": [],
            "_model_module": "@jupyter-widgets/controls",
            "_model_module_version": "1.5.0",
            "_model_name": "HTMLModel",
            "_view_count": null,
            "_view_module": "@jupyter-widgets/controls",
            "_view_module_version": "1.5.0",
            "_view_name": "HTMLView",
            "description": "",
            "description_tooltip": null,
            "layout": "IPY_MODEL_9ac19465b1184bc390a8a51bc262bf15",
            "placeholder": "​",
            "style": "IPY_MODEL_819b7f40f1094bc094ca6eddda2d079b",
            "value": " 48.0/48.0 [00:00&lt;00:00, 903B/s]"
          }
        },
        "f04bb649df89436dadd240106244841b": {
          "model_module": "@jupyter-widgets/base",
          "model_name": "LayoutModel",
          "model_module_version": "1.2.0",
          "state": {
            "_model_module": "@jupyter-widgets/base",
            "_model_module_version": "1.2.0",
            "_model_name": "LayoutModel",
            "_view_count": null,
            "_view_module": "@jupyter-widgets/base",
            "_view_module_version": "1.2.0",
            "_view_name": "LayoutView",
            "align_content": null,
            "align_items": null,
            "align_self": null,
            "border": null,
            "bottom": null,
            "display": null,
            "flex": null,
            "flex_flow": null,
            "grid_area": null,
            "grid_auto_columns": null,
            "grid_auto_flow": null,
            "grid_auto_rows": null,
            "grid_column": null,
            "grid_gap": null,
            "grid_row": null,
            "grid_template_areas": null,
            "grid_template_columns": null,
            "grid_template_rows": null,
            "height": null,
            "justify_content": null,
            "justify_items": null,
            "left": null,
            "margin": null,
            "max_height": null,
            "max_width": null,
            "min_height": null,
            "min_width": null,
            "object_fit": null,
            "object_position": null,
            "order": null,
            "overflow": null,
            "overflow_x": null,
            "overflow_y": null,
            "padding": null,
            "right": null,
            "top": null,
            "visibility": null,
            "width": null
          }
        },
        "6725eb1d0855407c8dbdcf86bfb00775": {
          "model_module": "@jupyter-widgets/base",
          "model_name": "LayoutModel",
          "model_module_version": "1.2.0",
          "state": {
            "_model_module": "@jupyter-widgets/base",
            "_model_module_version": "1.2.0",
            "_model_name": "LayoutModel",
            "_view_count": null,
            "_view_module": "@jupyter-widgets/base",
            "_view_module_version": "1.2.0",
            "_view_name": "LayoutView",
            "align_content": null,
            "align_items": null,
            "align_self": null,
            "border": null,
            "bottom": null,
            "display": null,
            "flex": null,
            "flex_flow": null,
            "grid_area": null,
            "grid_auto_columns": null,
            "grid_auto_flow": null,
            "grid_auto_rows": null,
            "grid_column": null,
            "grid_gap": null,
            "grid_row": null,
            "grid_template_areas": null,
            "grid_template_columns": null,
            "grid_template_rows": null,
            "height": null,
            "justify_content": null,
            "justify_items": null,
            "left": null,
            "margin": null,
            "max_height": null,
            "max_width": null,
            "min_height": null,
            "min_width": null,
            "object_fit": null,
            "object_position": null,
            "order": null,
            "overflow": null,
            "overflow_x": null,
            "overflow_y": null,
            "padding": null,
            "right": null,
            "top": null,
            "visibility": null,
            "width": null
          }
        },
        "626e9edc7d8c4037a9c66f0f1e843675": {
          "model_module": "@jupyter-widgets/controls",
          "model_name": "DescriptionStyleModel",
          "model_module_version": "1.5.0",
          "state": {
            "_model_module": "@jupyter-widgets/controls",
            "_model_module_version": "1.5.0",
            "_model_name": "DescriptionStyleModel",
            "_view_count": null,
            "_view_module": "@jupyter-widgets/base",
            "_view_module_version": "1.2.0",
            "_view_name": "StyleView",
            "description_width": ""
          }
        },
        "a25a0ab4c037499488b52fc7d246000e": {
          "model_module": "@jupyter-widgets/base",
          "model_name": "LayoutModel",
          "model_module_version": "1.2.0",
          "state": {
            "_model_module": "@jupyter-widgets/base",
            "_model_module_version": "1.2.0",
            "_model_name": "LayoutModel",
            "_view_count": null,
            "_view_module": "@jupyter-widgets/base",
            "_view_module_version": "1.2.0",
            "_view_name": "LayoutView",
            "align_content": null,
            "align_items": null,
            "align_self": null,
            "border": null,
            "bottom": null,
            "display": null,
            "flex": null,
            "flex_flow": null,
            "grid_area": null,
            "grid_auto_columns": null,
            "grid_auto_flow": null,
            "grid_auto_rows": null,
            "grid_column": null,
            "grid_gap": null,
            "grid_row": null,
            "grid_template_areas": null,
            "grid_template_columns": null,
            "grid_template_rows": null,
            "height": null,
            "justify_content": null,
            "justify_items": null,
            "left": null,
            "margin": null,
            "max_height": null,
            "max_width": null,
            "min_height": null,
            "min_width": null,
            "object_fit": null,
            "object_position": null,
            "order": null,
            "overflow": null,
            "overflow_x": null,
            "overflow_y": null,
            "padding": null,
            "right": null,
            "top": null,
            "visibility": null,
            "width": null
          }
        },
        "e75fb31ff81847a28f5c723d3cc89f53": {
          "model_module": "@jupyter-widgets/controls",
          "model_name": "ProgressStyleModel",
          "model_module_version": "1.5.0",
          "state": {
            "_model_module": "@jupyter-widgets/controls",
            "_model_module_version": "1.5.0",
            "_model_name": "ProgressStyleModel",
            "_view_count": null,
            "_view_module": "@jupyter-widgets/base",
            "_view_module_version": "1.2.0",
            "_view_name": "StyleView",
            "bar_color": null,
            "description_width": ""
          }
        },
        "9ac19465b1184bc390a8a51bc262bf15": {
          "model_module": "@jupyter-widgets/base",
          "model_name": "LayoutModel",
          "model_module_version": "1.2.0",
          "state": {
            "_model_module": "@jupyter-widgets/base",
            "_model_module_version": "1.2.0",
            "_model_name": "LayoutModel",
            "_view_count": null,
            "_view_module": "@jupyter-widgets/base",
            "_view_module_version": "1.2.0",
            "_view_name": "LayoutView",
            "align_content": null,
            "align_items": null,
            "align_self": null,
            "border": null,
            "bottom": null,
            "display": null,
            "flex": null,
            "flex_flow": null,
            "grid_area": null,
            "grid_auto_columns": null,
            "grid_auto_flow": null,
            "grid_auto_rows": null,
            "grid_column": null,
            "grid_gap": null,
            "grid_row": null,
            "grid_template_areas": null,
            "grid_template_columns": null,
            "grid_template_rows": null,
            "height": null,
            "justify_content": null,
            "justify_items": null,
            "left": null,
            "margin": null,
            "max_height": null,
            "max_width": null,
            "min_height": null,
            "min_width": null,
            "object_fit": null,
            "object_position": null,
            "order": null,
            "overflow": null,
            "overflow_x": null,
            "overflow_y": null,
            "padding": null,
            "right": null,
            "top": null,
            "visibility": null,
            "width": null
          }
        },
        "819b7f40f1094bc094ca6eddda2d079b": {
          "model_module": "@jupyter-widgets/controls",
          "model_name": "DescriptionStyleModel",
          "model_module_version": "1.5.0",
          "state": {
            "_model_module": "@jupyter-widgets/controls",
            "_model_module_version": "1.5.0",
            "_model_name": "DescriptionStyleModel",
            "_view_count": null,
            "_view_module": "@jupyter-widgets/base",
            "_view_module_version": "1.2.0",
            "_view_name": "StyleView",
            "description_width": ""
          }
        },
        "230ec516de084b4ba74ec904bcfe9c88": {
          "model_module": "@jupyter-widgets/controls",
          "model_name": "HBoxModel",
          "model_module_version": "1.5.0",
          "state": {
            "_dom_classes": [],
            "_model_module": "@jupyter-widgets/controls",
            "_model_module_version": "1.5.0",
            "_model_name": "HBoxModel",
            "_view_count": null,
            "_view_module": "@jupyter-widgets/controls",
            "_view_module_version": "1.5.0",
            "_view_name": "HBoxView",
            "box_style": "",
            "children": [
              "IPY_MODEL_2358fa42339c43bb8694185e81ea7737",
              "IPY_MODEL_2da31aa91b4042b586f27e882583067b",
              "IPY_MODEL_8c52e90688c2498dbe66c98c04c11dee"
            ],
            "layout": "IPY_MODEL_06a87038c4d14708a4fe94b017d029be"
          }
        },
        "2358fa42339c43bb8694185e81ea7737": {
          "model_module": "@jupyter-widgets/controls",
          "model_name": "HTMLModel",
          "model_module_version": "1.5.0",
          "state": {
            "_dom_classes": [],
            "_model_module": "@jupyter-widgets/controls",
            "_model_module_version": "1.5.0",
            "_model_name": "HTMLModel",
            "_view_count": null,
            "_view_module": "@jupyter-widgets/controls",
            "_view_module_version": "1.5.0",
            "_view_name": "HTMLView",
            "description": "",
            "description_tooltip": null,
            "layout": "IPY_MODEL_5f157e7a75944798b470b0c4b5f5a3e2",
            "placeholder": "​",
            "style": "IPY_MODEL_d13dee691d054f83ab0397ced7106e58",
            "value": "vocab.txt: 100%"
          }
        },
        "2da31aa91b4042b586f27e882583067b": {
          "model_module": "@jupyter-widgets/controls",
          "model_name": "FloatProgressModel",
          "model_module_version": "1.5.0",
          "state": {
            "_dom_classes": [],
            "_model_module": "@jupyter-widgets/controls",
            "_model_module_version": "1.5.0",
            "_model_name": "FloatProgressModel",
            "_view_count": null,
            "_view_module": "@jupyter-widgets/controls",
            "_view_module_version": "1.5.0",
            "_view_name": "ProgressView",
            "bar_style": "success",
            "description": "",
            "description_tooltip": null,
            "layout": "IPY_MODEL_d03caa4edc5940d094953c097a1f9a94",
            "max": 231508,
            "min": 0,
            "orientation": "horizontal",
            "style": "IPY_MODEL_8ee8b23dad7c42138aac8ed5a0a83fe3",
            "value": 231508
          }
        },
        "8c52e90688c2498dbe66c98c04c11dee": {
          "model_module": "@jupyter-widgets/controls",
          "model_name": "HTMLModel",
          "model_module_version": "1.5.0",
          "state": {
            "_dom_classes": [],
            "_model_module": "@jupyter-widgets/controls",
            "_model_module_version": "1.5.0",
            "_model_name": "HTMLModel",
            "_view_count": null,
            "_view_module": "@jupyter-widgets/controls",
            "_view_module_version": "1.5.0",
            "_view_name": "HTMLView",
            "description": "",
            "description_tooltip": null,
            "layout": "IPY_MODEL_83aeb84b9ccb4f26b9f6b16c99c63b4f",
            "placeholder": "​",
            "style": "IPY_MODEL_90c80e66647a4a7d99c62db8e1cc087e",
            "value": " 232k/232k [00:00&lt;00:00, 2.78MB/s]"
          }
        },
        "06a87038c4d14708a4fe94b017d029be": {
          "model_module": "@jupyter-widgets/base",
          "model_name": "LayoutModel",
          "model_module_version": "1.2.0",
          "state": {
            "_model_module": "@jupyter-widgets/base",
            "_model_module_version": "1.2.0",
            "_model_name": "LayoutModel",
            "_view_count": null,
            "_view_module": "@jupyter-widgets/base",
            "_view_module_version": "1.2.0",
            "_view_name": "LayoutView",
            "align_content": null,
            "align_items": null,
            "align_self": null,
            "border": null,
            "bottom": null,
            "display": null,
            "flex": null,
            "flex_flow": null,
            "grid_area": null,
            "grid_auto_columns": null,
            "grid_auto_flow": null,
            "grid_auto_rows": null,
            "grid_column": null,
            "grid_gap": null,
            "grid_row": null,
            "grid_template_areas": null,
            "grid_template_columns": null,
            "grid_template_rows": null,
            "height": null,
            "justify_content": null,
            "justify_items": null,
            "left": null,
            "margin": null,
            "max_height": null,
            "max_width": null,
            "min_height": null,
            "min_width": null,
            "object_fit": null,
            "object_position": null,
            "order": null,
            "overflow": null,
            "overflow_x": null,
            "overflow_y": null,
            "padding": null,
            "right": null,
            "top": null,
            "visibility": null,
            "width": null
          }
        },
        "5f157e7a75944798b470b0c4b5f5a3e2": {
          "model_module": "@jupyter-widgets/base",
          "model_name": "LayoutModel",
          "model_module_version": "1.2.0",
          "state": {
            "_model_module": "@jupyter-widgets/base",
            "_model_module_version": "1.2.0",
            "_model_name": "LayoutModel",
            "_view_count": null,
            "_view_module": "@jupyter-widgets/base",
            "_view_module_version": "1.2.0",
            "_view_name": "LayoutView",
            "align_content": null,
            "align_items": null,
            "align_self": null,
            "border": null,
            "bottom": null,
            "display": null,
            "flex": null,
            "flex_flow": null,
            "grid_area": null,
            "grid_auto_columns": null,
            "grid_auto_flow": null,
            "grid_auto_rows": null,
            "grid_column": null,
            "grid_gap": null,
            "grid_row": null,
            "grid_template_areas": null,
            "grid_template_columns": null,
            "grid_template_rows": null,
            "height": null,
            "justify_content": null,
            "justify_items": null,
            "left": null,
            "margin": null,
            "max_height": null,
            "max_width": null,
            "min_height": null,
            "min_width": null,
            "object_fit": null,
            "object_position": null,
            "order": null,
            "overflow": null,
            "overflow_x": null,
            "overflow_y": null,
            "padding": null,
            "right": null,
            "top": null,
            "visibility": null,
            "width": null
          }
        },
        "d13dee691d054f83ab0397ced7106e58": {
          "model_module": "@jupyter-widgets/controls",
          "model_name": "DescriptionStyleModel",
          "model_module_version": "1.5.0",
          "state": {
            "_model_module": "@jupyter-widgets/controls",
            "_model_module_version": "1.5.0",
            "_model_name": "DescriptionStyleModel",
            "_view_count": null,
            "_view_module": "@jupyter-widgets/base",
            "_view_module_version": "1.2.0",
            "_view_name": "StyleView",
            "description_width": ""
          }
        },
        "d03caa4edc5940d094953c097a1f9a94": {
          "model_module": "@jupyter-widgets/base",
          "model_name": "LayoutModel",
          "model_module_version": "1.2.0",
          "state": {
            "_model_module": "@jupyter-widgets/base",
            "_model_module_version": "1.2.0",
            "_model_name": "LayoutModel",
            "_view_count": null,
            "_view_module": "@jupyter-widgets/base",
            "_view_module_version": "1.2.0",
            "_view_name": "LayoutView",
            "align_content": null,
            "align_items": null,
            "align_self": null,
            "border": null,
            "bottom": null,
            "display": null,
            "flex": null,
            "flex_flow": null,
            "grid_area": null,
            "grid_auto_columns": null,
            "grid_auto_flow": null,
            "grid_auto_rows": null,
            "grid_column": null,
            "grid_gap": null,
            "grid_row": null,
            "grid_template_areas": null,
            "grid_template_columns": null,
            "grid_template_rows": null,
            "height": null,
            "justify_content": null,
            "justify_items": null,
            "left": null,
            "margin": null,
            "max_height": null,
            "max_width": null,
            "min_height": null,
            "min_width": null,
            "object_fit": null,
            "object_position": null,
            "order": null,
            "overflow": null,
            "overflow_x": null,
            "overflow_y": null,
            "padding": null,
            "right": null,
            "top": null,
            "visibility": null,
            "width": null
          }
        },
        "8ee8b23dad7c42138aac8ed5a0a83fe3": {
          "model_module": "@jupyter-widgets/controls",
          "model_name": "ProgressStyleModel",
          "model_module_version": "1.5.0",
          "state": {
            "_model_module": "@jupyter-widgets/controls",
            "_model_module_version": "1.5.0",
            "_model_name": "ProgressStyleModel",
            "_view_count": null,
            "_view_module": "@jupyter-widgets/base",
            "_view_module_version": "1.2.0",
            "_view_name": "StyleView",
            "bar_color": null,
            "description_width": ""
          }
        },
        "83aeb84b9ccb4f26b9f6b16c99c63b4f": {
          "model_module": "@jupyter-widgets/base",
          "model_name": "LayoutModel",
          "model_module_version": "1.2.0",
          "state": {
            "_model_module": "@jupyter-widgets/base",
            "_model_module_version": "1.2.0",
            "_model_name": "LayoutModel",
            "_view_count": null,
            "_view_module": "@jupyter-widgets/base",
            "_view_module_version": "1.2.0",
            "_view_name": "LayoutView",
            "align_content": null,
            "align_items": null,
            "align_self": null,
            "border": null,
            "bottom": null,
            "display": null,
            "flex": null,
            "flex_flow": null,
            "grid_area": null,
            "grid_auto_columns": null,
            "grid_auto_flow": null,
            "grid_auto_rows": null,
            "grid_column": null,
            "grid_gap": null,
            "grid_row": null,
            "grid_template_areas": null,
            "grid_template_columns": null,
            "grid_template_rows": null,
            "height": null,
            "justify_content": null,
            "justify_items": null,
            "left": null,
            "margin": null,
            "max_height": null,
            "max_width": null,
            "min_height": null,
            "min_width": null,
            "object_fit": null,
            "object_position": null,
            "order": null,
            "overflow": null,
            "overflow_x": null,
            "overflow_y": null,
            "padding": null,
            "right": null,
            "top": null,
            "visibility": null,
            "width": null
          }
        },
        "90c80e66647a4a7d99c62db8e1cc087e": {
          "model_module": "@jupyter-widgets/controls",
          "model_name": "DescriptionStyleModel",
          "model_module_version": "1.5.0",
          "state": {
            "_model_module": "@jupyter-widgets/controls",
            "_model_module_version": "1.5.0",
            "_model_name": "DescriptionStyleModel",
            "_view_count": null,
            "_view_module": "@jupyter-widgets/base",
            "_view_module_version": "1.2.0",
            "_view_name": "StyleView",
            "description_width": ""
          }
        },
        "7963badf1bb34275811dc1f81a7c1948": {
          "model_module": "@jupyter-widgets/controls",
          "model_name": "HBoxModel",
          "model_module_version": "1.5.0",
          "state": {
            "_dom_classes": [],
            "_model_module": "@jupyter-widgets/controls",
            "_model_module_version": "1.5.0",
            "_model_name": "HBoxModel",
            "_view_count": null,
            "_view_module": "@jupyter-widgets/controls",
            "_view_module_version": "1.5.0",
            "_view_name": "HBoxView",
            "box_style": "",
            "children": [
              "IPY_MODEL_bf7d8f22472f4a959119bc9d706360bc",
              "IPY_MODEL_68539c1a37b648b4994001a5769be3da",
              "IPY_MODEL_21a41b3b95984cf19d1da0d0a11c6c5f"
            ],
            "layout": "IPY_MODEL_fb208f019d034f08a640b154c59c7a53"
          }
        },
        "bf7d8f22472f4a959119bc9d706360bc": {
          "model_module": "@jupyter-widgets/controls",
          "model_name": "HTMLModel",
          "model_module_version": "1.5.0",
          "state": {
            "_dom_classes": [],
            "_model_module": "@jupyter-widgets/controls",
            "_model_module_version": "1.5.0",
            "_model_name": "HTMLModel",
            "_view_count": null,
            "_view_module": "@jupyter-widgets/controls",
            "_view_module_version": "1.5.0",
            "_view_name": "HTMLView",
            "description": "",
            "description_tooltip": null,
            "layout": "IPY_MODEL_7c4352ed3df84de3ba0871b316757c80",
            "placeholder": "​",
            "style": "IPY_MODEL_e24569da4eaa4fa19248b178dd60e985",
            "value": "tokenizer.json: 100%"
          }
        },
        "68539c1a37b648b4994001a5769be3da": {
          "model_module": "@jupyter-widgets/controls",
          "model_name": "FloatProgressModel",
          "model_module_version": "1.5.0",
          "state": {
            "_dom_classes": [],
            "_model_module": "@jupyter-widgets/controls",
            "_model_module_version": "1.5.0",
            "_model_name": "FloatProgressModel",
            "_view_count": null,
            "_view_module": "@jupyter-widgets/controls",
            "_view_module_version": "1.5.0",
            "_view_name": "ProgressView",
            "bar_style": "success",
            "description": "",
            "description_tooltip": null,
            "layout": "IPY_MODEL_7e59c3a2037844ae969fa65a2faa25e6",
            "max": 466062,
            "min": 0,
            "orientation": "horizontal",
            "style": "IPY_MODEL_b6444c9f46e143cab804f52ad6d2bb78",
            "value": 466062
          }
        },
        "21a41b3b95984cf19d1da0d0a11c6c5f": {
          "model_module": "@jupyter-widgets/controls",
          "model_name": "HTMLModel",
          "model_module_version": "1.5.0",
          "state": {
            "_dom_classes": [],
            "_model_module": "@jupyter-widgets/controls",
            "_model_module_version": "1.5.0",
            "_model_name": "HTMLModel",
            "_view_count": null,
            "_view_module": "@jupyter-widgets/controls",
            "_view_module_version": "1.5.0",
            "_view_name": "HTMLView",
            "description": "",
            "description_tooltip": null,
            "layout": "IPY_MODEL_1e9ef34e18ff4a87bf32a9807bd6e1fc",
            "placeholder": "​",
            "style": "IPY_MODEL_d9fb4cded11b4fbd8d26ac2ae039778a",
            "value": " 466k/466k [00:00&lt;00:00, 2.33MB/s]"
          }
        },
        "fb208f019d034f08a640b154c59c7a53": {
          "model_module": "@jupyter-widgets/base",
          "model_name": "LayoutModel",
          "model_module_version": "1.2.0",
          "state": {
            "_model_module": "@jupyter-widgets/base",
            "_model_module_version": "1.2.0",
            "_model_name": "LayoutModel",
            "_view_count": null,
            "_view_module": "@jupyter-widgets/base",
            "_view_module_version": "1.2.0",
            "_view_name": "LayoutView",
            "align_content": null,
            "align_items": null,
            "align_self": null,
            "border": null,
            "bottom": null,
            "display": null,
            "flex": null,
            "flex_flow": null,
            "grid_area": null,
            "grid_auto_columns": null,
            "grid_auto_flow": null,
            "grid_auto_rows": null,
            "grid_column": null,
            "grid_gap": null,
            "grid_row": null,
            "grid_template_areas": null,
            "grid_template_columns": null,
            "grid_template_rows": null,
            "height": null,
            "justify_content": null,
            "justify_items": null,
            "left": null,
            "margin": null,
            "max_height": null,
            "max_width": null,
            "min_height": null,
            "min_width": null,
            "object_fit": null,
            "object_position": null,
            "order": null,
            "overflow": null,
            "overflow_x": null,
            "overflow_y": null,
            "padding": null,
            "right": null,
            "top": null,
            "visibility": null,
            "width": null
          }
        },
        "7c4352ed3df84de3ba0871b316757c80": {
          "model_module": "@jupyter-widgets/base",
          "model_name": "LayoutModel",
          "model_module_version": "1.2.0",
          "state": {
            "_model_module": "@jupyter-widgets/base",
            "_model_module_version": "1.2.0",
            "_model_name": "LayoutModel",
            "_view_count": null,
            "_view_module": "@jupyter-widgets/base",
            "_view_module_version": "1.2.0",
            "_view_name": "LayoutView",
            "align_content": null,
            "align_items": null,
            "align_self": null,
            "border": null,
            "bottom": null,
            "display": null,
            "flex": null,
            "flex_flow": null,
            "grid_area": null,
            "grid_auto_columns": null,
            "grid_auto_flow": null,
            "grid_auto_rows": null,
            "grid_column": null,
            "grid_gap": null,
            "grid_row": null,
            "grid_template_areas": null,
            "grid_template_columns": null,
            "grid_template_rows": null,
            "height": null,
            "justify_content": null,
            "justify_items": null,
            "left": null,
            "margin": null,
            "max_height": null,
            "max_width": null,
            "min_height": null,
            "min_width": null,
            "object_fit": null,
            "object_position": null,
            "order": null,
            "overflow": null,
            "overflow_x": null,
            "overflow_y": null,
            "padding": null,
            "right": null,
            "top": null,
            "visibility": null,
            "width": null
          }
        },
        "e24569da4eaa4fa19248b178dd60e985": {
          "model_module": "@jupyter-widgets/controls",
          "model_name": "DescriptionStyleModel",
          "model_module_version": "1.5.0",
          "state": {
            "_model_module": "@jupyter-widgets/controls",
            "_model_module_version": "1.5.0",
            "_model_name": "DescriptionStyleModel",
            "_view_count": null,
            "_view_module": "@jupyter-widgets/base",
            "_view_module_version": "1.2.0",
            "_view_name": "StyleView",
            "description_width": ""
          }
        },
        "7e59c3a2037844ae969fa65a2faa25e6": {
          "model_module": "@jupyter-widgets/base",
          "model_name": "LayoutModel",
          "model_module_version": "1.2.0",
          "state": {
            "_model_module": "@jupyter-widgets/base",
            "_model_module_version": "1.2.0",
            "_model_name": "LayoutModel",
            "_view_count": null,
            "_view_module": "@jupyter-widgets/base",
            "_view_module_version": "1.2.0",
            "_view_name": "LayoutView",
            "align_content": null,
            "align_items": null,
            "align_self": null,
            "border": null,
            "bottom": null,
            "display": null,
            "flex": null,
            "flex_flow": null,
            "grid_area": null,
            "grid_auto_columns": null,
            "grid_auto_flow": null,
            "grid_auto_rows": null,
            "grid_column": null,
            "grid_gap": null,
            "grid_row": null,
            "grid_template_areas": null,
            "grid_template_columns": null,
            "grid_template_rows": null,
            "height": null,
            "justify_content": null,
            "justify_items": null,
            "left": null,
            "margin": null,
            "max_height": null,
            "max_width": null,
            "min_height": null,
            "min_width": null,
            "object_fit": null,
            "object_position": null,
            "order": null,
            "overflow": null,
            "overflow_x": null,
            "overflow_y": null,
            "padding": null,
            "right": null,
            "top": null,
            "visibility": null,
            "width": null
          }
        },
        "b6444c9f46e143cab804f52ad6d2bb78": {
          "model_module": "@jupyter-widgets/controls",
          "model_name": "ProgressStyleModel",
          "model_module_version": "1.5.0",
          "state": {
            "_model_module": "@jupyter-widgets/controls",
            "_model_module_version": "1.5.0",
            "_model_name": "ProgressStyleModel",
            "_view_count": null,
            "_view_module": "@jupyter-widgets/base",
            "_view_module_version": "1.2.0",
            "_view_name": "StyleView",
            "bar_color": null,
            "description_width": ""
          }
        },
        "1e9ef34e18ff4a87bf32a9807bd6e1fc": {
          "model_module": "@jupyter-widgets/base",
          "model_name": "LayoutModel",
          "model_module_version": "1.2.0",
          "state": {
            "_model_module": "@jupyter-widgets/base",
            "_model_module_version": "1.2.0",
            "_model_name": "LayoutModel",
            "_view_count": null,
            "_view_module": "@jupyter-widgets/base",
            "_view_module_version": "1.2.0",
            "_view_name": "LayoutView",
            "align_content": null,
            "align_items": null,
            "align_self": null,
            "border": null,
            "bottom": null,
            "display": null,
            "flex": null,
            "flex_flow": null,
            "grid_area": null,
            "grid_auto_columns": null,
            "grid_auto_flow": null,
            "grid_auto_rows": null,
            "grid_column": null,
            "grid_gap": null,
            "grid_row": null,
            "grid_template_areas": null,
            "grid_template_columns": null,
            "grid_template_rows": null,
            "height": null,
            "justify_content": null,
            "justify_items": null,
            "left": null,
            "margin": null,
            "max_height": null,
            "max_width": null,
            "min_height": null,
            "min_width": null,
            "object_fit": null,
            "object_position": null,
            "order": null,
            "overflow": null,
            "overflow_x": null,
            "overflow_y": null,
            "padding": null,
            "right": null,
            "top": null,
            "visibility": null,
            "width": null
          }
        },
        "d9fb4cded11b4fbd8d26ac2ae039778a": {
          "model_module": "@jupyter-widgets/controls",
          "model_name": "DescriptionStyleModel",
          "model_module_version": "1.5.0",
          "state": {
            "_model_module": "@jupyter-widgets/controls",
            "_model_module_version": "1.5.0",
            "_model_name": "DescriptionStyleModel",
            "_view_count": null,
            "_view_module": "@jupyter-widgets/base",
            "_view_module_version": "1.2.0",
            "_view_name": "StyleView",
            "description_width": ""
          }
        },
        "90a3e915aefa49d6b3cd24cf7d7a4347": {
          "model_module": "@jupyter-widgets/controls",
          "model_name": "HBoxModel",
          "model_module_version": "1.5.0",
          "state": {
            "_dom_classes": [],
            "_model_module": "@jupyter-widgets/controls",
            "_model_module_version": "1.5.0",
            "_model_name": "HBoxModel",
            "_view_count": null,
            "_view_module": "@jupyter-widgets/controls",
            "_view_module_version": "1.5.0",
            "_view_name": "HBoxView",
            "box_style": "",
            "children": [
              "IPY_MODEL_c4436ed96dd54d83a1b6298cbbd9dfab",
              "IPY_MODEL_334c5bc9124748f28d4a76802e505e7d",
              "IPY_MODEL_c1ea08d3274a47fa827cb7726f5654ee"
            ],
            "layout": "IPY_MODEL_463486c8a39047ea9b44744577902a2f"
          }
        },
        "c4436ed96dd54d83a1b6298cbbd9dfab": {
          "model_module": "@jupyter-widgets/controls",
          "model_name": "HTMLModel",
          "model_module_version": "1.5.0",
          "state": {
            "_dom_classes": [],
            "_model_module": "@jupyter-widgets/controls",
            "_model_module_version": "1.5.0",
            "_model_name": "HTMLModel",
            "_view_count": null,
            "_view_module": "@jupyter-widgets/controls",
            "_view_module_version": "1.5.0",
            "_view_name": "HTMLView",
            "description": "",
            "description_tooltip": null,
            "layout": "IPY_MODEL_eb777bed122f4a6caf718973db996845",
            "placeholder": "​",
            "style": "IPY_MODEL_177989a2d60c455e978f231bdc02e36a",
            "value": "config.json: 100%"
          }
        },
        "334c5bc9124748f28d4a76802e505e7d": {
          "model_module": "@jupyter-widgets/controls",
          "model_name": "FloatProgressModel",
          "model_module_version": "1.5.0",
          "state": {
            "_dom_classes": [],
            "_model_module": "@jupyter-widgets/controls",
            "_model_module_version": "1.5.0",
            "_model_name": "FloatProgressModel",
            "_view_count": null,
            "_view_module": "@jupyter-widgets/controls",
            "_view_module_version": "1.5.0",
            "_view_name": "ProgressView",
            "bar_style": "success",
            "description": "",
            "description_tooltip": null,
            "layout": "IPY_MODEL_111e3b29e0bd443289fbb501d0da1036",
            "max": 570,
            "min": 0,
            "orientation": "horizontal",
            "style": "IPY_MODEL_1773dee3bd214328b5dc0402f91aebc7",
            "value": 570
          }
        },
        "c1ea08d3274a47fa827cb7726f5654ee": {
          "model_module": "@jupyter-widgets/controls",
          "model_name": "HTMLModel",
          "model_module_version": "1.5.0",
          "state": {
            "_dom_classes": [],
            "_model_module": "@jupyter-widgets/controls",
            "_model_module_version": "1.5.0",
            "_model_name": "HTMLModel",
            "_view_count": null,
            "_view_module": "@jupyter-widgets/controls",
            "_view_module_version": "1.5.0",
            "_view_name": "HTMLView",
            "description": "",
            "description_tooltip": null,
            "layout": "IPY_MODEL_b423252e6fa645a6a5a8a356bd2a100e",
            "placeholder": "​",
            "style": "IPY_MODEL_d8435f3d3f6f4d77bfb87d802fedf55f",
            "value": " 570/570 [00:00&lt;00:00, 12.1kB/s]"
          }
        },
        "463486c8a39047ea9b44744577902a2f": {
          "model_module": "@jupyter-widgets/base",
          "model_name": "LayoutModel",
          "model_module_version": "1.2.0",
          "state": {
            "_model_module": "@jupyter-widgets/base",
            "_model_module_version": "1.2.0",
            "_model_name": "LayoutModel",
            "_view_count": null,
            "_view_module": "@jupyter-widgets/base",
            "_view_module_version": "1.2.0",
            "_view_name": "LayoutView",
            "align_content": null,
            "align_items": null,
            "align_self": null,
            "border": null,
            "bottom": null,
            "display": null,
            "flex": null,
            "flex_flow": null,
            "grid_area": null,
            "grid_auto_columns": null,
            "grid_auto_flow": null,
            "grid_auto_rows": null,
            "grid_column": null,
            "grid_gap": null,
            "grid_row": null,
            "grid_template_areas": null,
            "grid_template_columns": null,
            "grid_template_rows": null,
            "height": null,
            "justify_content": null,
            "justify_items": null,
            "left": null,
            "margin": null,
            "max_height": null,
            "max_width": null,
            "min_height": null,
            "min_width": null,
            "object_fit": null,
            "object_position": null,
            "order": null,
            "overflow": null,
            "overflow_x": null,
            "overflow_y": null,
            "padding": null,
            "right": null,
            "top": null,
            "visibility": null,
            "width": null
          }
        },
        "eb777bed122f4a6caf718973db996845": {
          "model_module": "@jupyter-widgets/base",
          "model_name": "LayoutModel",
          "model_module_version": "1.2.0",
          "state": {
            "_model_module": "@jupyter-widgets/base",
            "_model_module_version": "1.2.0",
            "_model_name": "LayoutModel",
            "_view_count": null,
            "_view_module": "@jupyter-widgets/base",
            "_view_module_version": "1.2.0",
            "_view_name": "LayoutView",
            "align_content": null,
            "align_items": null,
            "align_self": null,
            "border": null,
            "bottom": null,
            "display": null,
            "flex": null,
            "flex_flow": null,
            "grid_area": null,
            "grid_auto_columns": null,
            "grid_auto_flow": null,
            "grid_auto_rows": null,
            "grid_column": null,
            "grid_gap": null,
            "grid_row": null,
            "grid_template_areas": null,
            "grid_template_columns": null,
            "grid_template_rows": null,
            "height": null,
            "justify_content": null,
            "justify_items": null,
            "left": null,
            "margin": null,
            "max_height": null,
            "max_width": null,
            "min_height": null,
            "min_width": null,
            "object_fit": null,
            "object_position": null,
            "order": null,
            "overflow": null,
            "overflow_x": null,
            "overflow_y": null,
            "padding": null,
            "right": null,
            "top": null,
            "visibility": null,
            "width": null
          }
        },
        "177989a2d60c455e978f231bdc02e36a": {
          "model_module": "@jupyter-widgets/controls",
          "model_name": "DescriptionStyleModel",
          "model_module_version": "1.5.0",
          "state": {
            "_model_module": "@jupyter-widgets/controls",
            "_model_module_version": "1.5.0",
            "_model_name": "DescriptionStyleModel",
            "_view_count": null,
            "_view_module": "@jupyter-widgets/base",
            "_view_module_version": "1.2.0",
            "_view_name": "StyleView",
            "description_width": ""
          }
        },
        "111e3b29e0bd443289fbb501d0da1036": {
          "model_module": "@jupyter-widgets/base",
          "model_name": "LayoutModel",
          "model_module_version": "1.2.0",
          "state": {
            "_model_module": "@jupyter-widgets/base",
            "_model_module_version": "1.2.0",
            "_model_name": "LayoutModel",
            "_view_count": null,
            "_view_module": "@jupyter-widgets/base",
            "_view_module_version": "1.2.0",
            "_view_name": "LayoutView",
            "align_content": null,
            "align_items": null,
            "align_self": null,
            "border": null,
            "bottom": null,
            "display": null,
            "flex": null,
            "flex_flow": null,
            "grid_area": null,
            "grid_auto_columns": null,
            "grid_auto_flow": null,
            "grid_auto_rows": null,
            "grid_column": null,
            "grid_gap": null,
            "grid_row": null,
            "grid_template_areas": null,
            "grid_template_columns": null,
            "grid_template_rows": null,
            "height": null,
            "justify_content": null,
            "justify_items": null,
            "left": null,
            "margin": null,
            "max_height": null,
            "max_width": null,
            "min_height": null,
            "min_width": null,
            "object_fit": null,
            "object_position": null,
            "order": null,
            "overflow": null,
            "overflow_x": null,
            "overflow_y": null,
            "padding": null,
            "right": null,
            "top": null,
            "visibility": null,
            "width": null
          }
        },
        "1773dee3bd214328b5dc0402f91aebc7": {
          "model_module": "@jupyter-widgets/controls",
          "model_name": "ProgressStyleModel",
          "model_module_version": "1.5.0",
          "state": {
            "_model_module": "@jupyter-widgets/controls",
            "_model_module_version": "1.5.0",
            "_model_name": "ProgressStyleModel",
            "_view_count": null,
            "_view_module": "@jupyter-widgets/base",
            "_view_module_version": "1.2.0",
            "_view_name": "StyleView",
            "bar_color": null,
            "description_width": ""
          }
        },
        "b423252e6fa645a6a5a8a356bd2a100e": {
          "model_module": "@jupyter-widgets/base",
          "model_name": "LayoutModel",
          "model_module_version": "1.2.0",
          "state": {
            "_model_module": "@jupyter-widgets/base",
            "_model_module_version": "1.2.0",
            "_model_name": "LayoutModel",
            "_view_count": null,
            "_view_module": "@jupyter-widgets/base",
            "_view_module_version": "1.2.0",
            "_view_name": "LayoutView",
            "align_content": null,
            "align_items": null,
            "align_self": null,
            "border": null,
            "bottom": null,
            "display": null,
            "flex": null,
            "flex_flow": null,
            "grid_area": null,
            "grid_auto_columns": null,
            "grid_auto_flow": null,
            "grid_auto_rows": null,
            "grid_column": null,
            "grid_gap": null,
            "grid_row": null,
            "grid_template_areas": null,
            "grid_template_columns": null,
            "grid_template_rows": null,
            "height": null,
            "justify_content": null,
            "justify_items": null,
            "left": null,
            "margin": null,
            "max_height": null,
            "max_width": null,
            "min_height": null,
            "min_width": null,
            "object_fit": null,
            "object_position": null,
            "order": null,
            "overflow": null,
            "overflow_x": null,
            "overflow_y": null,
            "padding": null,
            "right": null,
            "top": null,
            "visibility": null,
            "width": null
          }
        },
        "d8435f3d3f6f4d77bfb87d802fedf55f": {
          "model_module": "@jupyter-widgets/controls",
          "model_name": "DescriptionStyleModel",
          "model_module_version": "1.5.0",
          "state": {
            "_model_module": "@jupyter-widgets/controls",
            "_model_module_version": "1.5.0",
            "_model_name": "DescriptionStyleModel",
            "_view_count": null,
            "_view_module": "@jupyter-widgets/base",
            "_view_module_version": "1.2.0",
            "_view_name": "StyleView",
            "description_width": ""
          }
        },
        "7f10a8bd8ef146c2a4b51d32de80d5dd": {
          "model_module": "@jupyter-widgets/controls",
          "model_name": "HBoxModel",
          "model_module_version": "1.5.0",
          "state": {
            "_dom_classes": [],
            "_model_module": "@jupyter-widgets/controls",
            "_model_module_version": "1.5.0",
            "_model_name": "HBoxModel",
            "_view_count": null,
            "_view_module": "@jupyter-widgets/controls",
            "_view_module_version": "1.5.0",
            "_view_name": "HBoxView",
            "box_style": "",
            "children": [
              "IPY_MODEL_6aba376e4a594036add6b87c312392bd",
              "IPY_MODEL_f5e1f3353a6d4a24ae749cdf3d1eb22a",
              "IPY_MODEL_f56fca8b895c4d12bb9cd9d24b3661ae"
            ],
            "layout": "IPY_MODEL_46bbe124f02d4d0f874b95ecc72c74b3"
          }
        },
        "6aba376e4a594036add6b87c312392bd": {
          "model_module": "@jupyter-widgets/controls",
          "model_name": "HTMLModel",
          "model_module_version": "1.5.0",
          "state": {
            "_dom_classes": [],
            "_model_module": "@jupyter-widgets/controls",
            "_model_module_version": "1.5.0",
            "_model_name": "HTMLModel",
            "_view_count": null,
            "_view_module": "@jupyter-widgets/controls",
            "_view_module_version": "1.5.0",
            "_view_name": "HTMLView",
            "description": "",
            "description_tooltip": null,
            "layout": "IPY_MODEL_d48806ea5a7e429aa69004275aab265b",
            "placeholder": "​",
            "style": "IPY_MODEL_c0ee2547ef6c44059af10071e0945eb0",
            "value": "model.safetensors: 100%"
          }
        },
        "f5e1f3353a6d4a24ae749cdf3d1eb22a": {
          "model_module": "@jupyter-widgets/controls",
          "model_name": "FloatProgressModel",
          "model_module_version": "1.5.0",
          "state": {
            "_dom_classes": [],
            "_model_module": "@jupyter-widgets/controls",
            "_model_module_version": "1.5.0",
            "_model_name": "FloatProgressModel",
            "_view_count": null,
            "_view_module": "@jupyter-widgets/controls",
            "_view_module_version": "1.5.0",
            "_view_name": "ProgressView",
            "bar_style": "success",
            "description": "",
            "description_tooltip": null,
            "layout": "IPY_MODEL_27d2578f1c364ce5ab5e31fd36f9a926",
            "max": 440449768,
            "min": 0,
            "orientation": "horizontal",
            "style": "IPY_MODEL_5e7518dea4dc47f493435379c1c09360",
            "value": 440449768
          }
        },
        "f56fca8b895c4d12bb9cd9d24b3661ae": {
          "model_module": "@jupyter-widgets/controls",
          "model_name": "HTMLModel",
          "model_module_version": "1.5.0",
          "state": {
            "_dom_classes": [],
            "_model_module": "@jupyter-widgets/controls",
            "_model_module_version": "1.5.0",
            "_model_name": "HTMLModel",
            "_view_count": null,
            "_view_module": "@jupyter-widgets/controls",
            "_view_module_version": "1.5.0",
            "_view_name": "HTMLView",
            "description": "",
            "description_tooltip": null,
            "layout": "IPY_MODEL_fba6e64bdc0c4484b808c040d37f6bce",
            "placeholder": "​",
            "style": "IPY_MODEL_77267bea636144338a32c12af00a3d46",
            "value": " 440M/440M [00:03&lt;00:00, 152MB/s]"
          }
        },
        "46bbe124f02d4d0f874b95ecc72c74b3": {
          "model_module": "@jupyter-widgets/base",
          "model_name": "LayoutModel",
          "model_module_version": "1.2.0",
          "state": {
            "_model_module": "@jupyter-widgets/base",
            "_model_module_version": "1.2.0",
            "_model_name": "LayoutModel",
            "_view_count": null,
            "_view_module": "@jupyter-widgets/base",
            "_view_module_version": "1.2.0",
            "_view_name": "LayoutView",
            "align_content": null,
            "align_items": null,
            "align_self": null,
            "border": null,
            "bottom": null,
            "display": null,
            "flex": null,
            "flex_flow": null,
            "grid_area": null,
            "grid_auto_columns": null,
            "grid_auto_flow": null,
            "grid_auto_rows": null,
            "grid_column": null,
            "grid_gap": null,
            "grid_row": null,
            "grid_template_areas": null,
            "grid_template_columns": null,
            "grid_template_rows": null,
            "height": null,
            "justify_content": null,
            "justify_items": null,
            "left": null,
            "margin": null,
            "max_height": null,
            "max_width": null,
            "min_height": null,
            "min_width": null,
            "object_fit": null,
            "object_position": null,
            "order": null,
            "overflow": null,
            "overflow_x": null,
            "overflow_y": null,
            "padding": null,
            "right": null,
            "top": null,
            "visibility": null,
            "width": null
          }
        },
        "d48806ea5a7e429aa69004275aab265b": {
          "model_module": "@jupyter-widgets/base",
          "model_name": "LayoutModel",
          "model_module_version": "1.2.0",
          "state": {
            "_model_module": "@jupyter-widgets/base",
            "_model_module_version": "1.2.0",
            "_model_name": "LayoutModel",
            "_view_count": null,
            "_view_module": "@jupyter-widgets/base",
            "_view_module_version": "1.2.0",
            "_view_name": "LayoutView",
            "align_content": null,
            "align_items": null,
            "align_self": null,
            "border": null,
            "bottom": null,
            "display": null,
            "flex": null,
            "flex_flow": null,
            "grid_area": null,
            "grid_auto_columns": null,
            "grid_auto_flow": null,
            "grid_auto_rows": null,
            "grid_column": null,
            "grid_gap": null,
            "grid_row": null,
            "grid_template_areas": null,
            "grid_template_columns": null,
            "grid_template_rows": null,
            "height": null,
            "justify_content": null,
            "justify_items": null,
            "left": null,
            "margin": null,
            "max_height": null,
            "max_width": null,
            "min_height": null,
            "min_width": null,
            "object_fit": null,
            "object_position": null,
            "order": null,
            "overflow": null,
            "overflow_x": null,
            "overflow_y": null,
            "padding": null,
            "right": null,
            "top": null,
            "visibility": null,
            "width": null
          }
        },
        "c0ee2547ef6c44059af10071e0945eb0": {
          "model_module": "@jupyter-widgets/controls",
          "model_name": "DescriptionStyleModel",
          "model_module_version": "1.5.0",
          "state": {
            "_model_module": "@jupyter-widgets/controls",
            "_model_module_version": "1.5.0",
            "_model_name": "DescriptionStyleModel",
            "_view_count": null,
            "_view_module": "@jupyter-widgets/base",
            "_view_module_version": "1.2.0",
            "_view_name": "StyleView",
            "description_width": ""
          }
        },
        "27d2578f1c364ce5ab5e31fd36f9a926": {
          "model_module": "@jupyter-widgets/base",
          "model_name": "LayoutModel",
          "model_module_version": "1.2.0",
          "state": {
            "_model_module": "@jupyter-widgets/base",
            "_model_module_version": "1.2.0",
            "_model_name": "LayoutModel",
            "_view_count": null,
            "_view_module": "@jupyter-widgets/base",
            "_view_module_version": "1.2.0",
            "_view_name": "LayoutView",
            "align_content": null,
            "align_items": null,
            "align_self": null,
            "border": null,
            "bottom": null,
            "display": null,
            "flex": null,
            "flex_flow": null,
            "grid_area": null,
            "grid_auto_columns": null,
            "grid_auto_flow": null,
            "grid_auto_rows": null,
            "grid_column": null,
            "grid_gap": null,
            "grid_row": null,
            "grid_template_areas": null,
            "grid_template_columns": null,
            "grid_template_rows": null,
            "height": null,
            "justify_content": null,
            "justify_items": null,
            "left": null,
            "margin": null,
            "max_height": null,
            "max_width": null,
            "min_height": null,
            "min_width": null,
            "object_fit": null,
            "object_position": null,
            "order": null,
            "overflow": null,
            "overflow_x": null,
            "overflow_y": null,
            "padding": null,
            "right": null,
            "top": null,
            "visibility": null,
            "width": null
          }
        },
        "5e7518dea4dc47f493435379c1c09360": {
          "model_module": "@jupyter-widgets/controls",
          "model_name": "ProgressStyleModel",
          "model_module_version": "1.5.0",
          "state": {
            "_model_module": "@jupyter-widgets/controls",
            "_model_module_version": "1.5.0",
            "_model_name": "ProgressStyleModel",
            "_view_count": null,
            "_view_module": "@jupyter-widgets/base",
            "_view_module_version": "1.2.0",
            "_view_name": "StyleView",
            "bar_color": null,
            "description_width": ""
          }
        },
        "fba6e64bdc0c4484b808c040d37f6bce": {
          "model_module": "@jupyter-widgets/base",
          "model_name": "LayoutModel",
          "model_module_version": "1.2.0",
          "state": {
            "_model_module": "@jupyter-widgets/base",
            "_model_module_version": "1.2.0",
            "_model_name": "LayoutModel",
            "_view_count": null,
            "_view_module": "@jupyter-widgets/base",
            "_view_module_version": "1.2.0",
            "_view_name": "LayoutView",
            "align_content": null,
            "align_items": null,
            "align_self": null,
            "border": null,
            "bottom": null,
            "display": null,
            "flex": null,
            "flex_flow": null,
            "grid_area": null,
            "grid_auto_columns": null,
            "grid_auto_flow": null,
            "grid_auto_rows": null,
            "grid_column": null,
            "grid_gap": null,
            "grid_row": null,
            "grid_template_areas": null,
            "grid_template_columns": null,
            "grid_template_rows": null,
            "height": null,
            "justify_content": null,
            "justify_items": null,
            "left": null,
            "margin": null,
            "max_height": null,
            "max_width": null,
            "min_height": null,
            "min_width": null,
            "object_fit": null,
            "object_position": null,
            "order": null,
            "overflow": null,
            "overflow_x": null,
            "overflow_y": null,
            "padding": null,
            "right": null,
            "top": null,
            "visibility": null,
            "width": null
          }
        },
        "77267bea636144338a32c12af00a3d46": {
          "model_module": "@jupyter-widgets/controls",
          "model_name": "DescriptionStyleModel",
          "model_module_version": "1.5.0",
          "state": {
            "_model_module": "@jupyter-widgets/controls",
            "_model_module_version": "1.5.0",
            "_model_name": "DescriptionStyleModel",
            "_view_count": null,
            "_view_module": "@jupyter-widgets/base",
            "_view_module_version": "1.2.0",
            "_view_name": "StyleView",
            "description_width": ""
          }
        }
      }
    },
    "accelerator": "GPU"
  },
  "nbformat": 4,
  "nbformat_minor": 0
}